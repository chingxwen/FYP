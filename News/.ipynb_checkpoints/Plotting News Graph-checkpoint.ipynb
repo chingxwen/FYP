{
 "cells": [
  {
   "cell_type": "code",
   "execution_count": 1,
   "metadata": {},
   "outputs": [],
   "source": [
    "import matplotlib.pyplot as plt\n",
    "import pandas as pd\n",
    "from datetime import datetime"
   ]
  },
  {
   "cell_type": "code",
   "execution_count": 2,
   "metadata": {},
   "outputs": [
    {
     "name": "stdout",
     "output_type": "stream",
     "text": [
      "2019-10-31 00:00:00\n"
     ]
    }
   ],
   "source": [
    "df = pd.read_csv(\"Formatted_Data_Sentiment.csv\")\n",
    "\n",
    "senti = df[\"Sentiment\"]\n",
    "\n",
    "df[\"Date\"] = pd.to_datetime(df[\"Date\"], format = \"%Y/%m/%d\")\n",
    "date = df['Date']\n",
    "\n",
    "\n",
    "print(date[0])"
   ]
  },
  {
   "cell_type": "code",
   "execution_count": null,
   "metadata": {},
   "outputs": [],
   "source": [
    "start_date = input(\"Please input start date: \")\n",
    "converted_start_date = datetime.strptime(start_date, \"%Y/%m/%d\")\n",
    "end_date = input(\"Please input end date: \")\n",
    "converted_end_date = datetime.strptime(end_date, \"%Y/%m/%d\")\n",
    "\n",
    "print(type(converted_end_date))\n",
    "\n",
    "daterange = []\n",
    "sentirange = []\n",
    "\n",
    "for i in range(len(date)):\n",
    "    if date[i] >= converted_start_date and date[i] <= converted_end_date:\n",
    "#         print(date[i])\n",
    "        daterange.append(date[i])\n",
    "        sentirange.append(senti[i])\n",
    "print(len(daterange))"
   ]
  },
  {
   "cell_type": "code",
   "execution_count": null,
   "metadata": {},
   "outputs": [],
   "source": [
    "#Graph to show the relationship between the said date and the sentiments of the articles in the range \n",
    "\n",
    "plt.plot(daterange, sentirange, 'ro-')\n",
    "# plt.ylim(-10,80)\n",
    "\n",
    "fig_size = plt.rcParams[\"figure.figsize\"]\n",
    "fig_size[0] = 20\n",
    "fig_size[1] = 10\n",
    "plt.rcParams[\"figure.figsize\"] = fig_size\n",
    "\n",
    "plt.title = \"Sentiments vs Date\"\n",
    "\n",
    "plt.xlabel('Date')\n",
    "plt.ylabel('Sentiments In Each Article')\n",
    "\n",
    "\n",
    "plt.show()"
   ]
  },
  {
   "cell_type": "code",
   "execution_count": null,
   "metadata": {},
   "outputs": [],
   "source": [
    "pos_art = 0\n",
    "neg_art = 0\n",
    "\n",
    "for num in senti:\n",
    "    if num > 0:\n",
    "        pos_art += 1\n",
    "    elif num < 0:\n",
    "        neg_art += 1\n",
    "    else:\n",
    "        pass\n",
    "neu_art = len(senti) - pos_art - neg_art\n",
    "print(\"Out Of {} Articles, {} Are Positive , {} Are Negative And {} Is/Are Neutral\"\n",
    "      .format(len(senti), pos_art, neg_art, neu_art))"
   ]
  },
  {
   "cell_type": "code",
   "execution_count": null,
   "metadata": {},
   "outputs": [],
   "source": [
    "#Piechart\n",
    "\n",
    "labels = [\"Positive\", \"Negative\", \"Neutral\"]\n",
    "size = [pos_art, neg_art, neu_art]\n",
    "colors = ['#2CCDBD', '#FFA500', '#CD2C7D']\n",
    "\n",
    "fig_size = plt.rcParams[\"figure.figsize\"]\n",
    "fig_size[0] = 10\n",
    "fig_size[1] = 5\n",
    "\n",
    "plt.pie(size, labels = labels, colors = colors, autopct='%1.1f%%', startangle=90)\n",
    "\n",
    "plt.show()"
   ]
  }
 ],
 "metadata": {
  "kernelspec": {
   "display_name": "Python 3",
   "language": "python",
   "name": "python3"
  },
  "language_info": {
   "codemirror_mode": {
    "name": "ipython",
    "version": 3
   },
   "file_extension": ".py",
   "mimetype": "text/x-python",
   "name": "python",
   "nbconvert_exporter": "python",
   "pygments_lexer": "ipython3",
   "version": "3.7.4"
  }
 },
 "nbformat": 4,
 "nbformat_minor": 2
}
