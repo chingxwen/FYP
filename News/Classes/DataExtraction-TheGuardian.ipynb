{
 "cells": [
  {
   "cell_type": "code",
   "execution_count": null,
   "metadata": {},
   "outputs": [],
   "source": [
    "import pprint\n",
    "import requests\n",
    "import pandas as pd\n",
    "from goose3 import Goose"
   ]
  },
  {
   "cell_type": "code",
   "execution_count": null,
   "metadata": {},
   "outputs": [],
   "source": [
    "api_key = '9c31513f-beb6-4aac-86ee-0b1320f2860b'\n",
    "\n",
    "url = 'https://content.guardianapis.com/search?'"
   ]
  },
  {
   "cell_type": "code",
   "execution_count": null,
   "metadata": {},
   "outputs": [],
   "source": [
    "query = str(input(\"Query: \"))\n",
    "fromdate = str(input(\"From Date: \"))\n",
    "todate = str(input(\"To Date: \"))\n",
    "page = str(input(\"Page Number: \"))"
   ]
  },
  {
   "cell_type": "code",
   "execution_count": null,
   "metadata": {},
   "outputs": [],
   "source": [
    "parameters = {\n",
    "    'q': query,\n",
    "    'from-date': fromdate,\n",
    "    'to-date': todate,\n",
    "    'order-by': 'newest',\n",
    "    'page-size': 200, #200 max\n",
    "    'page': page,\n",
    "    'api-key': api_key\n",
    "}"
   ]
  },
  {
   "cell_type": "code",
   "execution_count": null,
   "metadata": {},
   "outputs": [],
   "source": [
    "response = requests.get(url, params=parameters)\n",
    "\n",
    "response_json = response.json()['response']['results']"
   ]
  },
  {
   "cell_type": "code",
   "execution_count": null,
   "metadata": {},
   "outputs": [],
   "source": [
    "g = Goose()\n",
    "\n",
    "df = pd.DataFrame(columns =('Section', 'Title', 'URL', 'Date', 'Text'))\n",
    "i = 0\n",
    "for article in response_json:\n",
    "    i = i + 1\n",
    "    section = article['sectionName']\n",
    "    title = article['webTitle']\n",
    "    url = article['webUrl']\n",
    "    date = article['webPublicationDate']\n",
    "    text = g.extract(url=url)\n",
    "    text = text.cleaned_text\n",
    "    df.loc[i] = section, title, url, date, text"
   ]
  },
  {
   "cell_type": "code",
   "execution_count": null,
   "metadata": {},
   "outputs": [],
   "source": [
    "export_csv = input(\"Do you want to export the data to a csv file? Yes or No? \")\n",
    "\n",
    "if export_csv.upper() ==\"YES\":\n",
    "    df.to_csv(\"TheGuardianData2.csv\", index=False)\n",
    "else: \n",
    "    print(df['Title'])"
   ]
  },
  {
   "cell_type": "code",
   "execution_count": null,
   "metadata": {},
   "outputs": [],
   "source": [
    "a = pd.read_csv(\"TheGuardianData.csv\")\n",
    "b = pd.read_csv(\"TheGuardianData2.csv\")\n",
    "c = pd.concat([a, b], ignore_index= True)\n",
    "\n",
    "c.to_csv(\"TheGuardianDataFinal.csv\", index=False)"
   ]
  }
 ],
 "metadata": {
  "kernelspec": {
   "display_name": "Python 3",
   "language": "python",
   "name": "python3"
  },
  "language_info": {
   "codemirror_mode": {
    "name": "ipython",
    "version": 3
   },
   "file_extension": ".py",
   "mimetype": "text/x-python",
   "name": "python",
   "nbconvert_exporter": "python",
   "pygments_lexer": "ipython3",
   "version": "3.7.4"
  }
 },
 "nbformat": 4,
 "nbformat_minor": 2
}
