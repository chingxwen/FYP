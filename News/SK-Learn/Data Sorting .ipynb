{
 "cells": [
  {
   "cell_type": "code",
   "execution_count": null,
   "metadata": {},
   "outputs": [],
   "source": [
    "import pandas as pd\n"
   ]
  },
  {
   "cell_type": "code",
   "execution_count": null,
   "metadata": {},
   "outputs": [],
   "source": [
    "df = pd.read_csv(r\"C:\\Users\\Jurgen\\Desktop\\FYP\\News\\NLP Scripts\\TextblobSentiment.csv\")\n",
    "df = df.drop(columns = \"Unnamed: 0\")"
   ]
  },
  {
   "cell_type": "code",
   "execution_count": null,
   "metadata": {},
   "outputs": [],
   "source": [
    "Polarity = []\n",
    "for sentiment in df.Senti:\n",
    "    if sentiment > 0:\n",
    "        Polarity.append(1)\n",
    "    elif sentiment < 0:\n",
    "        Polarity.append(-1)\n",
    "GeneralSenti = pd.DataFrame(Polarity, columns = [\"General_Sentiment\"])\n",
    "df = pd.concat([df, GeneralSenti], axis = 1)"
   ]
  },
  {
   "cell_type": "code",
   "execution_count": null,
   "metadata": {},
   "outputs": [],
   "source": [
    "df[\"Date\"] = pd.to_datetime(df[\"Date\"]).dt.strftime('%d-%m-%Y')\n",
    "df = df.set_index(\"Date\").sort_values(by='Date', ascending=True)\n",
    "df"
   ]
  },
  {
   "cell_type": "code",
   "execution_count": null,
   "metadata": {},
   "outputs": [],
   "source": [
    "for i in range(len(df)):\n",
    "    if df.Senti.iloc[i] < 0:\n",
    "        print(\"Sentiment : {:.2f} {}\".format(df.Senti.iloc[i], df[\"General_Sentiment\"].iloc[i]))\n",
    "    if df.Senti.iloc[i] > 0:\n",
    "        print(\"Sentiment : {:.2f} {}\".format(df.Senti.iloc[i], df[\"General_Sentiment\"].iloc[i]))"
   ]
  },
  {
   "cell_type": "code",
   "execution_count": null,
   "metadata": {},
   "outputs": [],
   "source": [
    "unique_dates = df.index.unique()"
   ]
  },
  {
   "cell_type": "code",
   "execution_count": null,
   "metadata": {},
   "outputs": [],
   "source": [
    "for i in range(len(df)):\n",
    "    for date in unique_dates:\n",
    "        if date == df.index[i]:\n",
    "            print(date)"
   ]
  },
  {
   "cell_type": "code",
   "execution_count": null,
   "metadata": {},
   "outputs": [],
   "source": [
    "Senti_Per_Day = df.groupby('Date').General_Sentiment.sum()"
   ]
  },
  {
   "cell_type": "code",
   "execution_count": null,
   "metadata": {},
   "outputs": [],
   "source": [
    "Senti_Per_Day.to_csv(r\"C:\\Users\\Jurgen\\Desktop\\FYP\\News\\SK-Learn\\SentimentPerDay.csv\")"
   ]
  }
 ],
 "metadata": {
  "kernelspec": {
   "display_name": "Python 3",
   "language": "python",
   "name": "python3"
  },
  "language_info": {
   "codemirror_mode": {
    "name": "ipython",
    "version": 3
   },
   "file_extension": ".py",
   "mimetype": "text/x-python",
   "name": "python",
   "nbconvert_exporter": "python",
   "pygments_lexer": "ipython3",
   "version": "3.7.4"
  }
 },
 "nbformat": 4,
 "nbformat_minor": 2
}
