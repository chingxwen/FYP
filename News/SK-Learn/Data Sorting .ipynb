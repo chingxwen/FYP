{
 "cells": [
  {
   "cell_type": "code",
   "execution_count": 1,
   "metadata": {},
   "outputs": [],
   "source": [
    "import pandas as pd\n"
   ]
  },
  {
   "cell_type": "code",
   "execution_count": 13,
   "metadata": {},
   "outputs": [
    {
     "data": {
      "text/plain": [
       "Date\n",
       "2018-07-03   -0.013258\n",
       "2018-07-13    0.070484\n",
       "2018-07-19    0.033616\n",
       "2018-07-23    0.123651\n",
       "2018-07-28    0.323089\n",
       "                ...   \n",
       "2019-10-28    0.107508\n",
       "2019-10-29    0.182226\n",
       "2019-10-29    0.097556\n",
       "2019-10-31    0.057489\n",
       "2019-10-31    0.156981\n",
       "Name: Senti, Length: 201, dtype: float64"
      ]
     },
     "execution_count": 13,
     "metadata": {},
     "output_type": "execute_result"
    }
   ],
   "source": [
    "df = pd.read_csv(r\"C:\\Users\\Jurgen\\Desktop\\FYP\\News\\NLP Scripts\\TextblobSentiment.csv\")\n",
    "df = df.drop(columns = \"Unnamed: 0\")\n",
    "df[\"Date\"] = pd.to_datetime(df[\"Date\"]).dt.date\n",
    "df = df.set_index(\"Date\").sort_values(by='Date', ascending=True)\n",
    "df.Senti"
   ]
  },
  {
   "cell_type": "code",
   "execution_count": null,
   "metadata": {},
   "outputs": [],
   "source": [
    "# Polarity = []\n",
    "# for sentiment in df.Senti:\n",
    "#     if sentiment > 0:\n",
    "#         Polarity.append(1)\n",
    "#     elif sentiment < 0:\n",
    "#         Polarity.append(-1)\n",
    "# GeneralSenti = pd.DataFrame(Polarity, columns = [\"General_Sentiment\"])\n",
    "# df = pd.concat([df, GeneralSenti], axis = 1)"
   ]
  },
  {
   "cell_type": "code",
   "execution_count": 14,
   "metadata": {},
   "outputs": [],
   "source": [
    "Senti_Per_Day = df.groupby('Date').Senti.mean()"
   ]
  },
  {
   "cell_type": "code",
   "execution_count": 15,
   "metadata": {},
   "outputs": [
    {
     "data": {
      "text/plain": [
       "Date\n",
       "2018-07-03   -0.013258\n",
       "2018-07-13    0.070484\n",
       "2018-07-19    0.033616\n",
       "2018-07-23    0.123651\n",
       "2018-07-28    0.323089\n",
       "                ...   \n",
       "2019-10-23    0.202612\n",
       "2019-10-24    0.112101\n",
       "2019-10-28    0.107508\n",
       "2019-10-29    0.139891\n",
       "2019-10-31    0.107235\n",
       "Name: Senti, Length: 157, dtype: float64"
      ]
     },
     "execution_count": 15,
     "metadata": {},
     "output_type": "execute_result"
    }
   ],
   "source": [
    "Senti_Per_Day"
   ]
  },
  {
   "cell_type": "code",
   "execution_count": 16,
   "metadata": {},
   "outputs": [
    {
     "data": {
      "text/html": [
       "<div>\n",
       "<style scoped>\n",
       "    .dataframe tbody tr th:only-of-type {\n",
       "        vertical-align: middle;\n",
       "    }\n",
       "\n",
       "    .dataframe tbody tr th {\n",
       "        vertical-align: top;\n",
       "    }\n",
       "\n",
       "    .dataframe thead th {\n",
       "        text-align: right;\n",
       "    }\n",
       "</style>\n",
       "<table border=\"1\" class=\"dataframe\">\n",
       "  <thead>\n",
       "    <tr style=\"text-align: right;\">\n",
       "      <th></th>\n",
       "    </tr>\n",
       "    <tr>\n",
       "      <th>Date</th>\n",
       "    </tr>\n",
       "  </thead>\n",
       "  <tbody>\n",
       "    <tr>\n",
       "      <td>2018-07-01</td>\n",
       "    </tr>\n",
       "    <tr>\n",
       "      <td>2018-07-02</td>\n",
       "    </tr>\n",
       "    <tr>\n",
       "      <td>2018-07-03</td>\n",
       "    </tr>\n",
       "    <tr>\n",
       "      <td>2018-07-04</td>\n",
       "    </tr>\n",
       "    <tr>\n",
       "      <td>2018-07-05</td>\n",
       "    </tr>\n",
       "    <tr>\n",
       "      <td>...</td>\n",
       "    </tr>\n",
       "    <tr>\n",
       "      <td>2019-10-27</td>\n",
       "    </tr>\n",
       "    <tr>\n",
       "      <td>2019-10-28</td>\n",
       "    </tr>\n",
       "    <tr>\n",
       "      <td>2019-10-29</td>\n",
       "    </tr>\n",
       "    <tr>\n",
       "      <td>2019-10-30</td>\n",
       "    </tr>\n",
       "    <tr>\n",
       "      <td>2019-10-31</td>\n",
       "    </tr>\n",
       "  </tbody>\n",
       "</table>\n",
       "<p>488 rows × 0 columns</p>\n",
       "</div>"
      ],
      "text/plain": [
       "Empty DataFrame\n",
       "Columns: []\n",
       "Index: [2018-07-01, 2018-07-02, 2018-07-03, 2018-07-04, 2018-07-05, 2018-07-06, 2018-07-07, 2018-07-08, 2018-07-09, 2018-07-10, 2018-07-11, 2018-07-12, 2018-07-13, 2018-07-14, 2018-07-15, 2018-07-16, 2018-07-17, 2018-07-18, 2018-07-19, 2018-07-20, 2018-07-21, 2018-07-22, 2018-07-23, 2018-07-24, 2018-07-25, 2018-07-26, 2018-07-27, 2018-07-28, 2018-07-29, 2018-07-30, 2018-07-31, 2018-08-01, 2018-08-02, 2018-08-03, 2018-08-04, 2018-08-05, 2018-08-06, 2018-08-07, 2018-08-08, 2018-08-09, 2018-08-10, 2018-08-11, 2018-08-12, 2018-08-13, 2018-08-14, 2018-08-15, 2018-08-16, 2018-08-17, 2018-08-18, 2018-08-19, 2018-08-20, 2018-08-21, 2018-08-22, 2018-08-23, 2018-08-24, 2018-08-25, 2018-08-26, 2018-08-27, 2018-08-28, 2018-08-29, 2018-08-30, 2018-08-31, 2018-09-01, 2018-09-02, 2018-09-03, 2018-09-04, 2018-09-05, 2018-09-06, 2018-09-07, 2018-09-08, 2018-09-09, 2018-09-10, 2018-09-11, 2018-09-12, 2018-09-13, 2018-09-14, 2018-09-15, 2018-09-16, 2018-09-17, 2018-09-18, 2018-09-19, 2018-09-20, 2018-09-21, 2018-09-22, 2018-09-23, 2018-09-24, 2018-09-25, 2018-09-26, 2018-09-27, 2018-09-28, 2018-09-29, 2018-09-30, 2018-10-01, 2018-10-02, 2018-10-03, 2018-10-04, 2018-10-05, 2018-10-06, 2018-10-07, 2018-10-08, ...]\n",
       "\n",
       "[488 rows x 0 columns]"
      ]
     },
     "execution_count": 16,
     "metadata": {},
     "output_type": "execute_result"
    }
   ],
   "source": [
    "import datetime\n",
    "start_date = datetime.date(2018, 7, 1)\n",
    "end_date = datetime.date(2019, 10, 31)\n",
    "mydates = pd.date_range(start_date, end_date).tolist()\n",
    "dates = pd.DataFrame(mydates, columns = [\"Date\"])\n",
    "dates[\"Date\"] = dates[\"Date\"].dt.date\n",
    "# dates[\"Senti\"] = 0\n",
    "dates.set_index(\"Date\").sort_values(by='Date', ascending=True)"
   ]
  },
  {
   "cell_type": "code",
   "execution_count": 17,
   "metadata": {},
   "outputs": [],
   "source": [
    "Senti_Running_Dates = dates.join(Senti_Per_Day, on = \"Date\")\n",
    "# Senti_Running_Dates = Senti_Running_Dates.fillna(avg)\n",
    "# Senti_Running_Dates.to_csv(r\"C:\\Users\\Jurgen\\Desktop\\FYP\\News\\SK-Learn\\SentimentPerDay.csv\")"
   ]
  },
  {
   "cell_type": "code",
   "execution_count": 18,
   "metadata": {},
   "outputs": [],
   "source": [
    "Senti_Running_Dates = Senti_Running_Dates.rename(columns = {\"Senti\" : \"News_Senti\"}).set_index(\"Date\").sort_values(by='Date', ascending=True)\n"
   ]
  },
  {
   "cell_type": "code",
   "execution_count": 19,
   "metadata": {},
   "outputs": [
    {
     "data": {
      "text/html": [
       "<div>\n",
       "<style scoped>\n",
       "    .dataframe tbody tr th:only-of-type {\n",
       "        vertical-align: middle;\n",
       "    }\n",
       "\n",
       "    .dataframe tbody tr th {\n",
       "        vertical-align: top;\n",
       "    }\n",
       "\n",
       "    .dataframe thead th {\n",
       "        text-align: right;\n",
       "    }\n",
       "</style>\n",
       "<table border=\"1\" class=\"dataframe\">\n",
       "  <thead>\n",
       "    <tr style=\"text-align: right;\">\n",
       "      <th></th>\n",
       "      <th>News_Senti</th>\n",
       "    </tr>\n",
       "    <tr>\n",
       "      <th>Date</th>\n",
       "      <th></th>\n",
       "    </tr>\n",
       "  </thead>\n",
       "  <tbody>\n",
       "    <tr>\n",
       "      <td>2018-07-01</td>\n",
       "      <td>NaN</td>\n",
       "    </tr>\n",
       "    <tr>\n",
       "      <td>2018-07-02</td>\n",
       "      <td>NaN</td>\n",
       "    </tr>\n",
       "    <tr>\n",
       "      <td>2018-07-03</td>\n",
       "      <td>-0.013258</td>\n",
       "    </tr>\n",
       "    <tr>\n",
       "      <td>2018-07-04</td>\n",
       "      <td>NaN</td>\n",
       "    </tr>\n",
       "    <tr>\n",
       "      <td>2018-07-05</td>\n",
       "      <td>NaN</td>\n",
       "    </tr>\n",
       "    <tr>\n",
       "      <td>...</td>\n",
       "      <td>...</td>\n",
       "    </tr>\n",
       "    <tr>\n",
       "      <td>2019-10-27</td>\n",
       "      <td>NaN</td>\n",
       "    </tr>\n",
       "    <tr>\n",
       "      <td>2019-10-28</td>\n",
       "      <td>0.107508</td>\n",
       "    </tr>\n",
       "    <tr>\n",
       "      <td>2019-10-29</td>\n",
       "      <td>0.139891</td>\n",
       "    </tr>\n",
       "    <tr>\n",
       "      <td>2019-10-30</td>\n",
       "      <td>NaN</td>\n",
       "    </tr>\n",
       "    <tr>\n",
       "      <td>2019-10-31</td>\n",
       "      <td>0.107235</td>\n",
       "    </tr>\n",
       "  </tbody>\n",
       "</table>\n",
       "<p>488 rows × 1 columns</p>\n",
       "</div>"
      ],
      "text/plain": [
       "            News_Senti\n",
       "Date                  \n",
       "2018-07-01         NaN\n",
       "2018-07-02         NaN\n",
       "2018-07-03   -0.013258\n",
       "2018-07-04         NaN\n",
       "2018-07-05         NaN\n",
       "...                ...\n",
       "2019-10-27         NaN\n",
       "2019-10-28    0.107508\n",
       "2019-10-29    0.139891\n",
       "2019-10-30         NaN\n",
       "2019-10-31    0.107235\n",
       "\n",
       "[488 rows x 1 columns]"
      ]
     },
     "execution_count": 19,
     "metadata": {},
     "output_type": "execute_result"
    }
   ],
   "source": [
    "Senti_Running_Dates"
   ]
  },
  {
   "cell_type": "code",
   "execution_count": 20,
   "metadata": {},
   "outputs": [],
   "source": [
    "Stock_Diff = pd.read_csv(r\"C:\\Users\\Jurgen\\Desktop\\FYP\\Stock\\StockDifference.csv\")\n",
    "\n",
    "Stock_Diff[\"Date\"] = pd.to_datetime(Stock_Diff[\"Date\"]).dt.date\n",
    "Stock_Diff = Stock_Diff.set_index(\"Date\")"
   ]
  },
  {
   "cell_type": "code",
   "execution_count": 21,
   "metadata": {},
   "outputs": [
    {
     "data": {
      "text/html": [
       "<div>\n",
       "<style scoped>\n",
       "    .dataframe tbody tr th:only-of-type {\n",
       "        vertical-align: middle;\n",
       "    }\n",
       "\n",
       "    .dataframe tbody tr th {\n",
       "        vertical-align: top;\n",
       "    }\n",
       "\n",
       "    .dataframe thead th {\n",
       "        text-align: right;\n",
       "    }\n",
       "</style>\n",
       "<table border=\"1\" class=\"dataframe\">\n",
       "  <thead>\n",
       "    <tr style=\"text-align: right;\">\n",
       "      <th></th>\n",
       "      <th>Close_USD</th>\n",
       "      <th>Stock_Difference</th>\n",
       "    </tr>\n",
       "    <tr>\n",
       "      <th>Date</th>\n",
       "      <th></th>\n",
       "      <th></th>\n",
       "    </tr>\n",
       "  </thead>\n",
       "  <tbody>\n",
       "    <tr>\n",
       "      <td>2018-07-02</td>\n",
       "      <td>40.660223</td>\n",
       "      <td>0.007702</td>\n",
       "    </tr>\n",
       "    <tr>\n",
       "      <td>2018-07-03</td>\n",
       "      <td>41.472320</td>\n",
       "      <td>0.812097</td>\n",
       "    </tr>\n",
       "    <tr>\n",
       "      <td>2018-07-04</td>\n",
       "      <td>41.380457</td>\n",
       "      <td>-0.091864</td>\n",
       "    </tr>\n",
       "    <tr>\n",
       "      <td>2018-07-05</td>\n",
       "      <td>41.099746</td>\n",
       "      <td>-0.280711</td>\n",
       "    </tr>\n",
       "    <tr>\n",
       "      <td>2018-07-06</td>\n",
       "      <td>40.155585</td>\n",
       "      <td>-0.944160</td>\n",
       "    </tr>\n",
       "    <tr>\n",
       "      <td>...</td>\n",
       "      <td>...</td>\n",
       "      <td>...</td>\n",
       "    </tr>\n",
       "    <tr>\n",
       "      <td>2019-10-25</td>\n",
       "      <td>43.325872</td>\n",
       "      <td>0.103882</td>\n",
       "    </tr>\n",
       "    <tr>\n",
       "      <td>2019-10-28</td>\n",
       "      <td>43.848824</td>\n",
       "      <td>0.522953</td>\n",
       "    </tr>\n",
       "    <tr>\n",
       "      <td>2019-10-29</td>\n",
       "      <td>43.751215</td>\n",
       "      <td>-0.097609</td>\n",
       "    </tr>\n",
       "    <tr>\n",
       "      <td>2019-10-30</td>\n",
       "      <td>43.149714</td>\n",
       "      <td>-0.601502</td>\n",
       "    </tr>\n",
       "    <tr>\n",
       "      <td>2019-10-31</td>\n",
       "      <td>43.147943</td>\n",
       "      <td>-0.001771</td>\n",
       "    </tr>\n",
       "  </tbody>\n",
       "</table>\n",
       "<p>323 rows × 2 columns</p>\n",
       "</div>"
      ],
      "text/plain": [
       "            Close_USD  Stock_Difference\n",
       "Date                                   \n",
       "2018-07-02  40.660223          0.007702\n",
       "2018-07-03  41.472320          0.812097\n",
       "2018-07-04  41.380457         -0.091864\n",
       "2018-07-05  41.099746         -0.280711\n",
       "2018-07-06  40.155585         -0.944160\n",
       "...               ...               ...\n",
       "2019-10-25  43.325872          0.103882\n",
       "2019-10-28  43.848824          0.522953\n",
       "2019-10-29  43.751215         -0.097609\n",
       "2019-10-30  43.149714         -0.601502\n",
       "2019-10-31  43.147943         -0.001771\n",
       "\n",
       "[323 rows x 2 columns]"
      ]
     },
     "execution_count": 21,
     "metadata": {},
     "output_type": "execute_result"
    }
   ],
   "source": [
    "Stock_Diff"
   ]
  },
  {
   "cell_type": "code",
   "execution_count": 22,
   "metadata": {},
   "outputs": [],
   "source": [
    "News_Stock = Senti_Running_Dates.join(Stock_Diff, lsuffix='Date', rsuffix='Date', on = \"Date\")"
   ]
  },
  {
   "cell_type": "code",
   "execution_count": 23,
   "metadata": {},
   "outputs": [],
   "source": [
    "News_Stock.to_csv(\"News_Stock_Data.csv\")"
   ]
  },
  {
   "cell_type": "code",
   "execution_count": 24,
   "metadata": {},
   "outputs": [
    {
     "data": {
      "text/html": [
       "<div>\n",
       "<style scoped>\n",
       "    .dataframe tbody tr th:only-of-type {\n",
       "        vertical-align: middle;\n",
       "    }\n",
       "\n",
       "    .dataframe tbody tr th {\n",
       "        vertical-align: top;\n",
       "    }\n",
       "\n",
       "    .dataframe thead th {\n",
       "        text-align: right;\n",
       "    }\n",
       "</style>\n",
       "<table border=\"1\" class=\"dataframe\">\n",
       "  <thead>\n",
       "    <tr style=\"text-align: right;\">\n",
       "      <th></th>\n",
       "      <th>Twitter_Senti</th>\n",
       "    </tr>\n",
       "    <tr>\n",
       "      <th>Date</th>\n",
       "      <th></th>\n",
       "    </tr>\n",
       "  </thead>\n",
       "  <tbody>\n",
       "    <tr>\n",
       "      <td>2018-07-01</td>\n",
       "      <td>0.354322</td>\n",
       "    </tr>\n",
       "    <tr>\n",
       "      <td>2018-07-02</td>\n",
       "      <td>0.354322</td>\n",
       "    </tr>\n",
       "    <tr>\n",
       "      <td>2018-07-03</td>\n",
       "      <td>0.354322</td>\n",
       "    </tr>\n",
       "    <tr>\n",
       "      <td>2018-07-04</td>\n",
       "      <td>0.354322</td>\n",
       "    </tr>\n",
       "    <tr>\n",
       "      <td>2018-07-05</td>\n",
       "      <td>0.354322</td>\n",
       "    </tr>\n",
       "    <tr>\n",
       "      <td>...</td>\n",
       "      <td>...</td>\n",
       "    </tr>\n",
       "    <tr>\n",
       "      <td>2019-10-27</td>\n",
       "      <td>0.636900</td>\n",
       "    </tr>\n",
       "    <tr>\n",
       "      <td>2019-10-28</td>\n",
       "      <td>0.636900</td>\n",
       "    </tr>\n",
       "    <tr>\n",
       "      <td>2019-10-29</td>\n",
       "      <td>0.672900</td>\n",
       "    </tr>\n",
       "    <tr>\n",
       "      <td>2019-10-30</td>\n",
       "      <td>0.935700</td>\n",
       "    </tr>\n",
       "    <tr>\n",
       "      <td>2019-10-31</td>\n",
       "      <td>0.354322</td>\n",
       "    </tr>\n",
       "  </tbody>\n",
       "</table>\n",
       "<p>488 rows × 1 columns</p>\n",
       "</div>"
      ],
      "text/plain": [
       "            Twitter_Senti\n",
       "Date                     \n",
       "2018-07-01       0.354322\n",
       "2018-07-02       0.354322\n",
       "2018-07-03       0.354322\n",
       "2018-07-04       0.354322\n",
       "2018-07-05       0.354322\n",
       "...                   ...\n",
       "2019-10-27       0.636900\n",
       "2019-10-28       0.636900\n",
       "2019-10-29       0.672900\n",
       "2019-10-30       0.935700\n",
       "2019-10-31       0.354322\n",
       "\n",
       "[488 rows x 1 columns]"
      ]
     },
     "execution_count": 24,
     "metadata": {},
     "output_type": "execute_result"
    }
   ],
   "source": [
    "Twitter_Senti = pd.read_csv(r\"C:\\Users\\Jurgen\\Desktop\\FYP\\Shared\\TwitterSentimentPerDay.csv\")\n",
    "Twitter_Senti[\"Date\"] = pd.to_datetime(Twitter_Senti[\"Date\"], format =  \"%d/%m/%Y\").dt.date\n",
    "Twitter_Senti = Twitter_Senti.set_index(\"Date\")\n",
    "Twitter_Senti = Twitter_Senti.rename(columns = {\"compound\" : \"Twitter_Senti\"}) \n",
    "Twitter_Senti"
   ]
  },
  {
   "cell_type": "code",
   "execution_count": 25,
   "metadata": {},
   "outputs": [],
   "source": [
    "News_Twitter_Stock = News_Stock.join(Twitter_Senti, lsuffix='Date', rsuffix='Date', on = \"Date\")"
   ]
  },
  {
   "cell_type": "code",
   "execution_count": null,
   "metadata": {},
   "outputs": [],
   "source": [
    "News_Twitter_Stock.to_csv(r\"C:\\Users\\Jurgen\\Desktop\\FYP\\Shared\\News_Twitter_Stock_Data.csv\")"
   ]
  },
  {
   "cell_type": "code",
   "execution_count": 26,
   "metadata": {},
   "outputs": [],
   "source": [
    "News_Twitter_Stock.to_csv(r\"C:\\Users\\Jurgen\\Desktop\\FYP\\Shared\\News_Twitter_Stock_NaN.csv\")"
   ]
  },
  {
   "cell_type": "code",
   "execution_count": null,
   "metadata": {},
   "outputs": [],
   "source": [
    "PH = []\n",
    "for i in range(len(News_Twitter_Stock.Stock_Difference)):\n",
    "    if pd.isna(News_Twitter_Stock.Stock_Difference.values[i]) == True and News_Twitter_Stock.index[i].weekday() != 5 and News_Twitter_Stock.index[i].weekday() != 6:\n",
    "        PH.append((News_Twitter_Stock.index[i], News_Twitter_Stock.index[i].weekday()))"
   ]
  },
  {
   "cell_type": "code",
   "execution_count": null,
   "metadata": {},
   "outputs": [],
   "source": [
    "News_Twitter_Stock.Stock_Difference = News_Twitter_Stock.Stock_Difference.fillna(0)"
   ]
  }
 ],
 "metadata": {
  "kernelspec": {
   "display_name": "Python 3",
   "language": "python",
   "name": "python3"
  },
  "language_info": {
   "codemirror_mode": {
    "name": "ipython",
    "version": 3
   },
   "file_extension": ".py",
   "mimetype": "text/x-python",
   "name": "python",
   "nbconvert_exporter": "python",
   "pygments_lexer": "ipython3",
   "version": "3.7.4"
  }
 },
 "nbformat": 4,
 "nbformat_minor": 2
}
