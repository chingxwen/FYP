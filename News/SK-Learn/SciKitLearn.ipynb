{
 "cells": [
  {
   "cell_type": "code",
   "execution_count": 1,
   "metadata": {},
   "outputs": [],
   "source": [
    "from sklearn.model_selection import train_test_split\n",
    "from nltk.corpus import stopwords\n",
    "import pandas as pd\n",
    "import numpy as np"
   ]
  },
  {
   "cell_type": "code",
   "execution_count": 24,
   "metadata": {},
   "outputs": [
    {
     "data": {
      "text/html": [
       "<div>\n",
       "<style scoped>\n",
       "    .dataframe tbody tr th:only-of-type {\n",
       "        vertical-align: middle;\n",
       "    }\n",
       "\n",
       "    .dataframe tbody tr th {\n",
       "        vertical-align: top;\n",
       "    }\n",
       "\n",
       "    .dataframe thead th {\n",
       "        text-align: right;\n",
       "    }\n",
       "</style>\n",
       "<table border=\"1\" class=\"dataframe\">\n",
       "  <thead>\n",
       "    <tr style=\"text-align: right;\">\n",
       "      <th></th>\n",
       "      <th>Date</th>\n",
       "      <th>News_Senti</th>\n",
       "      <th>Close_USD</th>\n",
       "      <th>Stock_Difference</th>\n",
       "      <th>Twitter_Senti</th>\n",
       "    </tr>\n",
       "  </thead>\n",
       "  <tbody>\n",
       "    <tr>\n",
       "      <td>0</td>\n",
       "      <td>9/8/2018</td>\n",
       "      <td>0.101774</td>\n",
       "      <td>41.887453</td>\n",
       "      <td>0.121431</td>\n",
       "      <td>-0.1027</td>\n",
       "    </tr>\n",
       "    <tr>\n",
       "      <td>1</td>\n",
       "      <td>5/9/2018</td>\n",
       "      <td>0.179139</td>\n",
       "      <td>41.525001</td>\n",
       "      <td>-1.112296</td>\n",
       "      <td>0.0000</td>\n",
       "    </tr>\n",
       "    <tr>\n",
       "      <td>2</td>\n",
       "      <td>24/10/2018</td>\n",
       "      <td>0.219228</td>\n",
       "      <td>37.532583</td>\n",
       "      <td>-0.308136</td>\n",
       "      <td>0.0000</td>\n",
       "    </tr>\n",
       "    <tr>\n",
       "      <td>3</td>\n",
       "      <td>26/10/2018</td>\n",
       "      <td>0.072399</td>\n",
       "      <td>35.831099</td>\n",
       "      <td>-0.273189</td>\n",
       "      <td>0.1222</td>\n",
       "    </tr>\n",
       "    <tr>\n",
       "      <td>4</td>\n",
       "      <td>8/11/2018</td>\n",
       "      <td>0.188299</td>\n",
       "      <td>39.441578</td>\n",
       "      <td>0.146884</td>\n",
       "      <td>1.6313</td>\n",
       "    </tr>\n",
       "    <tr>\n",
       "      <td>...</td>\n",
       "      <td>...</td>\n",
       "      <td>...</td>\n",
       "      <td>...</td>\n",
       "      <td>...</td>\n",
       "      <td>...</td>\n",
       "    </tr>\n",
       "    <tr>\n",
       "      <td>76</td>\n",
       "      <td>22/10/2019</td>\n",
       "      <td>0.194338</td>\n",
       "      <td>43.639371</td>\n",
       "      <td>0.707001</td>\n",
       "      <td>0.0000</td>\n",
       "    </tr>\n",
       "    <tr>\n",
       "      <td>77</td>\n",
       "      <td>23/10/2019</td>\n",
       "      <td>0.202612</td>\n",
       "      <td>43.691557</td>\n",
       "      <td>0.052186</td>\n",
       "      <td>0.0000</td>\n",
       "    </tr>\n",
       "    <tr>\n",
       "      <td>78</td>\n",
       "      <td>24/10/2019</td>\n",
       "      <td>0.112101</td>\n",
       "      <td>43.221990</td>\n",
       "      <td>-0.469567</td>\n",
       "      <td>0.8140</td>\n",
       "    </tr>\n",
       "    <tr>\n",
       "      <td>79</td>\n",
       "      <td>28/10/2019</td>\n",
       "      <td>0.107508</td>\n",
       "      <td>43.848824</td>\n",
       "      <td>0.522953</td>\n",
       "      <td>0.6369</td>\n",
       "    </tr>\n",
       "    <tr>\n",
       "      <td>80</td>\n",
       "      <td>29/10/2019</td>\n",
       "      <td>0.279782</td>\n",
       "      <td>43.751215</td>\n",
       "      <td>-0.097609</td>\n",
       "      <td>0.6729</td>\n",
       "    </tr>\n",
       "  </tbody>\n",
       "</table>\n",
       "<p>81 rows × 5 columns</p>\n",
       "</div>"
      ],
      "text/plain": [
       "          Date  News_Senti  Close_USD  Stock_Difference  Twitter_Senti\n",
       "0     9/8/2018    0.101774  41.887453          0.121431        -0.1027\n",
       "1     5/9/2018    0.179139  41.525001         -1.112296         0.0000\n",
       "2   24/10/2018    0.219228  37.532583         -0.308136         0.0000\n",
       "3   26/10/2018    0.072399  35.831099         -0.273189         0.1222\n",
       "4    8/11/2018    0.188299  39.441578          0.146884         1.6313\n",
       "..         ...         ...        ...               ...            ...\n",
       "76  22/10/2019    0.194338  43.639371          0.707001         0.0000\n",
       "77  23/10/2019    0.202612  43.691557          0.052186         0.0000\n",
       "78  24/10/2019    0.112101  43.221990         -0.469567         0.8140\n",
       "79  28/10/2019    0.107508  43.848824          0.522953         0.6369\n",
       "80  29/10/2019    0.279782  43.751215         -0.097609         0.6729\n",
       "\n",
       "[81 rows x 5 columns]"
      ]
     },
     "execution_count": 24,
     "metadata": {},
     "output_type": "execute_result"
    }
   ],
   "source": [
    "from sklearn.linear_model import LinearRegression\n",
    "\n",
    "df = pd.read_csv(r\"C:\\Users\\Jurgen\\Desktop\\FYP\\Shared\\News_Twitter_Stock_NaN.csv\")\n",
    "df = df.dropna().reset_index(drop=True)\n",
    "# df = df.fillna(0)\n",
    "X = df[[\"News_Senti\", \"Twitter_Senti\"]].to_numpy()#.reshape(-1, 1)\n",
    "y = df[\"Stock_Difference\"].to_numpy()\n",
    "df"
   ]
  },
  {
   "cell_type": "code",
   "execution_count": 25,
   "metadata": {},
   "outputs": [],
   "source": [
    "X_train, X_test, y_train, y_test = train_test_split(X, y, test_size=0.25, random_state=0)"
   ]
  },
  {
   "cell_type": "code",
   "execution_count": null,
   "metadata": {},
   "outputs": [],
   "source": [
    "# GenSenti = []\n",
    "# for i in range(len(df)):\n",
    "#     if df.Stock_Difference[i] > 0:\n",
    "#         GenSenti.append(\"Increase\")\n",
    "#     elif df.Stock_Difference[i] < 0:\n",
    "#         GenSenti.append(\"Decrease\")\n",
    "#     else:\n",
    "#         GenSenti.append(\"Constant\")\n",
    "# df[\"Stock_Changess\"] = GenSenti\n",
    "# df.to_csv(r\"C:\\Users\\Jurgen\\Desktop\\FYP\\Shared\\News_Twitter_Stock_Data.csv\")\n"
   ]
  },
  {
   "cell_type": "code",
   "execution_count": 26,
   "metadata": {},
   "outputs": [
    {
     "name": "stdout",
     "output_type": "stream",
     "text": [
      "Coefficients: \n",
      " [0.25059388 0.1288344 ]\n",
      "Mean squared error: 0.29\n",
      "Coefficient of determination: 0.03\n",
      "Intercept:  -0.10301323030921938\n"
     ]
    }
   ],
   "source": [
    "from sklearn.metrics import mean_squared_error, r2_score\n",
    "\n",
    "\n",
    "regr = LinearRegression()\n",
    "regr.fit(X_train, y_train)\n",
    "y_pred = regr.predict(X_test)\n",
    "\n",
    "# The coefficients\n",
    "print('Coefficients: \\n', regr.coef_)\n",
    "# The mean squared error\n",
    "print('Mean squared error: %.2f'\n",
    "      % mean_squared_error(y_test, y_pred))\n",
    "# The coefficient of determination: 1 is perfect prediction\n",
    "print('Coefficient of determination: %.2f'\n",
    "      % r2_score(y_test, y_pred))\n",
    "# The intercept\n",
    "print(\"Intercept: \", regr.intercept_)"
   ]
  },
  {
   "cell_type": "code",
   "execution_count": null,
   "metadata": {},
   "outputs": [],
   "source": []
  },
  {
   "cell_type": "code",
   "execution_count": 27,
   "metadata": {},
   "outputs": [
    {
     "name": "stdout",
     "output_type": "stream",
     "text": [
      "R^2:  -0.06596018305959594\n",
      "Variance Score:  -0.0582354820945834\n",
      "Max Error:  1.4956616269200005\n",
      "Mean Absolute Error: 0.4158996058431588\n",
      "Mean Squared Error: 0.31433367719225186\n",
      "Root Mean Squared Error: 0.560654686230528\n"
     ]
    }
   ],
   "source": [
    "from sklearn.ensemble import RandomForestRegressor\n",
    "\n",
    "text_classifier = RandomForestRegressor(n_estimators=500, random_state=0)\n",
    "text_classifier.fit(X_train, y_train)\n",
    "y_pred = text_classifier.predict(X_test)\n",
    "\n",
    "\n",
    "print(\"R^2: \", metrics.r2_score(y_test, y_pred))\n",
    "print(\"Variance Score: \", metrics.explained_variance_score(y_test, y_pred))\n",
    "print(\"Max Error: \", metrics.max_error(y_test, y_pred))\n",
    "print('Mean Absolute Error:', metrics.mean_absolute_error(y_test, y_pred))\n",
    "print('Mean Squared Error:', metrics.mean_squared_error(y_test, y_pred))\n",
    "print('Root Mean Squared Error:', np.sqrt(metrics.mean_squared_error(y_test, y_pred)))"
   ]
  },
  {
   "cell_type": "code",
   "execution_count": 28,
   "metadata": {},
   "outputs": [
    {
     "name": "stdout",
     "output_type": "stream",
     "text": [
      "R^2:  -0.8998458476498763\n",
      "Variance Score:  -0.8430163682719896\n",
      "Max Error:  1.3606547549999999\n",
      "Mean Absolute Error: 0.6445348345238096\n",
      "Mean Squared Error: 0.5602324935591227\n",
      "Root Mean Squared Error: 0.7484868025283564\n"
     ]
    }
   ],
   "source": [
    "from sklearn import metrics\n",
    "from sklearn import neighbors\n",
    "\n",
    "\n",
    "knn = neighbors.KNeighborsRegressor(n_neighbors = 2)\n",
    "knn.fit(X_train, y_train)\n",
    "y_pred = knn.predict(X_test)\n",
    "\n",
    "\n",
    "print(\"R^2: \", metrics.r2_score(y_test, y_pred))\n",
    "print(\"Variance Score: \", metrics.explained_variance_score(y_test, y_pred))\n",
    "print(\"Max Error: \", metrics.max_error(y_test, y_pred))\n",
    "print('Mean Absolute Error:', metrics.mean_absolute_error(y_test, y_pred))\n",
    "print('Mean Squared Error:', metrics.mean_squared_error(y_test, y_pred))\n",
    "print('Root Mean Squared Error:', np.sqrt(metrics.mean_squared_error(y_test, y_pred)))"
   ]
  },
  {
   "cell_type": "code",
   "execution_count": null,
   "metadata": {
    "scrolled": true
   },
   "outputs": [],
   "source": [
    "import matplotlib.pyplot as plt\n",
    "\n",
    "# Plot outputs\n",
    "# plt.scatter(TwitterSenti, y_test,  color='yellow')\n",
    "# plt.scatter(TwitterSenti, y_pred, color='blue')\n",
    "# plt.scatter(NewsSenti, y_pred, color='purple')\n",
    "# plt.plot(X_test, y_test, color = \"blue\")\n",
    "# plt.scatter(X_test, y_pred, color = \"yellow\")\n",
    "\n",
    "\n",
    "plt.xticks(())\n",
    "plt.yticks(())\n",
    "\n",
    "plt.show()\n",
    "\n",
    "# print(X_test.shape, y_test.shape)\n",
    "# print(X_test.shape, y_pred.shape)\n",
    "\n",
    "# print(y_pred)\n",
    "\n"
   ]
  },
  {
   "cell_type": "code",
   "execution_count": null,
   "metadata": {},
   "outputs": [],
   "source": [
    "test = pd.DataFrame({'Actual': y_test, 'Predicted': y_pred})\n",
    "test"
   ]
  },
  {
   "cell_type": "code",
   "execution_count": null,
   "metadata": {},
   "outputs": [],
   "source": [
    "NewsSenti = []\n",
    "TwitterSenti = []\n",
    "for i in range(len(y_test)):\n",
    "    NewsSenti.append(X_test[i][0])\n",
    "    TwitterSenti.append(X_test[i][1])\n",
    "    "
   ]
  },
  {
   "cell_type": "markdown",
   "metadata": {},
   "source": [
    "# CLASSIFIER"
   ]
  },
  {
   "cell_type": "code",
   "execution_count": null,
   "metadata": {},
   "outputs": [],
   "source": [
    "#Classifier\n",
    "\n",
    "# df1 = pd.read_csv(r\"C:\\Users\\Jurgen\\Desktop\\FYP\\News\\SK-Learn\\News_Stock_Data_30.csv\")\n",
    "# X = df1[\"News_Senti\"].to_numpy().reshape(-1, 1)\n",
    "# y = df1[\"Stock_Changes\"].to_numpy()\n",
    "# df1"
   ]
  },
  {
   "cell_type": "code",
   "execution_count": null,
   "metadata": {},
   "outputs": [],
   "source": [
    "from sklearn.ensemble import RandomForestClassifier\n",
    "from sklearn import metrics\n",
    "\n",
    "clf = RandomForestClassifier(n_estimators=100)\n",
    "clf.fit(X_train, y_train)\n",
    "\n",
    "y_pred = clf.predict(X_test)\n",
    "# Model Accuracy, how often is the classifier correct?\n",
    "print(\"Accuracy:\",metrics.accuracy_score(y_test, y_pred))"
   ]
  },
  {
   "cell_type": "code",
   "execution_count": null,
   "metadata": {},
   "outputs": [],
   "source": [
    "count = 0\n",
    "for i in range(len(y_test)):\n",
    "    if y_test[i] == y_pred[i]:\n",
    "        count += 1\n",
    "print(count, '/', len(y_test))\n",
    "print(y_test)\n",
    "print(y_pred)"
   ]
  }
 ],
 "metadata": {
  "kernelspec": {
   "display_name": "Python 3",
   "language": "python",
   "name": "python3"
  },
  "language_info": {
   "codemirror_mode": {
    "name": "ipython",
    "version": 3
   },
   "file_extension": ".py",
   "mimetype": "text/x-python",
   "name": "python",
   "nbconvert_exporter": "python",
   "pygments_lexer": "ipython3",
   "version": "3.7.4"
  }
 },
 "nbformat": 4,
 "nbformat_minor": 2
}
