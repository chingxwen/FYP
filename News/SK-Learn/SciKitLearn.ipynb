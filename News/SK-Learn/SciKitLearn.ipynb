{
 "cells": [
  {
   "cell_type": "code",
   "execution_count": 1,
   "metadata": {},
   "outputs": [],
   "source": [
    "from sklearn.model_selection import train_test_split\n",
    "from nltk.corpus import stopwords\n",
    "import pandas as pd\n",
    "import numpy as np"
   ]
  },
  {
   "cell_type": "code",
   "execution_count": 2,
   "metadata": {},
   "outputs": [
    {
     "data": {
      "text/html": [
       "<div>\n",
       "<style scoped>\n",
       "    .dataframe tbody tr th:only-of-type {\n",
       "        vertical-align: middle;\n",
       "    }\n",
       "\n",
       "    .dataframe tbody tr th {\n",
       "        vertical-align: top;\n",
       "    }\n",
       "\n",
       "    .dataframe thead th {\n",
       "        text-align: right;\n",
       "    }\n",
       "</style>\n",
       "<table border=\"1\" class=\"dataframe\">\n",
       "  <thead>\n",
       "    <tr style=\"text-align: right;\">\n",
       "      <th></th>\n",
       "      <th>News_Senti</th>\n",
       "      <th>Volume</th>\n",
       "      <th>Open_USD</th>\n",
       "      <th>High_USD</th>\n",
       "      <th>Low_USD</th>\n",
       "      <th>Adj_Close_USD</th>\n",
       "      <th>Twitter_Senti</th>\n",
       "      <th>Reddit_Comment</th>\n",
       "      <th>Reddit_SelfText</th>\n",
       "    </tr>\n",
       "  </thead>\n",
       "  <tbody>\n",
       "    <tr>\n",
       "      <td>0</td>\n",
       "      <td>NaN</td>\n",
       "      <td>NaN</td>\n",
       "      <td>NaN</td>\n",
       "      <td>NaN</td>\n",
       "      <td>NaN</td>\n",
       "      <td>NaN</td>\n",
       "      <td>NaN</td>\n",
       "      <td>0.167460</td>\n",
       "      <td>0.352600</td>\n",
       "    </tr>\n",
       "    <tr>\n",
       "      <td>1</td>\n",
       "      <td>NaN</td>\n",
       "      <td>13112253.0</td>\n",
       "      <td>41.508241</td>\n",
       "      <td>42.088464</td>\n",
       "      <td>40.615591</td>\n",
       "      <td>39.984037</td>\n",
       "      <td>NaN</td>\n",
       "      <td>0.091721</td>\n",
       "      <td>-0.167850</td>\n",
       "    </tr>\n",
       "    <tr>\n",
       "      <td>2</td>\n",
       "      <td>-0.013258</td>\n",
       "      <td>10959655.0</td>\n",
       "      <td>41.112864</td>\n",
       "      <td>41.741913</td>\n",
       "      <td>41.112864</td>\n",
       "      <td>40.782627</td>\n",
       "      <td>NaN</td>\n",
       "      <td>0.195632</td>\n",
       "      <td>0.065820</td>\n",
       "    </tr>\n",
       "    <tr>\n",
       "      <td>3</td>\n",
       "      <td>NaN</td>\n",
       "      <td>8776763.0</td>\n",
       "      <td>41.783077</td>\n",
       "      <td>42.096227</td>\n",
       "      <td>41.201514</td>\n",
       "      <td>40.692290</td>\n",
       "      <td>NaN</td>\n",
       "      <td>0.089100</td>\n",
       "      <td>0.192950</td>\n",
       "    </tr>\n",
       "    <tr>\n",
       "      <td>4</td>\n",
       "      <td>NaN</td>\n",
       "      <td>7039773.0</td>\n",
       "      <td>41.233912</td>\n",
       "      <td>41.636413</td>\n",
       "      <td>40.786690</td>\n",
       "      <td>40.416246</td>\n",
       "      <td>NaN</td>\n",
       "      <td>0.107269</td>\n",
       "      <td>0.191075</td>\n",
       "    </tr>\n",
       "    <tr>\n",
       "      <td>...</td>\n",
       "      <td>...</td>\n",
       "      <td>...</td>\n",
       "      <td>...</td>\n",
       "      <td>...</td>\n",
       "      <td>...</td>\n",
       "      <td>...</td>\n",
       "      <td>...</td>\n",
       "      <td>...</td>\n",
       "      <td>...</td>\n",
       "    </tr>\n",
       "    <tr>\n",
       "      <td>483</td>\n",
       "      <td>NaN</td>\n",
       "      <td>NaN</td>\n",
       "      <td>NaN</td>\n",
       "      <td>NaN</td>\n",
       "      <td>NaN</td>\n",
       "      <td>NaN</td>\n",
       "      <td>0.6369</td>\n",
       "      <td>NaN</td>\n",
       "      <td>NaN</td>\n",
       "    </tr>\n",
       "    <tr>\n",
       "      <td>484</td>\n",
       "      <td>0.107508</td>\n",
       "      <td>6431522.0</td>\n",
       "      <td>43.335973</td>\n",
       "      <td>44.019775</td>\n",
       "      <td>43.335973</td>\n",
       "      <td>43.848824</td>\n",
       "      <td>0.6369</td>\n",
       "      <td>NaN</td>\n",
       "      <td>NaN</td>\n",
       "    </tr>\n",
       "    <tr>\n",
       "      <td>485</td>\n",
       "      <td>0.139891</td>\n",
       "      <td>7581629.0</td>\n",
       "      <td>44.008072</td>\n",
       "      <td>44.264928</td>\n",
       "      <td>43.494359</td>\n",
       "      <td>43.751215</td>\n",
       "      <td>0.6729</td>\n",
       "      <td>NaN</td>\n",
       "      <td>NaN</td>\n",
       "    </tr>\n",
       "    <tr>\n",
       "      <td>486</td>\n",
       "      <td>NaN</td>\n",
       "      <td>8959435.0</td>\n",
       "      <td>43.406557</td>\n",
       "      <td>43.492172</td>\n",
       "      <td>42.978485</td>\n",
       "      <td>43.149714</td>\n",
       "      <td>0.9357</td>\n",
       "      <td>NaN</td>\n",
       "      <td>NaN</td>\n",
       "    </tr>\n",
       "    <tr>\n",
       "      <td>487</td>\n",
       "      <td>0.107235</td>\n",
       "      <td>10304777.0</td>\n",
       "      <td>43.661609</td>\n",
       "      <td>44.004053</td>\n",
       "      <td>43.062332</td>\n",
       "      <td>43.147943</td>\n",
       "      <td>NaN</td>\n",
       "      <td>NaN</td>\n",
       "      <td>NaN</td>\n",
       "    </tr>\n",
       "  </tbody>\n",
       "</table>\n",
       "<p>488 rows × 9 columns</p>\n",
       "</div>"
      ],
      "text/plain": [
       "     News_Senti      Volume   Open_USD   High_USD    Low_USD  Adj_Close_USD  \\\n",
       "0           NaN         NaN        NaN        NaN        NaN            NaN   \n",
       "1           NaN  13112253.0  41.508241  42.088464  40.615591      39.984037   \n",
       "2     -0.013258  10959655.0  41.112864  41.741913  41.112864      40.782627   \n",
       "3           NaN   8776763.0  41.783077  42.096227  41.201514      40.692290   \n",
       "4           NaN   7039773.0  41.233912  41.636413  40.786690      40.416246   \n",
       "..          ...         ...        ...        ...        ...            ...   \n",
       "483         NaN         NaN        NaN        NaN        NaN            NaN   \n",
       "484    0.107508   6431522.0  43.335973  44.019775  43.335973      43.848824   \n",
       "485    0.139891   7581629.0  44.008072  44.264928  43.494359      43.751215   \n",
       "486         NaN   8959435.0  43.406557  43.492172  42.978485      43.149714   \n",
       "487    0.107235  10304777.0  43.661609  44.004053  43.062332      43.147943   \n",
       "\n",
       "     Twitter_Senti  Reddit_Comment  Reddit_SelfText  \n",
       "0              NaN        0.167460         0.352600  \n",
       "1              NaN        0.091721        -0.167850  \n",
       "2              NaN        0.195632         0.065820  \n",
       "3              NaN        0.089100         0.192950  \n",
       "4              NaN        0.107269         0.191075  \n",
       "..             ...             ...              ...  \n",
       "483         0.6369             NaN              NaN  \n",
       "484         0.6369             NaN              NaN  \n",
       "485         0.6729             NaN              NaN  \n",
       "486         0.9357             NaN              NaN  \n",
       "487            NaN             NaN              NaN  \n",
       "\n",
       "[488 rows x 9 columns]"
      ]
     },
     "execution_count": 2,
     "metadata": {},
     "output_type": "execute_result"
    }
   ],
   "source": [
    "df = pd.read_csv(r\"C:\\Users\\Jurgen\\Desktop\\FYP\\Shared\\News_Twitter_Stock_Reddit_NaN_Final.csv\")\n",
    "df = df.drop([\"Date\", \"Stockname\", \"Close_USD\"], axis=1)\n",
    "\n",
    "df"
   ]
  },
  {
   "cell_type": "markdown",
   "metadata": {},
   "source": [
    "# Non NaN Stock Data + Sentiments Filled With 0"
   ]
  },
  {
   "cell_type": "code",
   "execution_count": 3,
   "metadata": {},
   "outputs": [
    {
     "name": "stdout",
     "output_type": "stream",
     "text": [
      "     News_Senti      Volume   Open_USD   High_USD    Low_USD  Adj_Close_USD  \\\n",
      "0      0.000000  13112253.0  41.508241  42.088464  40.615591      39.984037   \n",
      "1     -0.013258  10959655.0  41.112864  41.741913  41.112864      40.782627   \n",
      "2      0.000000   8776763.0  41.783077  42.096227  41.201514      40.692290   \n",
      "3      0.000000   7039773.0  41.233912  41.636413  40.786690      40.416246   \n",
      "4      0.000000  17843706.0  40.692186  41.005202  39.932002      39.487791   \n",
      "..          ...         ...        ...        ...        ...            ...   \n",
      "318    0.000000   7879897.0  43.240752  43.581230  42.985393      43.325872   \n",
      "319    0.107508   6431522.0  43.335973  44.019775  43.335973      43.848824   \n",
      "320    0.139891   7581629.0  44.008072  44.264928  43.494359      43.751215   \n",
      "321    0.000000   8959435.0  43.406557  43.492172  42.978485      43.149714   \n",
      "322    0.107235  10304777.0  43.661609  44.004053  43.062332      43.147943   \n",
      "\n",
      "     Twitter_Senti  Reddit_Comment  Reddit_SelfText  \n",
      "0           0.0000        0.091721        -0.167850  \n",
      "1           0.0000        0.195632         0.065820  \n",
      "2           0.0000        0.089100         0.192950  \n",
      "3           0.0000        0.107269         0.191075  \n",
      "4           0.0000        0.134362         0.167800  \n",
      "..             ...             ...              ...  \n",
      "318         0.3612        0.000000         0.000000  \n",
      "319         0.6369        0.000000         0.000000  \n",
      "320         0.6729        0.000000         0.000000  \n",
      "321         0.9357        0.000000         0.000000  \n",
      "322         0.0000        0.000000         0.000000  \n",
      "\n",
      "[323 rows x 9 columns]\n",
      "242\n",
      "81\n"
     ]
    }
   ],
   "source": [
    "df[[\"News_Senti\",\"Twitter_Senti\", \"Reddit_Comment\", \"Reddit_SelfText\"]] = df[[\"News_Senti\",\"Twitter_Senti\", \"Reddit_Comment\", \"Reddit_SelfText\"]].fillna(0)\n",
    "df = df.dropna().reset_index(drop=True)\n",
    "print(df)\n",
    "\n",
    "X = df.loc[:, df.columns != 'Adj_Close_USD'].to_numpy()\n",
    "y = df[\"Adj_Close_USD\"].to_numpy()\n",
    "\n",
    "X_train, X_test, y_train, y_test = train_test_split(X, y, train_size=0.75, random_state=0)\n",
    "\n",
    "print(X_train.shape[0])\n",
    "print(X_test.shape[0])\n"
   ]
  },
  {
   "cell_type": "markdown",
   "metadata": {},
   "source": [
    "# Dropping All Rows With NaN"
   ]
  },
  {
   "cell_type": "code",
   "execution_count": null,
   "metadata": {},
   "outputs": [],
   "source": [
    "df_dropped = df.dropna().reset_index(drop=True)\n",
    "df_dropped.shape\n",
    "\n",
    "\n",
    "X = df_dropped.loc[:, df_dropped.columns != 'Adj_Close_USD'].to_numpy()\n",
    "y = df_dropped[\"Adj_Close_USD\"].to_numpy()\n",
    "\n",
    "X_train, X_test, y_train, y_test = train_test_split(X, y, test_size=0.5, random_state=0)\n",
    "\n",
    "print(X_train.shape[0])\n",
    "print(X_test.shape[0])\n",
    "df_dropped"
   ]
  },
  {
   "cell_type": "markdown",
   "metadata": {},
   "source": [
    "# Random Forest Regressor"
   ]
  },
  {
   "cell_type": "code",
   "execution_count": 4,
   "metadata": {},
   "outputs": [
    {
     "name": "stdout",
     "output_type": "stream",
     "text": [
      "R^2: 0.96681532 n_estimators = 100\n",
      "R^2: 0.96685539 n_estimators = 200\n",
      "R^2: 0.96601133 n_estimators = 300\n",
      "R^2: 0.96601565 n_estimators = 400\n",
      "R^2: 0.96594055 n_estimators = 500\n",
      "R^2: 0.96607593 n_estimators = 600\n",
      "R^2: 0.96614013 n_estimators = 700\n",
      "R^2: 0.96625053 n_estimators = 800\n",
      "R^2: 0.96622733 n_estimators = 900\n",
      "R^2: 0.96627378 n_estimators = 1000\n",
      "\n",
      "N_Estimators:  200\n",
      "R^2:  0.9668553888106292\n",
      "Variance Score:  0.9669585338788049\n",
      "Max Error:  0.9745191507949826\n",
      "Mean Absolute Error: 0.29357407443183\n",
      "Mean Squared Error: 0.13100500185680672\n",
      "Root Mean Squared Error: 0.36194613115325147\n"
     ]
    }
   ],
   "source": [
    "from sklearn.ensemble import RandomForestRegressor\n",
    "from sklearn import metrics\n",
    "\n",
    "r2_value = []\n",
    "for i in range(100, 1100, 100):\n",
    "    text_classifier = RandomForestRegressor(n_estimators=i, random_state=0)\n",
    "    text_classifier.fit(X_train, y_train)\n",
    "    y_pred = text_classifier.predict(X_test)\n",
    "    r2_value.append((metrics.r2_score(y_test, y_pred),i))\n",
    "    print(\"R^2: {:.8f} n_estimators = {}\".format(metrics.r2_score(y_test, y_pred), i))\n",
    "\n",
    "r2 = pd.DataFrame(r2_value, columns = [\"R2\", \"n_estimators\"]).set_index(\"n_estimators\")\n",
    "n_est = r2.R2[r2.R2 == r2.R2.max()].index[0]\n",
    "\n",
    "\n",
    "text_classifier = RandomForestRegressor(n_estimators = n_est, random_state=0)\n",
    "text_classifier.fit(X_train, y_train)\n",
    "y_pred = text_classifier.predict(X_test)\n",
    "\n",
    "print()\n",
    "print(\"N_Estimators: \", n_est)\n",
    "print(\"R^2: \", metrics.r2_score(y_test, y_pred))\n",
    "print(\"Variance Score: \", metrics.explained_variance_score(y_test, y_pred))\n",
    "print(\"Max Error: \", metrics.max_error(y_test, y_pred))\n",
    "print('Mean Absolute Error:', metrics.mean_absolute_error(y_test, y_pred))\n",
    "print('Mean Squared Error:', metrics.mean_squared_error(y_test, y_pred))\n",
    "print('Root Mean Squared Error:', np.sqrt(metrics.mean_squared_error(y_test, y_pred)))"
   ]
  },
  {
   "cell_type": "code",
   "execution_count": 5,
   "metadata": {},
   "outputs": [
    {
     "data": {
      "text/plain": [
       "<Figure size 640x480 with 1 Axes>"
      ]
     },
     "metadata": {},
     "output_type": "display_data"
    }
   ],
   "source": [
    "import matplotlib.pyplot as plt\n",
    "\n",
    "# Plot outputs\n",
    "\n",
    "plt.plot(y_test, color = \"red\")\n",
    "plt.plot(y_pred, color = \"green\")\n",
    "\n",
    "\n",
    "plt.xticks(())\n",
    "plt.yticks(())\n",
    "\n",
    "plt.show()"
   ]
  },
  {
   "cell_type": "code",
   "execution_count": null,
   "metadata": {
    "scrolled": true
   },
   "outputs": [],
   "source": [
    "test = pd.DataFrame({'Actual': y_test, 'Predicted': y_pred, 'Difference': (y_pred - y_test)})\n",
    "test"
   ]
  },
  {
   "cell_type": "markdown",
   "metadata": {},
   "source": [
    "# Linear Regression"
   ]
  },
  {
   "cell_type": "code",
   "execution_count": null,
   "metadata": {
    "scrolled": true
   },
   "outputs": [],
   "source": [
    "from sklearn.metrics import mean_squared_error, r2_score\n",
    "from sklearn.linear_model import LinearRegression\n",
    "\n",
    "regr = LinearRegression()\n",
    "regr.fit(X_train, y_train)\n",
    "y_pred = regr.predict(X_test)\n",
    "\n",
    "# The coefficients\n",
    "print('Coefficients: \\n', regr.coef_)\n",
    "# The mean squared error\n",
    "print('Mean squared error: %.2f'\n",
    "      % mean_squared_error(y_test, y_pred))\n",
    "# The coefficient of determination: 1 is perfect prediction\n",
    "print('Coefficient of determination: %.5f'\n",
    "      % r2_score(y_test, y_pred))\n",
    "# The intercept\n",
    "print(\"Intercept: \", regr.intercept_)"
   ]
  },
  {
   "cell_type": "markdown",
   "metadata": {},
   "source": [
    "# K Nearest Neighbours"
   ]
  },
  {
   "cell_type": "code",
   "execution_count": null,
   "metadata": {},
   "outputs": [],
   "source": [
    "from sklearn import neighbors\n",
    "from sklearn.metrics import mean_squared_error \n",
    "from math import sqrt\n",
    "\n",
    "rmse_val = [] #to store rmse values for different k\n",
    "for K in range(20):\n",
    "    K = K+1\n",
    "    model = neighbors.KNeighborsRegressor(n_neighbors = K)\n",
    "\n",
    "    model.fit(X_train, y_train)  #fit the model\n",
    "    pred=model.predict(X_test) #make prediction on test set\n",
    "    error = sqrt(mean_squared_error(y_test, pred)) #calculate rmse\n",
    "    rmse_val.append(error) #store rmse values\n",
    "    \n",
    "rmse_val = pd.DataFrame(rmse_val)\n",
    "print(rmse_val)\n",
    "print(rmse)"
   ]
  },
  {
   "cell_type": "code",
   "execution_count": null,
   "metadata": {},
   "outputs": [],
   "source": [
    "from sklearn import neighbors\n",
    "from sklearn.metrics import mean_squared_error \n",
    "from math import sqrt\n",
    "import numpy as np\n",
    "\n",
    "rmse_val = [] #to store rmse values for different k\n",
    "for K in range(7):\n",
    "    K = K+1\n",
    "    model = neighbors.KNeighborsRegressor(n_neighbors = K)\n",
    "\n",
    "    model.fit(X_train, y_train)  #fit the model\n",
    "    pred=model.predict(X_test) #make prediction on test set\n",
    "    error = sqrt(mean_squared_error(y_test, pred)) #calculate rmse\n",
    "    rmse_val.append(error) #store rmse values\n",
    "    \n",
    "rmse_val = pd.DataFrame(rmse_val)\n",
    "# print(rmse_val)\n",
    "print(\"K = \",rmse_val.idxmin()[0])"
   ]
  },
  {
   "cell_type": "code",
   "execution_count": null,
   "metadata": {},
   "outputs": [],
   "source": [
    "from sklearn import metrics\n",
    "from sklearn import neighbors\n",
    "from math import sqrt\n",
    "\n",
    "\n",
    "\n",
    "\n",
    "knn = neighbors.KNeighborsRegressor(n_neighbors = 6)\n",
    "knn.fit(X_train, y_train)\n",
    "y_pred = knn.predict(X_test)\n",
    "\n",
    "\n",
    "print(\"R^2: \", metrics.r2_score(y_test, y_pred))\n",
    "print(\"Variance Score: \", metrics.explained_variance_score(y_test, y_pred))\n",
    "print(\"Max Error: \", metrics.max_error(y_test, y_pred))\n",
    "print('Mean Absolute Error:', metrics.mean_absolute_error(y_test, y_pred))\n",
    "print('Mean Squared Error:', metrics.mean_squared_error(y_test, y_pred))\n",
    "print('Root Mean Squared Error:', np.sqrt(metrics.mean_squared_error(y_test, y_pred)))\n"
   ]
  },
  {
   "cell_type": "code",
   "execution_count": null,
   "metadata": {},
   "outputs": [],
   "source": []
  },
  {
   "cell_type": "markdown",
   "metadata": {},
   "source": [
    "# CLASSIFIER"
   ]
  },
  {
   "cell_type": "code",
   "execution_count": null,
   "metadata": {},
   "outputs": [],
   "source": [
    "#Classifier\n",
    "\n",
    "# df1 = pd.read_csv(r\"C:\\Users\\Jurgen\\Desktop\\FYP\\News\\SK-Learn\\News_Stock_Data_30.csv\")\n",
    "# X = df1[\"News_Senti\"].to_numpy().reshape(-1, 1)\n",
    "# y = df1[\"Stock_Changes\"].to_numpy()\n",
    "# df1"
   ]
  },
  {
   "cell_type": "code",
   "execution_count": null,
   "metadata": {},
   "outputs": [],
   "source": [
    "from sklearn.ensemble import RandomForestClassifier\n",
    "from sklearn import metrics\n",
    "\n",
    "clf = RandomForestClassifier(n_estimators=100)\n",
    "clf.fit(X_train, y_train)\n",
    "\n",
    "y_pred = clf.predict(X_test)\n",
    "# Model Accuracy, how often is the classifier correct?\n",
    "print(\"Accuracy:\",metrics.accuracy_score(y_test, y_pred))"
   ]
  },
  {
   "cell_type": "code",
   "execution_count": null,
   "metadata": {},
   "outputs": [],
   "source": [
    "count = 0\n",
    "for i in range(len(y_test)):\n",
    "    if y_test[i] == y_pred[i]:\n",
    "        count += 1\n",
    "print(count, '/', len(y_test))\n",
    "print(y_test)\n",
    "print(y_pred)"
   ]
  }
 ],
 "metadata": {
  "kernelspec": {
   "display_name": "Python 3",
   "language": "python",
   "name": "python3"
  },
  "language_info": {
   "codemirror_mode": {
    "name": "ipython",
    "version": 3
   },
   "file_extension": ".py",
   "mimetype": "text/x-python",
   "name": "python",
   "nbconvert_exporter": "python",
   "pygments_lexer": "ipython3",
   "version": "3.7.4"
  }
 },
 "nbformat": 4,
 "nbformat_minor": 2
}
