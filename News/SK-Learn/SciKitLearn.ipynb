{
 "cells": [
  {
   "cell_type": "code",
   "execution_count": 1,
   "metadata": {},
   "outputs": [],
   "source": [
    "from sklearn.model_selection import train_test_split\n",
    "from nltk.corpus import stopwords\n",
    "import pandas as pd\n",
    "import numpy as np"
   ]
  },
  {
   "cell_type": "code",
   "execution_count": 22,
   "metadata": {},
   "outputs": [
    {
     "data": {
      "text/html": [
       "<div>\n",
       "<style scoped>\n",
       "    .dataframe tbody tr th:only-of-type {\n",
       "        vertical-align: middle;\n",
       "    }\n",
       "\n",
       "    .dataframe tbody tr th {\n",
       "        vertical-align: top;\n",
       "    }\n",
       "\n",
       "    .dataframe thead th {\n",
       "        text-align: right;\n",
       "    }\n",
       "</style>\n",
       "<table border=\"1\" class=\"dataframe\">\n",
       "  <thead>\n",
       "    <tr style=\"text-align: right;\">\n",
       "      <th></th>\n",
       "      <th>Date</th>\n",
       "      <th>News_Senti</th>\n",
       "      <th>Close_USD</th>\n",
       "      <th>Stock_Difference</th>\n",
       "      <th>Twitter_Senti</th>\n",
       "      <th>Reddit_Comment</th>\n",
       "      <th>Reddit_SelfText</th>\n",
       "    </tr>\n",
       "  </thead>\n",
       "  <tbody>\n",
       "    <tr>\n",
       "      <td>0</td>\n",
       "      <td>1/7/2018</td>\n",
       "      <td>0.000000</td>\n",
       "      <td>0.000000</td>\n",
       "      <td>0.000000</td>\n",
       "      <td>0.0000</td>\n",
       "      <td>0.167460</td>\n",
       "      <td>0.352600</td>\n",
       "    </tr>\n",
       "    <tr>\n",
       "      <td>1</td>\n",
       "      <td>2/7/2018</td>\n",
       "      <td>0.000000</td>\n",
       "      <td>40.660223</td>\n",
       "      <td>0.007702</td>\n",
       "      <td>0.0000</td>\n",
       "      <td>0.091721</td>\n",
       "      <td>-0.167850</td>\n",
       "    </tr>\n",
       "    <tr>\n",
       "      <td>2</td>\n",
       "      <td>3/7/2018</td>\n",
       "      <td>-0.013258</td>\n",
       "      <td>41.472320</td>\n",
       "      <td>0.812097</td>\n",
       "      <td>0.0000</td>\n",
       "      <td>0.195632</td>\n",
       "      <td>0.065820</td>\n",
       "    </tr>\n",
       "    <tr>\n",
       "      <td>3</td>\n",
       "      <td>4/7/2018</td>\n",
       "      <td>0.000000</td>\n",
       "      <td>41.380457</td>\n",
       "      <td>-0.091864</td>\n",
       "      <td>0.0000</td>\n",
       "      <td>0.089100</td>\n",
       "      <td>0.192950</td>\n",
       "    </tr>\n",
       "    <tr>\n",
       "      <td>4</td>\n",
       "      <td>5/7/2018</td>\n",
       "      <td>0.000000</td>\n",
       "      <td>41.099746</td>\n",
       "      <td>-0.280711</td>\n",
       "      <td>0.0000</td>\n",
       "      <td>0.107269</td>\n",
       "      <td>0.191075</td>\n",
       "    </tr>\n",
       "    <tr>\n",
       "      <td>...</td>\n",
       "      <td>...</td>\n",
       "      <td>...</td>\n",
       "      <td>...</td>\n",
       "      <td>...</td>\n",
       "      <td>...</td>\n",
       "      <td>...</td>\n",
       "      <td>...</td>\n",
       "    </tr>\n",
       "    <tr>\n",
       "      <td>483</td>\n",
       "      <td>27/10/2019</td>\n",
       "      <td>0.000000</td>\n",
       "      <td>0.000000</td>\n",
       "      <td>0.000000</td>\n",
       "      <td>0.6369</td>\n",
       "      <td>0.000000</td>\n",
       "      <td>0.000000</td>\n",
       "    </tr>\n",
       "    <tr>\n",
       "      <td>484</td>\n",
       "      <td>28/10/2019</td>\n",
       "      <td>0.107508</td>\n",
       "      <td>43.848824</td>\n",
       "      <td>0.522953</td>\n",
       "      <td>0.6369</td>\n",
       "      <td>0.000000</td>\n",
       "      <td>0.000000</td>\n",
       "    </tr>\n",
       "    <tr>\n",
       "      <td>485</td>\n",
       "      <td>29/10/2019</td>\n",
       "      <td>0.139891</td>\n",
       "      <td>43.751215</td>\n",
       "      <td>-0.097609</td>\n",
       "      <td>0.6729</td>\n",
       "      <td>0.000000</td>\n",
       "      <td>0.000000</td>\n",
       "    </tr>\n",
       "    <tr>\n",
       "      <td>486</td>\n",
       "      <td>30/10/2019</td>\n",
       "      <td>0.000000</td>\n",
       "      <td>43.149714</td>\n",
       "      <td>-0.601502</td>\n",
       "      <td>0.9357</td>\n",
       "      <td>0.000000</td>\n",
       "      <td>0.000000</td>\n",
       "    </tr>\n",
       "    <tr>\n",
       "      <td>487</td>\n",
       "      <td>31/10/2019</td>\n",
       "      <td>0.107235</td>\n",
       "      <td>43.147943</td>\n",
       "      <td>-0.001771</td>\n",
       "      <td>0.0000</td>\n",
       "      <td>0.000000</td>\n",
       "      <td>0.000000</td>\n",
       "    </tr>\n",
       "  </tbody>\n",
       "</table>\n",
       "<p>488 rows × 7 columns</p>\n",
       "</div>"
      ],
      "text/plain": [
       "           Date  News_Senti  Close_USD  Stock_Difference  Twitter_Senti  \\\n",
       "0      1/7/2018    0.000000   0.000000          0.000000         0.0000   \n",
       "1      2/7/2018    0.000000  40.660223          0.007702         0.0000   \n",
       "2      3/7/2018   -0.013258  41.472320          0.812097         0.0000   \n",
       "3      4/7/2018    0.000000  41.380457         -0.091864         0.0000   \n",
       "4      5/7/2018    0.000000  41.099746         -0.280711         0.0000   \n",
       "..          ...         ...        ...               ...            ...   \n",
       "483  27/10/2019    0.000000   0.000000          0.000000         0.6369   \n",
       "484  28/10/2019    0.107508  43.848824          0.522953         0.6369   \n",
       "485  29/10/2019    0.139891  43.751215         -0.097609         0.6729   \n",
       "486  30/10/2019    0.000000  43.149714         -0.601502         0.9357   \n",
       "487  31/10/2019    0.107235  43.147943         -0.001771         0.0000   \n",
       "\n",
       "     Reddit_Comment  Reddit_SelfText  \n",
       "0          0.167460         0.352600  \n",
       "1          0.091721        -0.167850  \n",
       "2          0.195632         0.065820  \n",
       "3          0.089100         0.192950  \n",
       "4          0.107269         0.191075  \n",
       "..              ...              ...  \n",
       "483        0.000000         0.000000  \n",
       "484        0.000000         0.000000  \n",
       "485        0.000000         0.000000  \n",
       "486        0.000000         0.000000  \n",
       "487        0.000000         0.000000  \n",
       "\n",
       "[488 rows x 7 columns]"
      ]
     },
     "execution_count": 22,
     "metadata": {},
     "output_type": "execute_result"
    }
   ],
   "source": [
    "from sklearn.linear_model import LinearRegression\n",
    "\n",
    "df = pd.read_csv(r\"C:\\Users\\Jurgen\\Desktop\\FYP\\Shared\\News_Twitter_Stock_Reddit_NaN.csv\")\n",
    "# df = df.drop(columns = [\"Reddit_Comment\"])\n",
    "# df = df.dropna().reset_index(drop=True)\n",
    "df = df.fillna(0)\n",
    "X = df[[\"News_Senti\", \"Twitter_Senti\", \"Reddit_SelfText\", \"Reddit_Comment\"]].to_numpy()#.reshape(-1, 1)\n",
    "y = df[\"Stock_Difference\"].to_numpy()\n",
    "df"
   ]
  },
  {
   "cell_type": "code",
   "execution_count": 23,
   "metadata": {},
   "outputs": [],
   "source": [
    "X_train, X_test, y_train, y_test = train_test_split(X, y, test_size=0.25, random_state=0)"
   ]
  },
  {
   "cell_type": "code",
   "execution_count": null,
   "metadata": {},
   "outputs": [],
   "source": []
  },
  {
   "cell_type": "code",
   "execution_count": null,
   "metadata": {},
   "outputs": [],
   "source": [
    "# from sklearn.metrics import mean_squared_error, r2_score\n",
    "\n",
    "\n",
    "# regr = LinearRegression()\n",
    "# regr.fit(X_train, y_train)\n",
    "# y_pred = regr.predict(X_test)\n",
    "\n",
    "# # The coefficients\n",
    "# print('Coefficients: \\n', regr.coef_)\n",
    "# # The mean squared error\n",
    "# print('Mean squared error: %.2f'\n",
    "#       % mean_squared_error(y_test, y_pred))\n",
    "# # The coefficient of determination: 1 is perfect prediction\n",
    "# print('Coefficient of determination: %.2f'\n",
    "#       % r2_score(y_test, y_pred))\n",
    "# # The intercept\n",
    "# print(\"Intercept: \", regr.intercept_)"
   ]
  },
  {
   "cell_type": "code",
   "execution_count": null,
   "metadata": {},
   "outputs": [],
   "source": []
  },
  {
   "cell_type": "code",
   "execution_count": 24,
   "metadata": {
    "scrolled": true
   },
   "outputs": [
    {
     "name": "stdout",
     "output_type": "stream",
     "text": [
      "R^2:  -0.08756862334770266\n",
      "Variance Score:  -0.08590281881773265\n",
      "Max Error:  2.12388371615\n",
      "Mean Absolute Error: 0.43293328897959815\n",
      "Mean Squared Error: 0.3868237021411043\n",
      "Root Mean Squared Error: 0.6219515271635759\n"
     ]
    }
   ],
   "source": [
    "from sklearn.ensemble import RandomForestRegressor\n",
    "from sklearn import metrics\n",
    "\n",
    "text_classifier = RandomForestRegressor(n_estimators=200, random_state=0)\n",
    "text_classifier.fit(X_train, y_train)\n",
    "y_pred = text_classifier.predict(X_test)\n",
    "\n",
    "\n",
    "print(\"R^2: \", metrics.r2_score(y_test, y_pred))\n",
    "print(\"Variance Score: \", metrics.explained_variance_score(y_test, y_pred))\n",
    "print(\"Max Error: \", metrics.max_error(y_test, y_pred))\n",
    "print('Mean Absolute Error:', metrics.mean_absolute_error(y_test, y_pred))\n",
    "print('Mean Squared Error:', metrics.mean_squared_error(y_test, y_pred))\n",
    "print('Root Mean Squared Error:', np.sqrt(metrics.mean_squared_error(y_test, y_pred)))"
   ]
  },
  {
   "cell_type": "code",
   "execution_count": 25,
   "metadata": {},
   "outputs": [
    {
     "name": "stdout",
     "output_type": "stream",
     "text": [
      "RMSE value for k=  1 is: 0.7867765709661604\n",
      "RMSE value for k=  2 is: 0.6880411302571868\n",
      "RMSE value for k=  3 is: 0.6842671912760838\n",
      "RMSE value for k=  4 is: 0.6516923860401873\n",
      "RMSE value for k=  5 is: 0.6449854277370106\n",
      "RMSE value for k=  6 is: 0.6486258170940772\n",
      "RMSE value for k=  7 is: 0.6368489070762788\n",
      "RMSE value for k=  8 is: 0.6294905474507766\n",
      "RMSE value for k=  9 is: 0.6215002058788542\n",
      "RMSE value for k=  10 is: 0.6190973256074324\n",
      "RMSE value for k=  11 is: 0.6151798912969584\n",
      "RMSE value for k=  12 is: 0.6183659911480387\n",
      "RMSE value for k=  13 is: 0.6133937877071572\n",
      "RMSE value for k=  14 is: 0.6098477001493736\n",
      "RMSE value for k=  15 is: 0.6082887620247751\n",
      "RMSE value for k=  16 is: 0.6089510948937361\n",
      "RMSE value for k=  17 is: 0.6127085174760024\n",
      "RMSE value for k=  18 is: 0.6087682970846223\n",
      "RMSE value for k=  19 is: 0.6081320996179361\n",
      "RMSE value for k=  20 is: 0.6068768916023913\n"
     ]
    }
   ],
   "source": [
    "from sklearn import neighbors\n",
    "from sklearn.metrics import mean_squared_error \n",
    "from math import sqrt\n",
    "\n",
    "rmse_val = [] #to store rmse values for different k\n",
    "for K in range(20):\n",
    "    K = K+1\n",
    "    model = neighbors.KNeighborsRegressor(n_neighbors = K)\n",
    "\n",
    "    model.fit(X_train, y_train)  #fit the model\n",
    "    pred=model.predict(X_test) #make prediction on test set\n",
    "    error = sqrt(mean_squared_error(y_test, pred)) #calculate rmse\n",
    "    rmse_val.append(error) #store rmse values\n",
    "    print('RMSE value for k= ' , K , 'is:', error)\n"
   ]
  },
  {
   "cell_type": "code",
   "execution_count": 26,
   "metadata": {},
   "outputs": [
    {
     "name": "stdout",
     "output_type": "stream",
     "text": [
      "R^2:  -0.03548734198383352\n",
      "Variance Score:  -0.03270777222830756\n",
      "Max Error:  2.2328559825000003\n",
      "Mean Absolute Error: 0.41501708128688525\n",
      "Mean Squared Error: 0.3682995615609807\n",
      "Root Mean Squared Error: 0.6068768916023913\n"
     ]
    }
   ],
   "source": [
    "from sklearn import metrics\n",
    "from sklearn import neighbors\n",
    "from math import sqrt\n",
    "\n",
    "\n",
    "\n",
    "\n",
    "knn = neighbors.KNeighborsRegressor(n_neighbors = 20)\n",
    "knn.fit(X_train, y_train)\n",
    "y_pred = knn.predict(X_test)\n",
    "\n",
    "\n",
    "print(\"R^2: \", metrics.r2_score(y_test, y_pred))\n",
    "print(\"Variance Score: \", metrics.explained_variance_score(y_test, y_pred))\n",
    "print(\"Max Error: \", metrics.max_error(y_test, y_pred))\n",
    "print('Mean Absolute Error:', metrics.mean_absolute_error(y_test, y_pred))\n",
    "print('Mean Squared Error:', metrics.mean_squared_error(y_test, y_pred))\n",
    "print('Root Mean Squared Error:', np.sqrt(metrics.mean_squared_error(y_test, y_pred)))\n",
    "error = sqrt(metrics.mean_squared_error(y_test,y_pred)) #calculate rmse\n",
    "rmse_val.append(error) #store rmse values"
   ]
  },
  {
   "cell_type": "code",
   "execution_count": 27,
   "metadata": {
    "scrolled": true
   },
   "outputs": [
    {
     "data": {
      "image/png": "[encoded data removed]",
      "text/plain": [
       "<Figure size 432x288 with 1 Axes>"
      ]
     },
     "metadata": {},
     "output_type": "display_data"
    }
   ],
   "source": [
    "import matplotlib.pyplot as plt\n",
    "\n",
    "# Plot outputs\n",
    "# plt.scatter(TwitterSenti, y_test,  color='yellow')\n",
    "# plt.scatter(TwitterSenti, y_pred, color='blue')\n",
    "# plt.scatter(NewsSenti, y_pred, color='purple')\n",
    "# plt.plot(X_test, y_test, color = \"blue\")\n",
    "# plt.scatter(X_test, y_pred, color = \"yellow\")\n",
    "plt.plot(y_test, color = \"red\")\n",
    "plt.plot(y_pred, color = \"blue\")\n",
    "\n",
    "\n",
    "plt.xticks(())\n",
    "plt.yticks(())\n",
    "\n",
    "plt.show()\n",
    "\n",
    "# print(X_test.shape, y_test.shape)\n",
    "# print(X_test.shape, y_pred.shape)\n",
    "\n",
    "# print(y_pred)\n",
    "\n"
   ]
  },
  {
   "cell_type": "code",
   "execution_count": null,
   "metadata": {},
   "outputs": [],
   "source": [
    "test = pd.DataFrame({'Actual': y_test, 'Predicted': y_pred, 'Difference': (y_pred - y_test)})\n",
    "test"
   ]
  },
  {
   "cell_type": "code",
   "execution_count": null,
   "metadata": {},
   "outputs": [],
   "source": [
    "NewsSenti = []\n",
    "TwitterSenti = []\n",
    "for i in range(len(y_test)):\n",
    "    NewsSenti.append(X_test[i][0])\n",
    "    TwitterSenti.append(X_test[i][1])\n",
    "    "
   ]
  },
  {
   "cell_type": "markdown",
   "metadata": {},
   "source": [
    "# CLASSIFIER"
   ]
  },
  {
   "cell_type": "code",
   "execution_count": null,
   "metadata": {},
   "outputs": [],
   "source": [
    "#Classifier\n",
    "\n",
    "# df1 = pd.read_csv(r\"C:\\Users\\Jurgen\\Desktop\\FYP\\News\\SK-Learn\\News_Stock_Data_30.csv\")\n",
    "# X = df1[\"News_Senti\"].to_numpy().reshape(-1, 1)\n",
    "# y = df1[\"Stock_Changes\"].to_numpy()\n",
    "# df1"
   ]
  },
  {
   "cell_type": "code",
   "execution_count": null,
   "metadata": {},
   "outputs": [],
   "source": [
    "from sklearn.ensemble import RandomForestClassifier\n",
    "from sklearn import metrics\n",
    "\n",
    "clf = RandomForestClassifier(n_estimators=100)\n",
    "clf.fit(X_train, y_train)\n",
    "\n",
    "y_pred = clf.predict(X_test)\n",
    "# Model Accuracy, how often is the classifier correct?\n",
    "print(\"Accuracy:\",metrics.accuracy_score(y_test, y_pred))"
   ]
  },
  {
   "cell_type": "code",
   "execution_count": null,
   "metadata": {},
   "outputs": [],
   "source": [
    "count = 0\n",
    "for i in range(len(y_test)):\n",
    "    if y_test[i] == y_pred[i]:\n",
    "        count += 1\n",
    "print(count, '/', len(y_test))\n",
    "print(y_test)\n",
    "print(y_pred)"
   ]
  }
 ],
 "metadata": {
  "kernelspec": {
   "display_name": "Python 3",
   "language": "python",
   "name": "python3"
  },
  "language_info": {
   "codemirror_mode": {
    "name": "ipython",
    "version": 3
   },
   "file_extension": ".py",
   "mimetype": "text/x-python",
   "name": "python",
   "nbconvert_exporter": "python",
   "pygments_lexer": "ipython3",
   "version": "3.7.4"
  }
 },
 "nbformat": 4,
 "nbformat_minor": 2
}
