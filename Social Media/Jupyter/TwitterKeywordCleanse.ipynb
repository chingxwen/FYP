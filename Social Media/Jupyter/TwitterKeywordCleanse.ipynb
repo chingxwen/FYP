{
 "cells": [
  {
   "cell_type": "code",
   "execution_count": 1,
   "metadata": {},
   "outputs": [],
   "source": [
    "import pandas as pd\n",
    "import numpy as np\n",
    "from nltk.corpus import stopwords\n",
    "from nltk.tokenize import RegexpTokenizer\n",
    "import csv\n",
    "import re"
   ]
  },
  {
   "cell_type": "code",
   "execution_count": 3,
   "metadata": {},
   "outputs": [
    {
     "name": "stdout",
     "output_type": "stream",
     "text": [
      "Which date do you want to cleanse ? April2019\n"
     ]
    }
   ],
   "source": [
    "datafile = input('Which date do you want to cleanse ? ')\n",
    "df = pd.read_csv(\"C:/Users/User/Desktop/FYP/FYP/Social Media/CSV/Keywords/Format/New\" + datafile + '.csv', names=['Tweets','Date'])\n"
   ]
  },
  {
   "cell_type": "code",
   "execution_count": 4,
   "metadata": {},
   "outputs": [],
   "source": [
    "#remove links\n",
    "df['Tweets'] = df['Tweets'].str.replace(r'http\\S+|www.\\S+', '', case=False)\n"
   ]
  },
  {
   "cell_type": "code",
   "execution_count": 5,
   "metadata": {},
   "outputs": [
    {
     "name": "stdout",
     "output_type": "stream",
     "text": [
      "                                                Tweets        Date\n",
      "NaN                                                  0           0\n",
      "0.0  “the final laps”, if you will. Ha. What if you...  2019-04-29\n",
      "1.0   … #PlannedParenthood selects a Chinese to lea...  2019-04-29\n",
      "2.0  Making America great again? #Trump #MAGA #farm...  2019-04-29\n",
      "3.0  U.S. Farmer Income Drops Most Since 2016 as Tr...  2019-04-29\n",
      "4.0  If anyone should have some dough socked away f...  2019-04-29\n",
      "5.0  U. S Cut All Tie with China. China Cut All Tra...  2019-04-29\n",
      "6.0  米中貿易摩擦にも関わらず米国から中国への直接投資は増加しているという話。 US invest...  2019-04-29\n",
      "7.0  U.S. farmer income plummets $11.8 billion as T...  2019-04-29\n",
      "8.0  U.S. Farmer Income Drops Most Since 2016 as Tr...  2019-04-29\n"
     ]
    }
   ],
   "source": [
    "# Removal of Null Values\n",
    "df['Tweets'].replace('',np.nan,inplace=True)\n",
    "df['Tweets'].replace(' ',np.nan,inplace=True)\n",
    "df['Tweets'].replace('  ',np.nan,inplace=True)\n",
    "df['Tweets'].replace('   ',np.nan,inplace=True)\n",
    "df['Tweets'].replace('    ',np.nan,inplace=True)\n",
    "df.dropna(axis = 0, how = 'any', inplace = True)\n",
    "print(df.head(10))\n"
   ]
  },
  {
   "cell_type": "code",
   "execution_count": 6,
   "metadata": {},
   "outputs": [
    {
     "name": "stdout",
     "output_type": "stream",
     "text": [
      "Special Characters Removed\n"
     ]
    }
   ],
   "source": [
    "# Remove Special Characters \n",
    "df['Tweets'] = df['Tweets'].str.replace(r'[^A-Za-z0-9 ]+', '', case = False)\n",
    "print('Special Characters Removed')\n"
   ]
  },
  {
   "cell_type": "code",
   "execution_count": 7,
   "metadata": {},
   "outputs": [],
   "source": [
    "#removal of numeric charactars\n",
    "df['Tweets'] = df['Tweets'].str.replace(\"\\\\d\", \"\")\n"
   ]
  },
  {
   "cell_type": "code",
   "execution_count": 8,
   "metadata": {},
   "outputs": [],
   "source": [
    "#Removal of Trailing White Spaces\n",
    "dfframe = df['Tweets'].to_frame()\n",
    "dflist = df['Tweets'].tolist()\n",
    "\n",
    "dftweet2 = df['Tweets'].str.strip()\n",
    "df2 = dftweet2.to_frame()\n"
   ]
  },
  {
   "cell_type": "code",
   "execution_count": 9,
   "metadata": {},
   "outputs": [],
   "source": [
    "# check for duplicate rows and remove duplicates\n",
    "df.drop_duplicates(subset = 'Tweets' ,keep = 'first', inplace = True)\n"
   ]
  },
  {
   "cell_type": "code",
   "execution_count": 10,
   "metadata": {},
   "outputs": [],
   "source": [
    "# output to csv\n",
    "df.to_csv('C:/Users/User/Desktop/FYP/FYP/Social Media/CSV/Keywords/Format/Cleanse/' + datafile + 'Cleanse.csv', sep=',', index = False, header = True)\n"
   ]
  },
  {
   "cell_type": "code",
   "execution_count": null,
   "metadata": {},
   "outputs": [],
   "source": []
  },
  {
   "cell_type": "code",
   "execution_count": null,
   "metadata": {},
   "outputs": [],
   "source": []
  }
 ],
 "metadata": {
  "kernelspec": {
   "display_name": "Python 3",
   "language": "python",
   "name": "python3"
  },
  "language_info": {
   "codemirror_mode": {
    "name": "ipython",
    "version": 3
   },
   "file_extension": ".py",
   "mimetype": "text/x-python",
   "name": "python",
   "nbconvert_exporter": "python",
   "pygments_lexer": "ipython3",
   "version": "3.7.4"
  }
 },
 "nbformat": 4,
 "nbformat_minor": 2
}
