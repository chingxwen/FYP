{
 "cells": [
  {
   "cell_type": "code",
   "execution_count": 1,
   "metadata": {},
   "outputs": [],
   "source": [
    "import pandas as pd\n",
    "import re\n",
    "import dateutil.parser as dparser\n",
    "from dateutil.tz import tzutc\n",
    "import datefinder\n",
    "from datetime import datetime"
   ]
  },
  {
   "cell_type": "code",
   "execution_count": 3,
   "metadata": {},
   "outputs": [
    {
     "name": "stdout",
     "output_type": "stream",
     "text": [
      "Which DataSet do you want to Format ? April2019\n"
     ]
    }
   ],
   "source": [
    "# read csv\n",
    "datafile = input('Which DataSet do you want to Format ? ')\n",
    "df = pd.read_csv('C:/Users/User/Desktop/FYP/FYP/Social Media/CSV/Keywords/' + datafile + '.csv')\n"
   ]
  },
  {
   "cell_type": "code",
   "execution_count": 4,
   "metadata": {},
   "outputs": [],
   "source": [
    "# converting dataframe to list\n",
    "dflist = df.values.tolist()\n"
   ]
  },
  {
   "cell_type": "code",
   "execution_count": 5,
   "metadata": {},
   "outputs": [
    {
     "name": "stdout",
     "output_type": "stream",
     "text": [
      "[datetime.date(2019, 4, 29), datetime.date(2019, 4, 29), datetime.date(2019, 4, 29), datetime.date(2019, 4, 29), datetime.date(2019, 4, 29), datetime.date(2019, 4, 29), datetime.date(2019, 4, 29), datetime.date(2019, 4, 29), datetime.date(2019, 4, 29), datetime.date(2019, 4, 29), datetime.date(2019, 4, 29), datetime.date(2019, 4, 29), datetime.date(2019, 4, 29), datetime.date(2019, 4, 29), datetime.date(2019, 4, 29), datetime.date(2019, 4, 29), datetime.date(2019, 4, 29), datetime.date(2019, 4, 29), datetime.date(2019, 4, 29), datetime.date(2019, 4, 29), datetime.date(2019, 4, 29), datetime.date(2019, 4, 29), datetime.date(2019, 4, 29), datetime.date(2019, 4, 29), datetime.date(2019, 4, 29), datetime.date(2019, 4, 29), datetime.date(2019, 4, 29), datetime.date(2019, 4, 29), datetime.date(2019, 4, 29), datetime.date(2019, 4, 29), datetime.date(2019, 4, 29), datetime.date(2019, 4, 29), datetime.date(2019, 4, 29), datetime.date(2019, 4, 29), datetime.date(2019, 4, 29), datetime.date(2019, 4, 29), datetime.date(2019, 4, 29), datetime.date(2019, 4, 29), datetime.date(2019, 4, 29), datetime.date(2019, 4, 29), datetime.date(2019, 4, 29), datetime.date(2019, 4, 29), datetime.date(2019, 4, 29), datetime.date(2019, 4, 29), datetime.date(2019, 4, 29), datetime.date(2019, 4, 29), datetime.date(2019, 4, 29), datetime.date(2019, 4, 29), datetime.date(2019, 4, 29), datetime.date(2019, 4, 29), datetime.date(2019, 4, 29), datetime.date(2019, 4, 29), datetime.date(2019, 4, 29), datetime.date(2019, 4, 29), datetime.date(2019, 4, 29), datetime.date(2019, 4, 29), datetime.date(2019, 4, 29), datetime.date(2019, 4, 29), datetime.date(2019, 4, 29), datetime.date(2019, 4, 29), datetime.date(2019, 4, 29), datetime.date(2019, 4, 29), datetime.date(2019, 4, 29), datetime.date(2019, 4, 29), datetime.date(2019, 4, 29), datetime.date(2019, 4, 29), datetime.date(2019, 4, 29), datetime.date(2019, 4, 29), datetime.date(2019, 4, 29), datetime.date(2019, 4, 29), datetime.date(2019, 4, 29), datetime.date(2019, 4, 29), datetime.date(2019, 4, 29), datetime.date(2019, 4, 29), datetime.date(2019, 4, 29), datetime.date(2019, 4, 29), datetime.date(2019, 4, 29), datetime.date(2019, 4, 29), datetime.date(2019, 4, 29), datetime.date(2019, 4, 29), datetime.date(2019, 4, 29), datetime.date(2019, 4, 29), datetime.date(2019, 4, 29), datetime.date(2019, 4, 29), datetime.date(2019, 4, 29), datetime.date(2019, 4, 29), datetime.date(2019, 4, 29), datetime.date(2019, 4, 29), datetime.date(2019, 4, 29), datetime.date(2019, 4, 29), datetime.date(2019, 4, 29), datetime.date(2019, 4, 29), datetime.date(2019, 4, 29), datetime.date(2019, 4, 29), datetime.date(2019, 4, 29), datetime.date(2019, 4, 29), datetime.date(2019, 4, 29), datetime.date(2019, 4, 29), datetime.date(2019, 4, 29), datetime.date(2019, 4, 29), datetime.date(2019, 3, 20), datetime.date(2019, 4, 29), datetime.date(2019, 4, 29), datetime.date(2019, 4, 29), datetime.date(2019, 4, 29), datetime.date(2019, 4, 29), datetime.date(2019, 4, 29), datetime.date(2019, 4, 29), datetime.date(2019, 4, 29), datetime.date(2019, 4, 29), datetime.date(2019, 4, 29), datetime.date(2019, 4, 29), datetime.date(2019, 4, 29), datetime.date(2019, 4, 29), datetime.date(2019, 4, 29), datetime.date(2019, 4, 29), datetime.date(2019, 4, 29), datetime.date(2019, 4, 29), datetime.date(2019, 4, 29), datetime.date(2019, 4, 29), datetime.date(2019, 4, 29), datetime.date(2019, 4, 29), datetime.date(2019, 4, 29), datetime.date(2019, 4, 29), datetime.date(2019, 4, 29), datetime.date(2019, 4, 29), datetime.date(2019, 4, 29), datetime.date(2019, 4, 29), datetime.date(2019, 4, 29), datetime.date(2019, 4, 29), datetime.date(2019, 4, 29), datetime.date(2019, 4, 29), datetime.date(2019, 4, 29), datetime.date(2019, 4, 29), datetime.date(2019, 4, 29), datetime.date(2019, 4, 29), datetime.date(2019, 4, 29), datetime.date(2019, 4, 29), datetime.date(2019, 4, 29), datetime.date(2019, 4, 29), datetime.date(2019, 4, 29), datetime.date(2019, 4, 29), datetime.date(2019, 4, 29), datetime.date(2019, 4, 29), datetime.date(2019, 4, 29), datetime.date(2019, 4, 29), datetime.date(2019, 4, 29), datetime.date(2019, 4, 29), datetime.date(2019, 4, 29), datetime.date(2019, 4, 29), datetime.date(2019, 4, 29), datetime.date(2019, 4, 29), datetime.date(2019, 4, 29), datetime.date(2019, 4, 29), datetime.date(2019, 4, 29), datetime.date(2019, 4, 29), datetime.date(2019, 4, 29), datetime.date(2019, 4, 29), datetime.date(2019, 4, 29), datetime.date(2019, 4, 29), datetime.date(2019, 4, 29), datetime.date(2019, 4, 29), datetime.date(2019, 4, 29), datetime.date(2019, 4, 29), datetime.date(2019, 4, 29), datetime.date(2019, 4, 29), datetime.date(2019, 4, 29), datetime.date(2019, 4, 29), datetime.date(2019, 4, 29), datetime.date(2019, 4, 29), datetime.date(2019, 4, 29), datetime.date(2019, 4, 29), datetime.date(2019, 4, 29), datetime.date(2019, 4, 29), datetime.date(2019, 4, 29), datetime.date(2019, 4, 29), datetime.date(2019, 4, 29), datetime.date(2019, 4, 29), datetime.date(2019, 4, 29), datetime.date(2019, 4, 29), datetime.date(2019, 4, 29), datetime.date(2019, 4, 29), datetime.date(2019, 4, 29), datetime.date(2019, 4, 29), datetime.date(2019, 4, 29), datetime.date(2019, 4, 29), datetime.date(2019, 4, 29), datetime.date(2019, 4, 29), datetime.date(2019, 4, 29), datetime.date(2019, 4, 29), datetime.date(2019, 4, 29), datetime.date(2019, 4, 29), datetime.date(2019, 4, 29), datetime.date(2019, 4, 29), datetime.date(2019, 4, 29), datetime.date(2019, 4, 29), datetime.date(2019, 4, 29), datetime.date(2019, 4, 29), datetime.date(2019, 4, 29), datetime.date(2019, 4, 26)]\n"
     ]
    }
   ],
   "source": [
    "# loop to search for date in string , extract and remove date from string \n",
    "# append into array called date\n",
    "date = []\n",
    "for i in range (len(dflist)):\n",
    "    match = re.search(r'\\d{4}-\\d{2}-\\d{2}',str(dflist[i]))\n",
    "    date.append(datetime.strptime(match.group(), '%Y-%m-%d').date())\n",
    "print(date)"
   ]
  },
  {
   "cell_type": "code",
   "execution_count": 6,
   "metadata": {},
   "outputs": [
    {
     "name": "stdout",
     "output_type": "stream",
     "text": [
      "              0\n",
      "0    2019-04-29\n",
      "1    2019-04-29\n",
      "2    2019-04-29\n",
      "3    2019-04-29\n",
      "4    2019-04-29\n",
      "..          ...\n",
      "195  2019-04-29\n",
      "196  2019-04-29\n",
      "197  2019-04-29\n",
      "198  2019-04-29\n",
      "199  2019-04-26\n",
      "\n",
      "[200 rows x 1 columns]\n"
     ]
    }
   ],
   "source": [
    "\n",
    "#convert array date into Data frame \n",
    "dfdate = pd.DataFrame(date)\n",
    "print(dfdate)\n"
   ]
  },
  {
   "cell_type": "code",
   "execution_count": 7,
   "metadata": {},
   "outputs": [
    {
     "name": "stdout",
     "output_type": "stream",
     "text": [
      "                                                     0           0\n",
      "0    “the final laps”, if you will. Ha. What if you...  2019-04-29\n",
      "1    https://www.youtube.com/watch?v=u_VtgsnwhVw … ...  2019-04-29\n",
      "2    Making America great again? #Trump #MAGA #farm...  2019-04-29\n",
      "3    U.S. Farmer Income Drops Most Since 2016 as Tr...  2019-04-29\n",
      "4    If anyone should have some dough socked away f...  2019-04-29\n",
      "..                                                 ...         ...\n",
      "195  U.S. farmer income plummets $11.8 billion as T...  2019-04-29\n",
      "196  U.S. farmer income plummets $11.8 billion as T...  2019-04-29\n",
      "197  U.S. farmer income plummets $11.8 billion as T...  2019-04-29\n",
      "198  U.S. farmer income plummets $11.8 billion from...  2019-04-29\n",
      "199  Trump regret syndrome is spreading like a wild...  2019-04-26\n",
      "\n",
      "[200 rows x 2 columns]\n"
     ]
    }
   ],
   "source": [
    "#concat the different columns together\n",
    "final = pd.concat([df,dfdate],axis=1)\n",
    "print(final)\n"
   ]
  },
  {
   "cell_type": "code",
   "execution_count": 8,
   "metadata": {},
   "outputs": [
    {
     "name": "stdout",
     "output_type": "stream",
     "text": [
      "Written\n"
     ]
    }
   ],
   "source": [
    "#output into a csv file\n",
    "final.to_csv('C:/Users/User/Desktop/FYP/FYP/Social Media/CSV/Keywords/Format/New' + datafile + '.csv')\n",
    "print('Written')"
   ]
  },
  {
   "cell_type": "code",
   "execution_count": null,
   "metadata": {},
   "outputs": [],
   "source": []
  }
 ],
 "metadata": {
  "kernelspec": {
   "display_name": "Python 3",
   "language": "python",
   "name": "python3"
  },
  "language_info": {
   "codemirror_mode": {
    "name": "ipython",
    "version": 3
   },
   "file_extension": ".py",
   "mimetype": "text/x-python",
   "name": "python",
   "nbconvert_exporter": "python",
   "pygments_lexer": "ipython3",
   "version": "3.7.4"
  }
 },
 "nbformat": 4,
 "nbformat_minor": 2
}
