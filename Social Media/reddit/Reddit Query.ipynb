{
 "cells": [
  {
   "cell_type": "code",
   "execution_count": 1,
   "metadata": {},
   "outputs": [],
   "source": [
    "import praw\n",
    "import pandas as pd\n",
    "import datetime as dt"
   ]
  },
  {
   "cell_type": "code",
   "execution_count": 21,
   "metadata": {},
   "outputs": [],
   "source": [
    "#Creating Reddit instances\n",
    "reddit = praw.Reddit(\n",
    "    client_id = 'ft1YI89jxATR_g', \\\n",
    "    client_secret = '31k1f4ORFpgtQlZ-h2QLO9qxCPc', \\\n",
    "    user_agent = 'scrubmasterAPI', \\\n",
    "    username = 'pythonscrubSP', \\\n",
    "    password = 'scrubmaster54321'\n",
    ")"
   ]
  },
  {
   "cell_type": "code",
   "execution_count": 38,
   "metadata": {},
   "outputs": [],
   "source": [
    "# #Accessing Reddit Threads\n",
    "# subreddit = reddit.subreddit('Samsung')\n",
    "# top_subreddit = subreddit.search('samsung')\n",
    "\n",
    "# for submission in top_subreddit:\n",
    "#     print(submission.title)\n",
    "\n",
    "subreddit = reddit.subreddit('android')\n",
    "top_subreddit = subreddit.search('samsung', limit = 1000)"
   ]
  },
  {
   "cell_type": "code",
   "execution_count": 39,
   "metadata": {},
   "outputs": [
    {
     "name": "stdout",
     "output_type": "stream",
     "text": [
      "{'title': [], 'url': [], 'created': []}\n"
     ]
    }
   ],
   "source": [
    "#Dictionary Creation to append data\n",
    "topic_dictionary = {\n",
    "    \"title\" : [], \\\n",
    "    \"url\"   :[], \\\n",
    "    \"created\": [],\\\n",
    "}\n",
    "\n",
    "print(topic_dictionary)"
   ]
  },
  {
   "cell_type": "code",
   "execution_count": 40,
   "metadata": {},
   "outputs": [],
   "source": [
    "#Scrape data from Reddit and append into dictionary\n",
    "for submission in top_subreddit:\n",
    "    topic_dictionary[\"title\"].append(submission.title)\n",
    "    topic_dictionary[\"url\"].append(submission.url)\n",
    "    topic_dictionary[\"created\"].append(submission.created)"
   ]
  },
  {
   "cell_type": "code",
   "execution_count": 41,
   "metadata": {},
   "outputs": [],
   "source": [
    "#putting in dataframe\n",
    "data = pd.DataFrame(topic_dictionary)"
   ]
  },
  {
   "cell_type": "code",
   "execution_count": 42,
   "metadata": {},
   "outputs": [
    {
     "name": "stdout",
     "output_type": "stream",
     "text": [
      "                                                 title  \\\n",
      "0    Any fingerprint unlocks Galaxy S10, Samsung warns   \n",
      "1    (LEAD) Samsung denies selling 1 mln Galaxy Fol...   \n",
      "2    Samsung has sold 1 million Galaxy Fold smarthp...   \n",
      "3    Engineer from Samsung says chipset vendors are...   \n",
      "4    [Exclusive] Samsung Galaxy S11 renders reveal ...   \n",
      "..                                                 ...   \n",
      "245  AMD and Samsung Announce Strategic Partnership...   \n",
      "246  Samsung Galaxy S10 series outsells the S9 gene...   \n",
      "247  Samsung Galaxy S10/Note 10 fingerprint issue m...   \n",
      "248  Samsung is working on ‘perfect full-screen’ de...   \n",
      "249  Samsung Galaxy Note 10 Hands-on: Samsung’s Sup...   \n",
      "\n",
      "                                                   url       created  \\\n",
      "0       https://www.bbc.co.uk/news/technology-50080586  1.571334e+09   \n",
      "1       https://en.yna.co.kr/view/AEN20191213004551320  1.576277e+09   \n",
      "2    https://techcrunch.com/2019/12/12/samsung-has-...  1.576206e+09   \n",
      "3    https://www.reddit.com/r/Android/comments/e5qq...  1.575448e+09   \n",
      "4    https://www.91mobiles.com/hub/samsung-galaxy-s...  1.574450e+09   \n",
      "..                                                 ...           ...   \n",
      "245  https://finance.yahoo.com/news/amd-samsung-ann...  1.559599e+09   \n",
      "246  https://www.gsmarena.com/samsung_galaxy_s10_se...  1.562149e+09   \n",
      "247  https://www.gsmarena.com/samsung_galaxy_s10_no...  1.571688e+09   \n",
      "248  https://www.theverge.com/2019/3/14/18265265/sa...  1.552593e+09   \n",
      "249                        http://youtu.be/LgJcO-SyN5M  1.565237e+09   \n",
      "\n",
      "              timestamp  \n",
      "0   2019-10-18 01:41:14  \n",
      "1   2019-12-14 06:44:25  \n",
      "2   2019-12-13 10:53:19  \n",
      "3   2019-12-04 16:32:28  \n",
      "4   2019-11-23 03:10:21  \n",
      "..                  ...  \n",
      "245 2019-06-04 05:55:20  \n",
      "246 2019-07-03 18:17:31  \n",
      "247 2019-10-22 03:55:48  \n",
      "248 2019-03-15 03:45:31  \n",
      "249 2019-08-08 12:02:33  \n",
      "\n",
      "[250 rows x 4 columns]\n"
     ]
    }
   ],
   "source": [
    "#Converting datetime column from UNIX to normal\n",
    "def get_date(created):\n",
    "    return dt.datetime.fromtimestamp(created)\n",
    "_timestamp = data[\"created\"].apply(get_date)\n",
    "data = data.assign(timestamp = _timestamp)\n",
    "\n",
    "print(data)"
   ]
  },
  {
   "cell_type": "code",
   "execution_count": 43,
   "metadata": {},
   "outputs": [
    {
     "name": "stdout",
     "output_type": "stream",
     "text": [
      "                                                 title  \\\n",
      "0    Any fingerprint unlocks Galaxy S10, Samsung warns   \n",
      "1    (LEAD) Samsung denies selling 1 mln Galaxy Fol...   \n",
      "2    Samsung has sold 1 million Galaxy Fold smarthp...   \n",
      "3    Engineer from Samsung says chipset vendors are...   \n",
      "4    [Exclusive] Samsung Galaxy S11 renders reveal ...   \n",
      "..                                                 ...   \n",
      "245  AMD and Samsung Announce Strategic Partnership...   \n",
      "246  Samsung Galaxy S10 series outsells the S9 gene...   \n",
      "247  Samsung Galaxy S10/Note 10 fingerprint issue m...   \n",
      "248  Samsung is working on ‘perfect full-screen’ de...   \n",
      "249  Samsung Galaxy Note 10 Hands-on: Samsung’s Sup...   \n",
      "\n",
      "                                                   url           timestamp  \n",
      "0       https://www.bbc.co.uk/news/technology-50080586 2019-10-18 01:41:14  \n",
      "1       https://en.yna.co.kr/view/AEN20191213004551320 2019-12-14 06:44:25  \n",
      "2    https://techcrunch.com/2019/12/12/samsung-has-... 2019-12-13 10:53:19  \n",
      "3    https://www.reddit.com/r/Android/comments/e5qq... 2019-12-04 16:32:28  \n",
      "4    https://www.91mobiles.com/hub/samsung-galaxy-s... 2019-11-23 03:10:21  \n",
      "..                                                 ...                 ...  \n",
      "245  https://finance.yahoo.com/news/amd-samsung-ann... 2019-06-04 05:55:20  \n",
      "246  https://www.gsmarena.com/samsung_galaxy_s10_se... 2019-07-03 18:17:31  \n",
      "247  https://www.gsmarena.com/samsung_galaxy_s10_no... 2019-10-22 03:55:48  \n",
      "248  https://www.theverge.com/2019/3/14/18265265/sa... 2019-03-15 03:45:31  \n",
      "249                        http://youtu.be/LgJcO-SyN5M 2019-08-08 12:02:33  \n",
      "\n",
      "[250 rows x 3 columns]\n"
     ]
    }
   ],
   "source": [
    "#drop 'created' column\n",
    "data = data.drop('created', axis = 1)\n",
    "print(data)"
   ]
  },
  {
   "cell_type": "code",
   "execution_count": 44,
   "metadata": {},
   "outputs": [
    {
     "name": "stdout",
     "output_type": "stream",
     "text": [
      "Written!\n"
     ]
    }
   ],
   "source": [
    "#Write data to csv\n",
    "data.to_csv('C:/Users/jiajie/Desktop/FYP/reddit/Data/android.csv', index=False)\n",
    "print('Written!')"
   ]
  },
  {
   "cell_type": "code",
   "execution_count": 45,
   "metadata": {},
   "outputs": [
    {
     "name": "stdout",
     "output_type": "stream",
     "text": [
      "                                                 title  \\\n",
      "0    Any fingerprint unlocks Galaxy S10, Samsung warns   \n",
      "1    (LEAD) Samsung denies selling 1 mln Galaxy Fol...   \n",
      "2    Samsung has sold 1 million Galaxy Fold smarthp...   \n",
      "3    Engineer from Samsung says chipset vendors are...   \n",
      "4    [Exclusive] Samsung Galaxy S11 renders reveal ...   \n",
      "..                                                 ...   \n",
      "245  AMD and Samsung Announce Strategic Partnership...   \n",
      "246  Samsung Galaxy S10 series outsells the S9 gene...   \n",
      "247  Samsung Galaxy S10/Note 10 fingerprint issue m...   \n",
      "248  Samsung is working on ‘perfect full-screen’ de...   \n",
      "249  Samsung Galaxy Note 10 Hands-on: Samsung’s Sup...   \n",
      "\n",
      "                                                   url           timestamp  \n",
      "0       https://www.bbc.co.uk/news/technology-50080586 2019-10-18 01:41:14  \n",
      "1       https://en.yna.co.kr/view/AEN20191213004551320 2019-12-14 06:44:25  \n",
      "2    https://techcrunch.com/2019/12/12/samsung-has-... 2019-12-13 10:53:19  \n",
      "3    https://www.reddit.com/r/Android/comments/e5qq... 2019-12-04 16:32:28  \n",
      "4    https://www.91mobiles.com/hub/samsung-galaxy-s... 2019-11-23 03:10:21  \n",
      "..                                                 ...                 ...  \n",
      "245  https://finance.yahoo.com/news/amd-samsung-ann... 2019-06-04 05:55:20  \n",
      "246  https://www.gsmarena.com/samsung_galaxy_s10_se... 2019-07-03 18:17:31  \n",
      "247  https://www.gsmarena.com/samsung_galaxy_s10_no... 2019-10-22 03:55:48  \n",
      "248  https://www.theverge.com/2019/3/14/18265265/sa... 2019-03-15 03:45:31  \n",
      "249                        http://youtu.be/LgJcO-SyN5M 2019-08-08 12:02:33  \n",
      "\n",
      "[250 rows x 3 columns]\n"
     ]
    }
   ],
   "source": [
    "#See data\n",
    "print(data)"
   ]
  },
  {
   "cell_type": "code",
   "execution_count": null,
   "metadata": {},
   "outputs": [],
   "source": []
  },
  {
   "cell_type": "code",
   "execution_count": null,
   "metadata": {},
   "outputs": [],
   "source": []
  },
  {
   "cell_type": "code",
   "execution_count": null,
   "metadata": {},
   "outputs": [],
   "source": []
  }
 ],
 "metadata": {
  "kernelspec": {
   "display_name": "Python 3",
   "language": "python",
   "name": "python3"
  },
  "language_info": {
   "codemirror_mode": {
    "name": "ipython",
    "version": 3
   },
   "file_extension": ".py",
   "mimetype": "text/x-python",
   "name": "python",
   "nbconvert_exporter": "python",
   "pygments_lexer": "ipython3",
   "version": "3.7.4"
  }
 },
 "nbformat": 4,
 "nbformat_minor": 2
}
