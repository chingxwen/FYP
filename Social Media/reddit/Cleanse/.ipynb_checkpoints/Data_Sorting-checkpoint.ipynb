{
 "cells": [
  {
   "cell_type": "code",
   "execution_count": 31,
   "metadata": {},
   "outputs": [],
   "source": [
    "import pandas as pd\n"
   ]
  },
  {
   "cell_type": "code",
   "execution_count": 32,
   "metadata": {},
   "outputs": [
    {
     "data": {
      "text/html": [
       "<div>\n",
       "<style scoped>\n",
       "    .dataframe tbody tr th:only-of-type {\n",
       "        vertical-align: middle;\n",
       "    }\n",
       "\n",
       "    .dataframe tbody tr th {\n",
       "        vertical-align: top;\n",
       "    }\n",
       "\n",
       "    .dataframe thead th {\n",
       "        text-align: right;\n",
       "    }\n",
       "</style>\n",
       "<table border=\"1\" class=\"dataframe\">\n",
       "  <thead>\n",
       "    <tr style=\"text-align: right;\">\n",
       "      <th></th>\n",
       "      <th>0</th>\n",
       "      <th>neg</th>\n",
       "      <th>neu</th>\n",
       "      <th>pos</th>\n",
       "      <th>compound</th>\n",
       "    </tr>\n",
       "    <tr>\n",
       "      <th>timestamp</th>\n",
       "      <th></th>\n",
       "      <th></th>\n",
       "      <th></th>\n",
       "      <th></th>\n",
       "      <th></th>\n",
       "    </tr>\n",
       "  </thead>\n",
       "  <tbody>\n",
       "    <tr>\n",
       "      <th>2018-06-30</th>\n",
       "      <td>[\"Looking at it it doesn't appear to have any ...</td>\n",
       "      <td>0.000</td>\n",
       "      <td>0.865</td>\n",
       "      <td>0.135</td>\n",
       "      <td>0.6369</td>\n",
       "    </tr>\n",
       "    <tr>\n",
       "      <th>2018-06-30</th>\n",
       "      <td>['If they have the same prices, you may think ...</td>\n",
       "      <td>0.000</td>\n",
       "      <td>0.713</td>\n",
       "      <td>0.287</td>\n",
       "      <td>0.9524</td>\n",
       "    </tr>\n",
       "    <tr>\n",
       "      <th>2018-06-30</th>\n",
       "      <td>[\"So the Samsung galaxy card linked an article...</td>\n",
       "      <td>0.096</td>\n",
       "      <td>0.904</td>\n",
       "      <td>0.000</td>\n",
       "      <td>-0.3736</td>\n",
       "    </tr>\n",
       "    <tr>\n",
       "      <th>2018-07-01</th>\n",
       "      <td>[\"Just get the duos. They're both legit S9s. w...</td>\n",
       "      <td>0.000</td>\n",
       "      <td>1.000</td>\n",
       "      <td>0.000</td>\n",
       "      <td>0.0000</td>\n",
       "    </tr>\n",
       "    <tr>\n",
       "      <th>2018-07-01</th>\n",
       "      <td>['Updated my Samsung Galaxy A3 2017 to Oreo an...</td>\n",
       "      <td>0.000</td>\n",
       "      <td>1.000</td>\n",
       "      <td>0.000</td>\n",
       "      <td>0.0000</td>\n",
       "    </tr>\n",
       "    <tr>\n",
       "      <th>...</th>\n",
       "      <td>...</td>\n",
       "      <td>...</td>\n",
       "      <td>...</td>\n",
       "      <td>...</td>\n",
       "      <td>...</td>\n",
       "    </tr>\n",
       "    <tr>\n",
       "      <th>2019-10-07</th>\n",
       "      <td>[\"I always do trade-in programs so guess my pr...</td>\n",
       "      <td>0.000</td>\n",
       "      <td>1.000</td>\n",
       "      <td>0.000</td>\n",
       "      <td>0.0000</td>\n",
       "    </tr>\n",
       "    <tr>\n",
       "      <th>2019-10-07</th>\n",
       "      <td>[\"Samsung store ? But why do I see iPhone 11 P...</td>\n",
       "      <td>0.000</td>\n",
       "      <td>0.871</td>\n",
       "      <td>0.129</td>\n",
       "      <td>0.6850</td>\n",
       "    </tr>\n",
       "    <tr>\n",
       "      <th>2019-10-07</th>\n",
       "      <td>[\"I have a Samsung 10 plus and it can't connec...</td>\n",
       "      <td>0.031</td>\n",
       "      <td>0.943</td>\n",
       "      <td>0.026</td>\n",
       "      <td>-0.0772</td>\n",
       "    </tr>\n",
       "    <tr>\n",
       "      <th>2019-10-07</th>\n",
       "      <td>[\"Did Samsung go with a different motor for th...</td>\n",
       "      <td>0.067</td>\n",
       "      <td>0.933</td>\n",
       "      <td>0.000</td>\n",
       "      <td>-0.4753</td>\n",
       "    </tr>\n",
       "    <tr>\n",
       "      <th>2019-10-07</th>\n",
       "      <td>['Samsung Galaxy S5 My oldest samsung device i...</td>\n",
       "      <td>0.000</td>\n",
       "      <td>1.000</td>\n",
       "      <td>0.000</td>\n",
       "      <td>0.0000</td>\n",
       "    </tr>\n",
       "  </tbody>\n",
       "</table>\n",
       "<p>6647 rows × 5 columns</p>\n",
       "</div>"
      ],
      "text/plain": [
       "                                                            0    neg    neu  \\\n",
       "timestamp                                                                     \n",
       "2018-06-30  [\"Looking at it it doesn't appear to have any ...  0.000  0.865   \n",
       "2018-06-30  ['If they have the same prices, you may think ...  0.000  0.713   \n",
       "2018-06-30  [\"So the Samsung galaxy card linked an article...  0.096  0.904   \n",
       "2018-07-01  [\"Just get the duos. They're both legit S9s. w...  0.000  1.000   \n",
       "2018-07-01  ['Updated my Samsung Galaxy A3 2017 to Oreo an...  0.000  1.000   \n",
       "...                                                       ...    ...    ...   \n",
       "2019-10-07  [\"I always do trade-in programs so guess my pr...  0.000  1.000   \n",
       "2019-10-07  [\"Samsung store ? But why do I see iPhone 11 P...  0.000  0.871   \n",
       "2019-10-07  [\"I have a Samsung 10 plus and it can't connec...  0.031  0.943   \n",
       "2019-10-07  [\"Did Samsung go with a different motor for th...  0.067  0.933   \n",
       "2019-10-07  ['Samsung Galaxy S5 My oldest samsung device i...  0.000  1.000   \n",
       "\n",
       "              pos  compound  \n",
       "timestamp                    \n",
       "2018-06-30  0.135    0.6369  \n",
       "2018-06-30  0.287    0.9524  \n",
       "2018-06-30  0.000   -0.3736  \n",
       "2018-07-01  0.000    0.0000  \n",
       "2018-07-01  0.000    0.0000  \n",
       "...           ...       ...  \n",
       "2019-10-07  0.000    0.0000  \n",
       "2019-10-07  0.129    0.6850  \n",
       "2019-10-07  0.026   -0.0772  \n",
       "2019-10-07  0.000   -0.4753  \n",
       "2019-10-07  0.000    0.0000  \n",
       "\n",
       "[6647 rows x 5 columns]"
      ]
     },
     "execution_count": 32,
     "metadata": {},
     "output_type": "execute_result"
    }
   ],
   "source": [
    "df = pd.read_csv(r\"C:\\Users\\User\\Desktop\\FYP\\FYP\\Social Media\\reddit\\MLReady\\Comments\\Concat\\All_concat_comments.csv\")\n",
    "df = df.drop(columns = \"Unnamed: 0\")\n",
    "df[\"timestamp\"] = pd.to_datetime(df[\"timestamp\"]).dt.date\n",
    "df = df.set_index(\"timestamp\").sort_values(by='timestamp', ascending=True)\n",
    "df"
   ]
  },
  {
   "cell_type": "code",
   "execution_count": null,
   "metadata": {},
   "outputs": [],
   "source": [
    "# Polarity = []\n",
    "# for sentiment in df.Senti:\n",
    "#     if sentiment > 0:\n",
    "#         Polarity.append(1)\n",
    "#     elif sentiment < 0:\n",
    "#         Polarity.append(-1)\n",
    "# GeneralSenti = pd.DataFrame(Polarity, columns = [\"General_Sentiment\"])\n",
    "# df = pd.concat([df, GeneralSenti], axis = 1)"
   ]
  },
  {
   "cell_type": "code",
   "execution_count": 33,
   "metadata": {},
   "outputs": [],
   "source": [
    "Senti_Per_Day = df.groupby('timestamp').compound.mean()"
   ]
  },
  {
   "cell_type": "code",
   "execution_count": 34,
   "metadata": {},
   "outputs": [
    {
     "data": {
      "text/plain": [
       "timestamp\n",
       "2018-06-30    0.405233\n",
       "2018-07-01    0.167460\n",
       "2018-07-02    0.091721\n",
       "2018-07-03    0.195632\n",
       "2018-07-04    0.089100\n",
       "                ...   \n",
       "2019-10-03    0.347175\n",
       "2019-10-04    0.192654\n",
       "2019-10-05    0.372529\n",
       "2019-10-06    0.174458\n",
       "2019-10-07    0.284919\n",
       "Name: compound, Length: 177, dtype: float64"
      ]
     },
     "execution_count": 34,
     "metadata": {},
     "output_type": "execute_result"
    }
   ],
   "source": [
    "Senti_Per_Day"
   ]
  },
  {
   "cell_type": "code",
   "execution_count": 8,
   "metadata": {},
   "outputs": [
    {
     "data": {
      "text/plain": [
       "7.437537288135594"
      ]
     },
     "execution_count": 8,
     "metadata": {},
     "output_type": "execute_result"
    }
   ],
   "source": [
    "# avg = Senti_Per_Day.sum()/len(Senti_Per_Day)\n",
    "# avg"
   ]
  },
  {
   "cell_type": "code",
   "execution_count": 35,
   "metadata": {},
   "outputs": [
    {
     "data": {
      "text/html": [
       "<div>\n",
       "<style scoped>\n",
       "    .dataframe tbody tr th:only-of-type {\n",
       "        vertical-align: middle;\n",
       "    }\n",
       "\n",
       "    .dataframe tbody tr th {\n",
       "        vertical-align: top;\n",
       "    }\n",
       "\n",
       "    .dataframe thead th {\n",
       "        text-align: right;\n",
       "    }\n",
       "</style>\n",
       "<table border=\"1\" class=\"dataframe\">\n",
       "  <thead>\n",
       "    <tr style=\"text-align: right;\">\n",
       "      <th></th>\n",
       "    </tr>\n",
       "    <tr>\n",
       "      <th>timestamp</th>\n",
       "    </tr>\n",
       "  </thead>\n",
       "  <tbody>\n",
       "    <tr>\n",
       "      <th>2018-07-01</th>\n",
       "    </tr>\n",
       "    <tr>\n",
       "      <th>2018-07-02</th>\n",
       "    </tr>\n",
       "    <tr>\n",
       "      <th>2018-07-03</th>\n",
       "    </tr>\n",
       "    <tr>\n",
       "      <th>2018-07-04</th>\n",
       "    </tr>\n",
       "    <tr>\n",
       "      <th>2018-07-05</th>\n",
       "    </tr>\n",
       "    <tr>\n",
       "      <th>...</th>\n",
       "    </tr>\n",
       "    <tr>\n",
       "      <th>2019-10-27</th>\n",
       "    </tr>\n",
       "    <tr>\n",
       "      <th>2019-10-28</th>\n",
       "    </tr>\n",
       "    <tr>\n",
       "      <th>2019-10-29</th>\n",
       "    </tr>\n",
       "    <tr>\n",
       "      <th>2019-10-30</th>\n",
       "    </tr>\n",
       "    <tr>\n",
       "      <th>2019-10-31</th>\n",
       "    </tr>\n",
       "  </tbody>\n",
       "</table>\n",
       "<p>488 rows × 0 columns</p>\n",
       "</div>"
      ],
      "text/plain": [
       "Empty DataFrame\n",
       "Columns: []\n",
       "Index: [2018-07-01, 2018-07-02, 2018-07-03, 2018-07-04, 2018-07-05, 2018-07-06, 2018-07-07, 2018-07-08, 2018-07-09, 2018-07-10, 2018-07-11, 2018-07-12, 2018-07-13, 2018-07-14, 2018-07-15, 2018-07-16, 2018-07-17, 2018-07-18, 2018-07-19, 2018-07-20, 2018-07-21, 2018-07-22, 2018-07-23, 2018-07-24, 2018-07-25, 2018-07-26, 2018-07-27, 2018-07-28, 2018-07-29, 2018-07-30, 2018-07-31, 2018-08-01, 2018-08-02, 2018-08-03, 2018-08-04, 2018-08-05, 2018-08-06, 2018-08-07, 2018-08-08, 2018-08-09, 2018-08-10, 2018-08-11, 2018-08-12, 2018-08-13, 2018-08-14, 2018-08-15, 2018-08-16, 2018-08-17, 2018-08-18, 2018-08-19, 2018-08-20, 2018-08-21, 2018-08-22, 2018-08-23, 2018-08-24, 2018-08-25, 2018-08-26, 2018-08-27, 2018-08-28, 2018-08-29, 2018-08-30, 2018-08-31, 2018-09-01, 2018-09-02, 2018-09-03, 2018-09-04, 2018-09-05, 2018-09-06, 2018-09-07, 2018-09-08, 2018-09-09, 2018-09-10, 2018-09-11, 2018-09-12, 2018-09-13, 2018-09-14, 2018-09-15, 2018-09-16, 2018-09-17, 2018-09-18, 2018-09-19, 2018-09-20, 2018-09-21, 2018-09-22, 2018-09-23, 2018-09-24, 2018-09-25, 2018-09-26, 2018-09-27, 2018-09-28, 2018-09-29, 2018-09-30, 2018-10-01, 2018-10-02, 2018-10-03, 2018-10-04, 2018-10-05, 2018-10-06, 2018-10-07, 2018-10-08, ...]\n",
       "\n",
       "[488 rows x 0 columns]"
      ]
     },
     "execution_count": 35,
     "metadata": {},
     "output_type": "execute_result"
    }
   ],
   "source": [
    "import datetime\n",
    "start_date = datetime.date(2018, 7, 1)\n",
    "end_date = datetime.date(2019, 10, 31)\n",
    "mydates = pd.date_range(start_date, end_date).tolist()\n",
    "dates = pd.DataFrame(mydates, columns = [\"timestamp\"])\n",
    "dates[\"timestamp\"] = dates[\"timestamp\"].dt.date\n",
    "# dates[\"Senti\"] = 0\n",
    "dates.set_index(\"timestamp\").sort_values(by='timestamp', ascending=True)"
   ]
  },
  {
   "cell_type": "code",
   "execution_count": 30,
   "metadata": {},
   "outputs": [
    {
     "ename": "NameError",
     "evalue": "name 'Senti_Running_Dates' is not defined",
     "output_type": "error",
     "traceback": [
      "\u001b[1;31m---------------------------------------------------------------------------\u001b[0m",
      "\u001b[1;31mNameError\u001b[0m                                 Traceback (most recent call last)",
      "\u001b[1;32m<ipython-input-30-db239c9ff438>\u001b[0m in \u001b[0;36m<module>\u001b[1;34m\u001b[0m\n\u001b[1;32m----> 1\u001b[1;33m \u001b[0mSenti_Running_Dates\u001b[0m \u001b[1;33m=\u001b[0m \u001b[0mSenti_Running_Dates\u001b[0m\u001b[1;33m.\u001b[0m\u001b[0mrename\u001b[0m\u001b[1;33m(\u001b[0m\u001b[0mcolumns\u001b[0m \u001b[1;33m=\u001b[0m \u001b[1;33m{\u001b[0m\u001b[1;34m\"compound\"\u001b[0m \u001b[1;33m:\u001b[0m \u001b[1;34m\"Reddit_Senti\"\u001b[0m\u001b[1;33m}\u001b[0m\u001b[1;33m)\u001b[0m\u001b[1;33m\u001b[0m\u001b[1;33m\u001b[0m\u001b[0m\n\u001b[0m\u001b[0;32m      2\u001b[0m \u001b[1;31m# .sort_values(by='timestamp', ascending= True)\u001b[0m\u001b[1;33m\u001b[0m\u001b[1;33m\u001b[0m\u001b[1;33m\u001b[0m\u001b[0m\n\u001b[0;32m      3\u001b[0m \u001b[0mSenti_Running_Dates\u001b[0m\u001b[1;33m\u001b[0m\u001b[1;33m\u001b[0m\u001b[0m\n",
      "\u001b[1;31mNameError\u001b[0m: name 'Senti_Running_Dates' is not defined"
     ]
    }
   ],
   "source": [
    "Senti_Running_Dates = Senti_Running_Dates.rename(columns = {\"compound\" : \"Reddit_Senti\"})\n",
    "# .sort_values(by='timestamp', ascending= True)"
   ]
  },
  {
   "cell_type": "code",
   "execution_count": 28,
   "metadata": {},
   "outputs": [
    {
     "data": {
      "text/plain": [
       "timestamp\n",
       "2018-06-30    0.405233\n",
       "2018-07-01    0.167460\n",
       "2018-07-02    0.091721\n",
       "2018-07-03    0.195632\n",
       "2018-07-04    0.089100\n",
       "                ...   \n",
       "2019-10-03    0.347175\n",
       "2019-10-04    0.192654\n",
       "2019-10-05    0.372529\n",
       "2019-10-06    0.174458\n",
       "2019-10-07    0.284919\n",
       "Name: compound, Length: 177, dtype: float64"
      ]
     },
     "execution_count": 28,
     "metadata": {},
     "output_type": "execute_result"
    }
   ],
   "source": [
    "Senti_Per_Day"
   ]
  },
  {
   "cell_type": "code",
   "execution_count": 29,
   "metadata": {},
   "outputs": [
    {
     "name": "stderr",
     "output_type": "stream",
     "text": [
      "c:\\users\\user\\appdata\\local\\programs\\python\\python37\\lib\\site-packages\\ipykernel_launcher.py:1: FutureWarning: The signature of `Series.to_csv` was aligned to that of `DataFrame.to_csv`, and argument 'header' will change its default value from False to True: please pass an explicit value to suppress this warning.\n",
      "  \"\"\"Entry point for launching an IPython kernel.\n"
     ]
    }
   ],
   "source": [
    "Senti_Per_Day.to_csv(r'C:\\Users\\User\\Desktop\\FYP\\FYP\\Social Media\\reddit\\MLReady\\Comments\\Final_Senti\\Reddit_comments_senti.csv')"
   ]
  },
  {
   "cell_type": "code",
   "execution_count": null,
   "metadata": {},
   "outputs": [],
   "source": [
    "Stock_Diff = pd.read_csv(r\"C:\\Users\\Jurgen\\Desktop\\FYP\\Stock\\StockDifference.csv\")\n",
    "\n",
    "Stock_Diff[\"Date\"] = pd.to_datetime(Stock_Diff[\"Date\"]).dt.date\n",
    "Stock_Diff = Stock_Diff.set_index(\"Date\")"
   ]
  },
  {
   "cell_type": "code",
   "execution_count": null,
   "metadata": {},
   "outputs": [],
   "source": [
    "Stock_Diff"
   ]
  },
  {
   "cell_type": "code",
   "execution_count": null,
   "metadata": {},
   "outputs": [],
   "source": [
    "News_Stock = Senti_Running_Dates.join(Stock_Diff, lsuffix='Date', rsuffix='Date', on = \"Date\")"
   ]
  },
  {
   "cell_type": "code",
   "execution_count": null,
   "metadata": {},
   "outputs": [],
   "source": [
    "News_Stock.to_csv(\"News_Stock_Data.csv\")"
   ]
  },
  {
   "cell_type": "code",
   "execution_count": null,
   "metadata": {},
   "outputs": [],
   "source": [
    "Twitter_Senti = pd.read_csv(r\"C:\\Users\\Jurgen\\Desktop\\FYP\\Shared\\TwitterSentimentPerDay.csv\")\n",
    "Twitter_Senti[\"Date\"] = pd.to_datetime(Twitter_Senti[\"Date\"], format =  \"%d/%m/%Y\").dt.date\n",
    "Twitter_Senti = Twitter_Senti.set_index(\"Date\")\n",
    "Twitter_Senti = Twitter_Senti.rename(columns = {\"compound\" : \"Twitter_Senti\"}) \n",
    "Twitter_Senti"
   ]
  },
  {
   "cell_type": "code",
   "execution_count": null,
   "metadata": {},
   "outputs": [],
   "source": [
    "News_Twitter_Stock = News_Stock.join(Twitter_Senti, lsuffix='Date', rsuffix='Date', on = \"Date\")"
   ]
  },
  {
   "cell_type": "code",
   "execution_count": null,
   "metadata": {},
   "outputs": [],
   "source": [
    "News_Twitter_Stock.to_csv(r\"C:\\Users\\Jurgen\\Desktop\\FYP\\Shared\\News_Twitter_Stock_Data.csv\")"
   ]
  },
  {
   "cell_type": "code",
   "execution_count": null,
   "metadata": {},
   "outputs": [],
   "source": [
    "News_Twitter_Stock"
   ]
  },
  {
   "cell_type": "code",
   "execution_count": null,
   "metadata": {},
   "outputs": [],
   "source": [
    "PH = []\n",
    "for i in range(len(News_Twitter_Stock.Stock_Difference)):\n",
    "    if pd.isna(News_Twitter_Stock.Stock_Difference.values[i]) == True and News_Twitter_Stock.index[i].weekday() != 5 and News_Twitter_Stock.index[i].weekday() != 6:\n",
    "        PH.append((News_Twitter_Stock.index[i], News_Twitter_Stock.index[i].weekday()))"
   ]
  },
  {
   "cell_type": "code",
   "execution_count": null,
   "metadata": {},
   "outputs": [],
   "source": [
    "News_Twitter_Stock.Stock_Difference = News_Twitter_Stock.Stock_Difference.fillna(0)"
   ]
  }
 ],
 "metadata": {
  "kernelspec": {
   "display_name": "Python 3",
   "language": "python",
   "name": "python3"
  },
  "language_info": {
   "codemirror_mode": {
    "name": "ipython",
    "version": 3
   },
   "file_extension": ".py",
   "mimetype": "text/x-python",
   "name": "python",
   "nbconvert_exporter": "python",
   "pygments_lexer": "ipython3",
   "version": "3.7.4"
  }
 },
 "nbformat": 4,
 "nbformat_minor": 2
}
