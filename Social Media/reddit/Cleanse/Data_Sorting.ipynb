{
 "cells": [
  {
   "cell_type": "code",
   "execution_count": 50,
   "metadata": {},
   "outputs": [],
   "source": [
    "import pandas as pd\n"
   ]
  },
  {
   "cell_type": "code",
   "execution_count": 51,
   "metadata": {},
   "outputs": [
    {
     "data": {
      "text/html": [
       "<div>\n",
       "<style scoped>\n",
       "    .dataframe tbody tr th:only-of-type {\n",
       "        vertical-align: middle;\n",
       "    }\n",
       "\n",
       "    .dataframe tbody tr th {\n",
       "        vertical-align: top;\n",
       "    }\n",
       "\n",
       "    .dataframe thead th {\n",
       "        text-align: right;\n",
       "    }\n",
       "</style>\n",
       "<table border=\"1\" class=\"dataframe\">\n",
       "  <thead>\n",
       "    <tr style=\"text-align: right;\">\n",
       "      <th></th>\n",
       "      <th>body</th>\n",
       "      <th>neg</th>\n",
       "      <th>neu</th>\n",
       "      <th>pos</th>\n",
       "      <th>compound</th>\n",
       "    </tr>\n",
       "    <tr>\n",
       "      <th>timestamp</th>\n",
       "      <th></th>\n",
       "      <th></th>\n",
       "      <th></th>\n",
       "      <th></th>\n",
       "      <th></th>\n",
       "    </tr>\n",
       "  </thead>\n",
       "  <tbody>\n",
       "    <tr>\n",
       "      <th>2018-06-30</th>\n",
       "      <td>['I have a Samsung CF391, and I want to use it...</td>\n",
       "      <td>0.088</td>\n",
       "      <td>0.755</td>\n",
       "      <td>0.157</td>\n",
       "      <td>0.2960</td>\n",
       "    </tr>\n",
       "    <tr>\n",
       "      <th>2018-07-01</th>\n",
       "      <td>['I can hear my phone calls and the beeps and ...</td>\n",
       "      <td>0.000</td>\n",
       "      <td>0.910</td>\n",
       "      <td>0.090</td>\n",
       "      <td>0.4497</td>\n",
       "    </tr>\n",
       "    <tr>\n",
       "      <th>2018-07-01</th>\n",
       "      <td>['Hi! So I recently got a new phone, I took th...</td>\n",
       "      <td>0.065</td>\n",
       "      <td>0.816</td>\n",
       "      <td>0.118</td>\n",
       "      <td>0.7993</td>\n",
       "    </tr>\n",
       "    <tr>\n",
       "      <th>2018-07-01</th>\n",
       "      <td>['Rumours have it Apple will launch the new iP...</td>\n",
       "      <td>0.087</td>\n",
       "      <td>0.913</td>\n",
       "      <td>0.000</td>\n",
       "      <td>-0.2960</td>\n",
       "    </tr>\n",
       "    <tr>\n",
       "      <th>2018-07-01</th>\n",
       "      <td>[\"I just got a new S9+, after using an older S...</td>\n",
       "      <td>0.057</td>\n",
       "      <td>0.862</td>\n",
       "      <td>0.081</td>\n",
       "      <td>0.4574</td>\n",
       "    </tr>\n",
       "    <tr>\n",
       "      <th>...</th>\n",
       "      <td>...</td>\n",
       "      <td>...</td>\n",
       "      <td>...</td>\n",
       "      <td>...</td>\n",
       "      <td>...</td>\n",
       "    </tr>\n",
       "    <tr>\n",
       "      <th>2019-10-14</th>\n",
       "      <td>['Welcome to the Daily Tech Support Thread for...</td>\n",
       "      <td>0.000</td>\n",
       "      <td>0.897</td>\n",
       "      <td>0.103</td>\n",
       "      <td>0.8065</td>\n",
       "    </tr>\n",
       "    <tr>\n",
       "      <th>2019-10-14</th>\n",
       "      <td>['I’m trying to set a rotation for different p...</td>\n",
       "      <td>0.090</td>\n",
       "      <td>0.910</td>\n",
       "      <td>0.000</td>\n",
       "      <td>-0.5499</td>\n",
       "    </tr>\n",
       "    <tr>\n",
       "      <th>2019-10-14</th>\n",
       "      <td>['Hello guys, I\\'ve recently bought Samsung Ga...</td>\n",
       "      <td>0.032</td>\n",
       "      <td>0.906</td>\n",
       "      <td>0.062</td>\n",
       "      <td>0.2716</td>\n",
       "    </tr>\n",
       "    <tr>\n",
       "      <th>2019-10-14</th>\n",
       "      <td>[\"Ive seen it on pixel phones but can't find i...</td>\n",
       "      <td>0.000</td>\n",
       "      <td>1.000</td>\n",
       "      <td>0.000</td>\n",
       "      <td>0.0000</td>\n",
       "    </tr>\n",
       "    <tr>\n",
       "      <th>2019-10-14</th>\n",
       "      <td>['I previously was using brave browser and tho...</td>\n",
       "      <td>0.000</td>\n",
       "      <td>0.767</td>\n",
       "      <td>0.233</td>\n",
       "      <td>0.9468</td>\n",
       "    </tr>\n",
       "  </tbody>\n",
       "</table>\n",
       "<p>2215 rows × 5 columns</p>\n",
       "</div>"
      ],
      "text/plain": [
       "                                                         body    neg    neu  \\\n",
       "timestamp                                                                     \n",
       "2018-06-30  ['I have a Samsung CF391, and I want to use it...  0.088  0.755   \n",
       "2018-07-01  ['I can hear my phone calls and the beeps and ...  0.000  0.910   \n",
       "2018-07-01  ['Hi! So I recently got a new phone, I took th...  0.065  0.816   \n",
       "2018-07-01  ['Rumours have it Apple will launch the new iP...  0.087  0.913   \n",
       "2018-07-01  [\"I just got a new S9+, after using an older S...  0.057  0.862   \n",
       "...                                                       ...    ...    ...   \n",
       "2019-10-14  ['Welcome to the Daily Tech Support Thread for...  0.000  0.897   \n",
       "2019-10-14  ['I’m trying to set a rotation for different p...  0.090  0.910   \n",
       "2019-10-14  ['Hello guys, I\\'ve recently bought Samsung Ga...  0.032  0.906   \n",
       "2019-10-14  [\"Ive seen it on pixel phones but can't find i...  0.000  1.000   \n",
       "2019-10-14  ['I previously was using brave browser and tho...  0.000  0.767   \n",
       "\n",
       "              pos  compound  \n",
       "timestamp                    \n",
       "2018-06-30  0.157    0.2960  \n",
       "2018-07-01  0.090    0.4497  \n",
       "2018-07-01  0.118    0.7993  \n",
       "2018-07-01  0.000   -0.2960  \n",
       "2018-07-01  0.081    0.4574  \n",
       "...           ...       ...  \n",
       "2019-10-14  0.103    0.8065  \n",
       "2019-10-14  0.000   -0.5499  \n",
       "2019-10-14  0.062    0.2716  \n",
       "2019-10-14  0.000    0.0000  \n",
       "2019-10-14  0.233    0.9468  \n",
       "\n",
       "[2215 rows x 5 columns]"
      ]
     },
     "execution_count": 51,
     "metadata": {},
     "output_type": "execute_result"
    }
   ],
   "source": [
    "df = pd.read_csv(r\"C:\\Users\\User\\Desktop\\FYP\\FYP\\Social Media\\reddit\\MLReady\\SelfText\\Concat\\All_concat_selftext.csv\")\n",
    "df = df.drop(columns = \"Unnamed: 0\")\n",
    "df[\"timestamp\"] = pd.to_datetime(df[\"timestamp\"]).dt.date\n",
    "df = df.set_index(\"timestamp\").sort_values(by='timestamp', ascending=True)\n",
    "df"
   ]
  },
  {
   "cell_type": "code",
   "execution_count": null,
   "metadata": {},
   "outputs": [],
   "source": [
    "# Polarity = []\n",
    "# for sentiment in df.Senti:\n",
    "#     if sentiment > 0:\n",
    "#         Polarity.append(1)\n",
    "#     elif sentiment < 0:\n",
    "#         Polarity.append(-1)\n",
    "# GeneralSenti = pd.DataFrame(Polarity, columns = [\"General_Sentiment\"])\n",
    "# df = pd.concat([df, GeneralSenti], axis = 1)"
   ]
  },
  {
   "cell_type": "code",
   "execution_count": 52,
   "metadata": {},
   "outputs": [],
   "source": [
    "Senti_Per_Day = df.groupby('timestamp').compound.mean()"
   ]
  },
  {
   "cell_type": "code",
   "execution_count": 53,
   "metadata": {},
   "outputs": [
    {
     "data": {
      "text/plain": [
       "timestamp\n",
       "2018-06-30    0.296000\n",
       "2018-07-01    0.352600\n",
       "2018-07-02   -0.167850\n",
       "2018-07-03    0.065820\n",
       "2018-07-04    0.192950\n",
       "                ...   \n",
       "2019-10-10    0.454733\n",
       "2019-10-11    0.272988\n",
       "2019-10-12    0.179750\n",
       "2019-10-13    0.461025\n",
       "2019-10-14    0.256578\n",
       "Name: compound, Length: 251, dtype: float64"
      ]
     },
     "execution_count": 53,
     "metadata": {},
     "output_type": "execute_result"
    }
   ],
   "source": [
    "Senti_Per_Day"
   ]
  },
  {
   "cell_type": "code",
   "execution_count": 8,
   "metadata": {},
   "outputs": [
    {
     "data": {
      "text/plain": [
       "7.437537288135594"
      ]
     },
     "execution_count": 8,
     "metadata": {},
     "output_type": "execute_result"
    }
   ],
   "source": [
    "# avg = Senti_Per_Day.sum()/len(Senti_Per_Day)\n",
    "# avg"
   ]
  },
  {
   "cell_type": "code",
   "execution_count": 54,
   "metadata": {},
   "outputs": [
    {
     "data": {
      "text/html": [
       "<div>\n",
       "<style scoped>\n",
       "    .dataframe tbody tr th:only-of-type {\n",
       "        vertical-align: middle;\n",
       "    }\n",
       "\n",
       "    .dataframe tbody tr th {\n",
       "        vertical-align: top;\n",
       "    }\n",
       "\n",
       "    .dataframe thead th {\n",
       "        text-align: right;\n",
       "    }\n",
       "</style>\n",
       "<table border=\"1\" class=\"dataframe\">\n",
       "  <thead>\n",
       "    <tr style=\"text-align: right;\">\n",
       "      <th></th>\n",
       "    </tr>\n",
       "    <tr>\n",
       "      <th>timestamp</th>\n",
       "    </tr>\n",
       "  </thead>\n",
       "  <tbody>\n",
       "    <tr>\n",
       "      <th>2018-07-01</th>\n",
       "    </tr>\n",
       "    <tr>\n",
       "      <th>2018-07-02</th>\n",
       "    </tr>\n",
       "    <tr>\n",
       "      <th>2018-07-03</th>\n",
       "    </tr>\n",
       "    <tr>\n",
       "      <th>2018-07-04</th>\n",
       "    </tr>\n",
       "    <tr>\n",
       "      <th>2018-07-05</th>\n",
       "    </tr>\n",
       "    <tr>\n",
       "      <th>...</th>\n",
       "    </tr>\n",
       "    <tr>\n",
       "      <th>2019-10-27</th>\n",
       "    </tr>\n",
       "    <tr>\n",
       "      <th>2019-10-28</th>\n",
       "    </tr>\n",
       "    <tr>\n",
       "      <th>2019-10-29</th>\n",
       "    </tr>\n",
       "    <tr>\n",
       "      <th>2019-10-30</th>\n",
       "    </tr>\n",
       "    <tr>\n",
       "      <th>2019-10-31</th>\n",
       "    </tr>\n",
       "  </tbody>\n",
       "</table>\n",
       "<p>488 rows × 0 columns</p>\n",
       "</div>"
      ],
      "text/plain": [
       "Empty DataFrame\n",
       "Columns: []\n",
       "Index: [2018-07-01, 2018-07-02, 2018-07-03, 2018-07-04, 2018-07-05, 2018-07-06, 2018-07-07, 2018-07-08, 2018-07-09, 2018-07-10, 2018-07-11, 2018-07-12, 2018-07-13, 2018-07-14, 2018-07-15, 2018-07-16, 2018-07-17, 2018-07-18, 2018-07-19, 2018-07-20, 2018-07-21, 2018-07-22, 2018-07-23, 2018-07-24, 2018-07-25, 2018-07-26, 2018-07-27, 2018-07-28, 2018-07-29, 2018-07-30, 2018-07-31, 2018-08-01, 2018-08-02, 2018-08-03, 2018-08-04, 2018-08-05, 2018-08-06, 2018-08-07, 2018-08-08, 2018-08-09, 2018-08-10, 2018-08-11, 2018-08-12, 2018-08-13, 2018-08-14, 2018-08-15, 2018-08-16, 2018-08-17, 2018-08-18, 2018-08-19, 2018-08-20, 2018-08-21, 2018-08-22, 2018-08-23, 2018-08-24, 2018-08-25, 2018-08-26, 2018-08-27, 2018-08-28, 2018-08-29, 2018-08-30, 2018-08-31, 2018-09-01, 2018-09-02, 2018-09-03, 2018-09-04, 2018-09-05, 2018-09-06, 2018-09-07, 2018-09-08, 2018-09-09, 2018-09-10, 2018-09-11, 2018-09-12, 2018-09-13, 2018-09-14, 2018-09-15, 2018-09-16, 2018-09-17, 2018-09-18, 2018-09-19, 2018-09-20, 2018-09-21, 2018-09-22, 2018-09-23, 2018-09-24, 2018-09-25, 2018-09-26, 2018-09-27, 2018-09-28, 2018-09-29, 2018-09-30, 2018-10-01, 2018-10-02, 2018-10-03, 2018-10-04, 2018-10-05, 2018-10-06, 2018-10-07, 2018-10-08, ...]\n",
       "\n",
       "[488 rows x 0 columns]"
      ]
     },
     "execution_count": 54,
     "metadata": {},
     "output_type": "execute_result"
    }
   ],
   "source": [
    "import datetime\n",
    "start_date = datetime.date(2018, 7, 1)\n",
    "end_date = datetime.date(2019, 10, 31)\n",
    "mydates = pd.date_range(start_date, end_date).tolist()\n",
    "dates = pd.DataFrame(mydates, columns = [\"timestamp\"])\n",
    "dates[\"timestamp\"] = dates[\"timestamp\"].dt.date\n",
    "# dates[\"Senti\"] = 0\n",
    "dates.set_index(\"timestamp\").sort_values(by='timestamp', ascending=True)"
   ]
  },
  {
   "cell_type": "code",
   "execution_count": 55,
   "metadata": {},
   "outputs": [],
   "source": [
    "Senti_Running_Dates = dates.join(Senti_Per_Day, on = \"timestamp\")\n",
    "# Senti_Running_Dates = Senti_Running_Dates.fillna(avg)"
   ]
  },
  {
   "cell_type": "code",
   "execution_count": 56,
   "metadata": {},
   "outputs": [],
   "source": [
    "Senti_Running_Dates = Senti_Running_Dates.rename(columns = {\"compound\" : \"Reddit_Senti\"}).sort_values(by='timestamp', ascending= True)"
   ]
  },
  {
   "cell_type": "code",
   "execution_count": 57,
   "metadata": {},
   "outputs": [
    {
     "data": {
      "text/html": [
       "<div>\n",
       "<style scoped>\n",
       "    .dataframe tbody tr th:only-of-type {\n",
       "        vertical-align: middle;\n",
       "    }\n",
       "\n",
       "    .dataframe tbody tr th {\n",
       "        vertical-align: top;\n",
       "    }\n",
       "\n",
       "    .dataframe thead th {\n",
       "        text-align: right;\n",
       "    }\n",
       "</style>\n",
       "<table border=\"1\" class=\"dataframe\">\n",
       "  <thead>\n",
       "    <tr style=\"text-align: right;\">\n",
       "      <th></th>\n",
       "      <th>timestamp</th>\n",
       "      <th>Reddit_Senti</th>\n",
       "    </tr>\n",
       "  </thead>\n",
       "  <tbody>\n",
       "    <tr>\n",
       "      <th>0</th>\n",
       "      <td>2018-07-01</td>\n",
       "      <td>0.352600</td>\n",
       "    </tr>\n",
       "    <tr>\n",
       "      <th>1</th>\n",
       "      <td>2018-07-02</td>\n",
       "      <td>-0.167850</td>\n",
       "    </tr>\n",
       "    <tr>\n",
       "      <th>2</th>\n",
       "      <td>2018-07-03</td>\n",
       "      <td>0.065820</td>\n",
       "    </tr>\n",
       "    <tr>\n",
       "      <th>3</th>\n",
       "      <td>2018-07-04</td>\n",
       "      <td>0.192950</td>\n",
       "    </tr>\n",
       "    <tr>\n",
       "      <th>4</th>\n",
       "      <td>2018-07-05</td>\n",
       "      <td>0.191075</td>\n",
       "    </tr>\n",
       "    <tr>\n",
       "      <th>...</th>\n",
       "      <td>...</td>\n",
       "      <td>...</td>\n",
       "    </tr>\n",
       "    <tr>\n",
       "      <th>483</th>\n",
       "      <td>2019-10-27</td>\n",
       "      <td>NaN</td>\n",
       "    </tr>\n",
       "    <tr>\n",
       "      <th>484</th>\n",
       "      <td>2019-10-28</td>\n",
       "      <td>NaN</td>\n",
       "    </tr>\n",
       "    <tr>\n",
       "      <th>485</th>\n",
       "      <td>2019-10-29</td>\n",
       "      <td>NaN</td>\n",
       "    </tr>\n",
       "    <tr>\n",
       "      <th>486</th>\n",
       "      <td>2019-10-30</td>\n",
       "      <td>NaN</td>\n",
       "    </tr>\n",
       "    <tr>\n",
       "      <th>487</th>\n",
       "      <td>2019-10-31</td>\n",
       "      <td>NaN</td>\n",
       "    </tr>\n",
       "  </tbody>\n",
       "</table>\n",
       "<p>488 rows × 2 columns</p>\n",
       "</div>"
      ],
      "text/plain": [
       "      timestamp  Reddit_Senti\n",
       "0    2018-07-01      0.352600\n",
       "1    2018-07-02     -0.167850\n",
       "2    2018-07-03      0.065820\n",
       "3    2018-07-04      0.192950\n",
       "4    2018-07-05      0.191075\n",
       "..          ...           ...\n",
       "483  2019-10-27           NaN\n",
       "484  2019-10-28           NaN\n",
       "485  2019-10-29           NaN\n",
       "486  2019-10-30           NaN\n",
       "487  2019-10-31           NaN\n",
       "\n",
       "[488 rows x 2 columns]"
      ]
     },
     "execution_count": 57,
     "metadata": {},
     "output_type": "execute_result"
    }
   ],
   "source": [
    "Senti_Running_Dates"
   ]
  },
  {
   "cell_type": "code",
   "execution_count": 59,
   "metadata": {},
   "outputs": [],
   "source": [
    "Senti_Running_Dates.to_csv(r'C:\\Users\\User\\Desktop\\FYP\\FYP\\Social Media\\reddit\\MLReady\\SelfText\\Final_Senti\\Reddit_selftext_senti.csv')"
   ]
  },
  {
   "cell_type": "code",
   "execution_count": null,
   "metadata": {},
   "outputs": [],
   "source": [
    "Stock_Diff = pd.read_csv(r\"C:\\Users\\Jurgen\\Desktop\\FYP\\Stock\\StockDifference.csv\")\n",
    "\n",
    "Stock_Diff[\"Date\"] = pd.to_datetime(Stock_Diff[\"Date\"]).dt.date\n",
    "Stock_Diff = Stock_Diff.set_index(\"Date\")"
   ]
  },
  {
   "cell_type": "code",
   "execution_count": null,
   "metadata": {},
   "outputs": [],
   "source": [
    "Stock_Diff"
   ]
  },
  {
   "cell_type": "code",
   "execution_count": null,
   "metadata": {},
   "outputs": [],
   "source": [
    "News_Stock = Senti_Running_Dates.join(Stock_Diff, lsuffix='Date', rsuffix='Date', on = \"Date\")"
   ]
  },
  {
   "cell_type": "code",
   "execution_count": null,
   "metadata": {},
   "outputs": [],
   "source": [
    "News_Stock.to_csv(\"News_Stock_Data.csv\")"
   ]
  },
  {
   "cell_type": "code",
   "execution_count": null,
   "metadata": {},
   "outputs": [],
   "source": [
    "Twitter_Senti = pd.read_csv(r\"C:\\Users\\Jurgen\\Desktop\\FYP\\Shared\\TwitterSentimentPerDay.csv\")\n",
    "Twitter_Senti[\"Date\"] = pd.to_datetime(Twitter_Senti[\"Date\"], format =  \"%d/%m/%Y\").dt.date\n",
    "Twitter_Senti = Twitter_Senti.set_index(\"Date\")\n",
    "Twitter_Senti = Twitter_Senti.rename(columns = {\"compound\" : \"Twitter_Senti\"}) \n",
    "Twitter_Senti"
   ]
  },
  {
   "cell_type": "code",
   "execution_count": null,
   "metadata": {},
   "outputs": [],
   "source": [
    "News_Twitter_Stock = News_Stock.join(Twitter_Senti, lsuffix='Date', rsuffix='Date', on = \"Date\")"
   ]
  },
  {
   "cell_type": "code",
   "execution_count": null,
   "metadata": {},
   "outputs": [],
   "source": [
    "News_Twitter_Stock.to_csv(r\"C:\\Users\\Jurgen\\Desktop\\FYP\\Shared\\News_Twitter_Stock_Data.csv\")"
   ]
  },
  {
   "cell_type": "code",
   "execution_count": null,
   "metadata": {},
   "outputs": [],
   "source": [
    "News_Twitter_Stock"
   ]
  },
  {
   "cell_type": "code",
   "execution_count": null,
   "metadata": {},
   "outputs": [],
   "source": [
    "PH = []\n",
    "for i in range(len(News_Twitter_Stock.Stock_Difference)):\n",
    "    if pd.isna(News_Twitter_Stock.Stock_Difference.values[i]) == True and News_Twitter_Stock.index[i].weekday() != 5 and News_Twitter_Stock.index[i].weekday() != 6:\n",
    "        PH.append((News_Twitter_Stock.index[i], News_Twitter_Stock.index[i].weekday()))"
   ]
  },
  {
   "cell_type": "code",
   "execution_count": null,
   "metadata": {},
   "outputs": [],
   "source": [
    "News_Twitter_Stock.Stock_Difference = News_Twitter_Stock.Stock_Difference.fillna(0)"
   ]
  }
 ],
 "metadata": {
  "kernelspec": {
   "display_name": "Python 3",
   "language": "python",
   "name": "python3"
  },
  "language_info": {
   "codemirror_mode": {
    "name": "ipython",
    "version": 3
   },
   "file_extension": ".py",
   "mimetype": "text/x-python",
   "name": "python",
   "nbconvert_exporter": "python",
   "pygments_lexer": "ipython3",
   "version": "3.7.4"
  }
 },
 "nbformat": 4,
 "nbformat_minor": 2
}
