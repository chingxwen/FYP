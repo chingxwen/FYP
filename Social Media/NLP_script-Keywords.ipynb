{
 "cells": [
  {
   "cell_type": "code",
   "execution_count": 23,
   "metadata": {},
   "outputs": [],
   "source": [
    "import pandas as pd\n",
    "import numpy as np\n",
    "import re\n",
    "import ast\n",
    "import nltk\n",
    "from nltk.corpus import stopwords\n",
    "from nltk.tokenize import RegexpTokenizer\n",
    "from nltk.stem import WordNetLemmatizer\n",
    "from nltk.stem import PorterStemmer\n",
    "from nltk import FreqDist\n"
   ]
  },
  {
   "cell_type": "code",
   "execution_count": 24,
   "metadata": {},
   "outputs": [],
   "source": [
    "#Reading of .csv file\n",
    "df = pd.read_csv(\"TwitterByKeyword.csv\")\n",
    "content = df['text']\n",
    "assert content.isnull().count() == len(content)"
   ]
  },
  {
   "cell_type": "code",
   "execution_count": 25,
   "metadata": {},
   "outputs": [],
   "source": [
    "# Drop columns \n",
    "\n",
    "df.drop(columns=['id', 'id_str','truncated','entities','metadata', 'source', 'in_reply_to_status_id', 'in_reply_to_status_id_str', 'in_reply_to_user_id', 'in_reply_to_user_id_str', 'in_reply_to_screen_name', 'user','geo', 'coordinates', 'place', 'contributors', 'retweeted_status', 'is_quote_status','favorited', 'retweeted', 'extended_entities', 'possibly_sensitive', 'quoted_status_id', 'quoted_status_id_str'], inplace = True)\n"
   ]
  },
  {
   "cell_type": "code",
   "execution_count": 26,
   "metadata": {},
   "outputs": [],
   "source": [
    "# Remove Https Links\n",
    "\n",
    "df['text'] = df['text'].str.replace(r'http\\S+|www.\\S+', '', case = False)\n"
   ]
  },
  {
   "cell_type": "code",
   "execution_count": 27,
   "metadata": {},
   "outputs": [
    {
     "name": "stdout",
     "output_type": "stream",
     "text": [
      "[108, 83, 103, 108, 140, 48, 97, 140, 139, 140, 140, 139, 138, 139, 139, 139, 139, 140, 140, 140, 140, 140, 140, 140, 140, 139, 140, 140, 140, 37, 140, 138, 140, 139, 78, 140, 140, 140, 140, 140, 34, 140, 111, 140, 140, 140, 140, 140, 87, 140, 124, 140, 140, 140, 139, 140, 140, 140, 138, 148, 138, 140, 140, 108, 75, 140, 129, 140, 140, 98, 140, 140, 139, 138, 139, 138, 140, 140, 140, 140, 139, 140, 140, 129, 40, 107, 140, 140, 140, 132, 140, 115, 139, 140, 140, 124, 106, 140, 63, 94]\n"
     ]
    }
   ],
   "source": [
    "#Before stop word removal count\n",
    "count = [len(content[i]) for i in range(len(content))]\n",
    "# data['Count Before'] = count\n",
    "print(count)"
   ]
  },
  {
   "cell_type": "code",
   "execution_count": 28,
   "metadata": {},
   "outputs": [
    {
     "data": {
      "text/plain": [
       "0     [Pemandangan, makan, siang, hari, ini, with, g...\n",
       "1     [chemixcalbieber, gRR, I, can, t, find, it, I,...\n",
       "2     [Brace, yourself, for, the, price, of, the, ne...\n",
       "3     [TECNOMobile254, Tecno, and, Infinix, shall, N...\n",
       "4     [RT, SamsungIndia, Vijayku27924990, You, ve, j...\n",
       "5              [SamsungIndia, Love, Samsung, Mobile, s]\n",
       "6     [Samsung, Galaxy, Note, 10, Plus, internationa...\n",
       "7     [RT, _asiLisa, LISA, s, 2019, so, far, Moonsho...\n",
       "8     [Servicio, De, Liberaciones, por, IMEI, iPhone...\n",
       "9     [RT, _asiLisa, LISA, s, 2019, so, far, Moonsho...\n",
       "10    [RT, _asiLisa, LISA, s, 2019, so, far, Moonsho...\n",
       "11    [RT, newsplatter, Ada, yg, pake, Samsung, teru...\n",
       "12    [RT, Hk3ToN, Wallpapers, Background, android, ...\n",
       "13    [D302, Black, Friday, Appliances, Training, in...\n",
       "14    [Limited, Period, discount, of, 46, Applies, i...\n",
       "15    [Limited, Period, discount, of, 46, Applies, i...\n",
       "16    [Limited, Period, discount, of, 46, Applies, i...\n",
       "17    [Is, Fitbit, selling, us, out, to, Google, Sur...\n",
       "18    [RT, Hk3ToN, Wallpapers, homescreen, Backgroun...\n",
       "19    [The, best, Samsung, Galaxy, Note, 10, Plus, s...\n",
       "Name: text, dtype: object"
      ]
     },
     "execution_count": 28,
     "metadata": {},
     "output_type": "execute_result"
    }
   ],
   "source": [
    "#Tokenization\n",
    "from nltk.tokenize import RegexpTokenizer\n",
    "\n",
    "\n",
    "data = []\n",
    "tokenizer = RegexpTokenizer(r'\\w+')\n",
    "\n",
    "content = content.apply(lambda x: tokenizer.tokenize(x))\n",
    "content.head(20)"
   ]
  },
  {
   "cell_type": "code",
   "execution_count": 29,
   "metadata": {},
   "outputs": [],
   "source": [
    "#Removal of Stop Words\n",
    "from nltk.corpus import stopwords\n",
    "set(stopwords.words('english'))\n",
    "\n",
    "def remove_stopwords(text):\n",
    "    words = [w for w in text if w not in stopwords.words('english')]\n",
    "    return words\n",
    "\n",
    "content = content.apply(lambda x: remove_stopwords(x))"
   ]
  },
  {
   "cell_type": "code",
   "execution_count": 30,
   "metadata": {},
   "outputs": [],
   "source": [
    "#Lemmatization\n",
    "lemmatizer = WordNetLemmatizer()\n",
    "\n",
    "def word_lemmatizer(text):\n",
    "    lem_text = [lemmatizer.lemmatize(i, pos=\"v\") for i in text]\n",
    "    return lem_text\n",
    "\n",
    "content = content.apply(lambda x: word_lemmatizer(x))\n",
    "\n",
    "content_freq = content"
   ]
  },
  {
   "cell_type": "code",
   "execution_count": 31,
   "metadata": {},
   "outputs": [
    {
     "name": "stdout",
     "output_type": "stream",
     "text": [
      "[12, 9, 11, 11, 14, 4, 12, 19, 20, 19, 19, 21, 16, 15, 21, 21, 21, 17, 15, 17, 16, 18, 15, 15, 15, 13, 19, 15, 15, 5, 17, 16, 20, 17, 11, 15, 15, 15, 15, 15, 6, 15, 11, 15, 19, 15, 14, 15, 11, 15, 14, 19, 16, 16, 13, 15, 20, 15, 16, 20, 16, 21, 20, 10, 8, 15, 14, 15, 19, 16, 19, 19, 18, 16, 14, 16, 13, 19, 15, 21, 25, 16, 16, 17, 5, 13, 20, 19, 19, 22, 20, 10, 21, 21, 13, 14, 18, 19, 9, 13]\n"
     ]
    }
   ],
   "source": [
    "#Count after removal of stop words\n",
    "countaft = [len(content[i]) for i in range(len(content))]\n",
    "print(countaft)"
   ]
  },
  {
   "cell_type": "code",
   "execution_count": 7,
   "metadata": {},
   "outputs": [
    {
     "ename": "KeyboardInterrupt",
     "evalue": "",
     "output_type": "error",
     "traceback": [
      "\u001b[1;31m---------------------------------------------------------------------------\u001b[0m",
      "\u001b[1;31mFileNotFoundError\u001b[0m                         Traceback (most recent call last)",
      "\u001b[1;32m~\\Anaconda3\\lib\\genericpath.py\u001b[0m in \u001b[0;36misfile\u001b[1;34m(path)\u001b[0m\n\u001b[0;32m     29\u001b[0m     \u001b[1;32mtry\u001b[0m\u001b[1;33m:\u001b[0m\u001b[1;33m\u001b[0m\u001b[1;33m\u001b[0m\u001b[0m\n\u001b[1;32m---> 30\u001b[1;33m         \u001b[0mst\u001b[0m \u001b[1;33m=\u001b[0m \u001b[0mos\u001b[0m\u001b[1;33m.\u001b[0m\u001b[0mstat\u001b[0m\u001b[1;33m(\u001b[0m\u001b[0mpath\u001b[0m\u001b[1;33m)\u001b[0m\u001b[1;33m\u001b[0m\u001b[1;33m\u001b[0m\u001b[0m\n\u001b[0m\u001b[0;32m     31\u001b[0m     \u001b[1;32mexcept\u001b[0m \u001b[0mOSError\u001b[0m\u001b[1;33m:\u001b[0m\u001b[1;33m\u001b[0m\u001b[1;33m\u001b[0m\u001b[0m\n",
      "\u001b[1;31mFileNotFoundError\u001b[0m: [WinError 2] The system cannot find the file specified: 'C:\\\\Users\\\\charmaine/nltk_data'",
      "\nDuring handling of the above exception, another exception occurred:\n",
      "\u001b[1;31mKeyboardInterrupt\u001b[0m                         Traceback (most recent call last)",
      "\u001b[1;32m<ipython-input-7-2aef1ae6be0d>\u001b[0m in \u001b[0;36m<module>\u001b[1;34m\u001b[0m\n\u001b[0;32m      1\u001b[0m \u001b[1;31m#Tagging\u001b[0m\u001b[1;33m\u001b[0m\u001b[1;33m\u001b[0m\u001b[1;33m\u001b[0m\u001b[0m\n\u001b[1;32m----> 2\u001b[1;33m \u001b[0mcontent\u001b[0m \u001b[1;33m=\u001b[0m \u001b[1;33m[\u001b[0m\u001b[0mnltk\u001b[0m\u001b[1;33m.\u001b[0m\u001b[0mpos_tag\u001b[0m\u001b[1;33m(\u001b[0m\u001b[0mi\u001b[0m\u001b[1;33m)\u001b[0m \u001b[1;32mfor\u001b[0m \u001b[0mi\u001b[0m \u001b[1;32min\u001b[0m \u001b[0mcontent\u001b[0m\u001b[1;33m]\u001b[0m\u001b[1;33m\u001b[0m\u001b[1;33m\u001b[0m\u001b[0m\n\u001b[0m",
      "\u001b[1;32m<ipython-input-7-2aef1ae6be0d>\u001b[0m in \u001b[0;36m<listcomp>\u001b[1;34m(.0)\u001b[0m\n\u001b[0;32m      1\u001b[0m \u001b[1;31m#Tagging\u001b[0m\u001b[1;33m\u001b[0m\u001b[1;33m\u001b[0m\u001b[1;33m\u001b[0m\u001b[0m\n\u001b[1;32m----> 2\u001b[1;33m \u001b[0mcontent\u001b[0m \u001b[1;33m=\u001b[0m \u001b[1;33m[\u001b[0m\u001b[0mnltk\u001b[0m\u001b[1;33m.\u001b[0m\u001b[0mpos_tag\u001b[0m\u001b[1;33m(\u001b[0m\u001b[0mi\u001b[0m\u001b[1;33m)\u001b[0m \u001b[1;32mfor\u001b[0m \u001b[0mi\u001b[0m \u001b[1;32min\u001b[0m \u001b[0mcontent\u001b[0m\u001b[1;33m]\u001b[0m\u001b[1;33m\u001b[0m\u001b[1;33m\u001b[0m\u001b[0m\n\u001b[0m",
      "\u001b[1;32m~\\Anaconda3\\lib\\site-packages\\nltk\\tag\\__init__.py\u001b[0m in \u001b[0;36mpos_tag\u001b[1;34m(tokens, tagset, lang)\u001b[0m\n\u001b[0;32m    159\u001b[0m     \u001b[1;33m:\u001b[0m\u001b[0mrtype\u001b[0m\u001b[1;33m:\u001b[0m \u001b[0mlist\u001b[0m\u001b[1;33m(\u001b[0m\u001b[0mtuple\u001b[0m\u001b[1;33m(\u001b[0m\u001b[0mstr\u001b[0m\u001b[1;33m,\u001b[0m \u001b[0mstr\u001b[0m\u001b[1;33m)\u001b[0m\u001b[1;33m)\u001b[0m\u001b[1;33m\u001b[0m\u001b[1;33m\u001b[0m\u001b[0m\n\u001b[0;32m    160\u001b[0m     \"\"\"\n\u001b[1;32m--> 161\u001b[1;33m     \u001b[0mtagger\u001b[0m \u001b[1;33m=\u001b[0m \u001b[0m_get_tagger\u001b[0m\u001b[1;33m(\u001b[0m\u001b[0mlang\u001b[0m\u001b[1;33m)\u001b[0m\u001b[1;33m\u001b[0m\u001b[1;33m\u001b[0m\u001b[0m\n\u001b[0m\u001b[0;32m    162\u001b[0m     \u001b[1;32mreturn\u001b[0m \u001b[0m_pos_tag\u001b[0m\u001b[1;33m(\u001b[0m\u001b[0mtokens\u001b[0m\u001b[1;33m,\u001b[0m \u001b[0mtagset\u001b[0m\u001b[1;33m,\u001b[0m \u001b[0mtagger\u001b[0m\u001b[1;33m,\u001b[0m \u001b[0mlang\u001b[0m\u001b[1;33m)\u001b[0m\u001b[1;33m\u001b[0m\u001b[1;33m\u001b[0m\u001b[0m\n\u001b[0;32m    163\u001b[0m \u001b[1;33m\u001b[0m\u001b[0m\n",
      "\u001b[1;32m~\\Anaconda3\\lib\\site-packages\\nltk\\tag\\__init__.py\u001b[0m in \u001b[0;36m_get_tagger\u001b[1;34m(lang)\u001b[0m\n\u001b[0;32m    105\u001b[0m         \u001b[0mtagger\u001b[0m\u001b[1;33m.\u001b[0m\u001b[0mload\u001b[0m\u001b[1;33m(\u001b[0m\u001b[0map_russian_model_loc\u001b[0m\u001b[1;33m)\u001b[0m\u001b[1;33m\u001b[0m\u001b[1;33m\u001b[0m\u001b[0m\n\u001b[0;32m    106\u001b[0m     \u001b[1;32melse\u001b[0m\u001b[1;33m:\u001b[0m\u001b[1;33m\u001b[0m\u001b[1;33m\u001b[0m\u001b[0m\n\u001b[1;32m--> 107\u001b[1;33m         \u001b[0mtagger\u001b[0m \u001b[1;33m=\u001b[0m \u001b[0mPerceptronTagger\u001b[0m\u001b[1;33m(\u001b[0m\u001b[1;33m)\u001b[0m\u001b[1;33m\u001b[0m\u001b[1;33m\u001b[0m\u001b[0m\n\u001b[0m\u001b[0;32m    108\u001b[0m     \u001b[1;32mreturn\u001b[0m \u001b[0mtagger\u001b[0m\u001b[1;33m\u001b[0m\u001b[1;33m\u001b[0m\u001b[0m\n\u001b[0;32m    109\u001b[0m \u001b[1;33m\u001b[0m\u001b[0m\n",
      "\u001b[1;32m~\\Anaconda3\\lib\\site-packages\\nltk\\tag\\perceptron.py\u001b[0m in \u001b[0;36m__init__\u001b[1;34m(self, load)\u001b[0m\n\u001b[0;32m    160\u001b[0m         \u001b[1;32mif\u001b[0m \u001b[0mload\u001b[0m\u001b[1;33m:\u001b[0m\u001b[1;33m\u001b[0m\u001b[1;33m\u001b[0m\u001b[0m\n\u001b[0;32m    161\u001b[0m             AP_MODEL_LOC = 'file:' + str(\n\u001b[1;32m--> 162\u001b[1;33m                 \u001b[0mfind\u001b[0m\u001b[1;33m(\u001b[0m\u001b[1;34m'taggers/averaged_perceptron_tagger/'\u001b[0m \u001b[1;33m+\u001b[0m \u001b[0mPICKLE\u001b[0m\u001b[1;33m)\u001b[0m\u001b[1;33m\u001b[0m\u001b[1;33m\u001b[0m\u001b[0m\n\u001b[0m\u001b[0;32m    163\u001b[0m             )\n\u001b[0;32m    164\u001b[0m             \u001b[0mself\u001b[0m\u001b[1;33m.\u001b[0m\u001b[0mload\u001b[0m\u001b[1;33m(\u001b[0m\u001b[0mAP_MODEL_LOC\u001b[0m\u001b[1;33m)\u001b[0m\u001b[1;33m\u001b[0m\u001b[1;33m\u001b[0m\u001b[0m\n",
      "\u001b[1;32m~\\Anaconda3\\lib\\site-packages\\nltk\\data.py\u001b[0m in \u001b[0;36mfind\u001b[1;34m(resource_name, paths)\u001b[0m\n\u001b[0;32m    638\u001b[0m     \u001b[1;32mfor\u001b[0m \u001b[0mpath_\u001b[0m \u001b[1;32min\u001b[0m \u001b[0mpaths\u001b[0m\u001b[1;33m:\u001b[0m\u001b[1;33m\u001b[0m\u001b[1;33m\u001b[0m\u001b[0m\n\u001b[0;32m    639\u001b[0m         \u001b[1;31m# Is the path item a zipfile?\u001b[0m\u001b[1;33m\u001b[0m\u001b[1;33m\u001b[0m\u001b[1;33m\u001b[0m\u001b[0m\n\u001b[1;32m--> 640\u001b[1;33m         \u001b[1;32mif\u001b[0m \u001b[0mpath_\u001b[0m \u001b[1;32mand\u001b[0m \u001b[1;33m(\u001b[0m\u001b[0mos\u001b[0m\u001b[1;33m.\u001b[0m\u001b[0mpath\u001b[0m\u001b[1;33m.\u001b[0m\u001b[0misfile\u001b[0m\u001b[1;33m(\u001b[0m\u001b[0mpath_\u001b[0m\u001b[1;33m)\u001b[0m \u001b[1;32mand\u001b[0m \u001b[0mpath_\u001b[0m\u001b[1;33m.\u001b[0m\u001b[0mendswith\u001b[0m\u001b[1;33m(\u001b[0m\u001b[1;34m'.zip'\u001b[0m\u001b[1;33m)\u001b[0m\u001b[1;33m)\u001b[0m\u001b[1;33m:\u001b[0m\u001b[1;33m\u001b[0m\u001b[1;33m\u001b[0m\u001b[0m\n\u001b[0m\u001b[0;32m    641\u001b[0m             \u001b[1;32mtry\u001b[0m\u001b[1;33m:\u001b[0m\u001b[1;33m\u001b[0m\u001b[1;33m\u001b[0m\u001b[0m\n\u001b[0;32m    642\u001b[0m                 \u001b[1;32mreturn\u001b[0m \u001b[0mZipFilePathPointer\u001b[0m\u001b[1;33m(\u001b[0m\u001b[0mpath_\u001b[0m\u001b[1;33m,\u001b[0m \u001b[0mresource_name\u001b[0m\u001b[1;33m)\u001b[0m\u001b[1;33m\u001b[0m\u001b[1;33m\u001b[0m\u001b[0m\n",
      "\u001b[1;32m~\\Anaconda3\\lib\\genericpath.py\u001b[0m in \u001b[0;36misfile\u001b[1;34m(path)\u001b[0m\n\u001b[0;32m     28\u001b[0m     \u001b[1;34m\"\"\"Test whether a path is a regular file\"\"\"\u001b[0m\u001b[1;33m\u001b[0m\u001b[1;33m\u001b[0m\u001b[0m\n\u001b[0;32m     29\u001b[0m     \u001b[1;32mtry\u001b[0m\u001b[1;33m:\u001b[0m\u001b[1;33m\u001b[0m\u001b[1;33m\u001b[0m\u001b[0m\n\u001b[1;32m---> 30\u001b[1;33m         \u001b[0mst\u001b[0m \u001b[1;33m=\u001b[0m \u001b[0mos\u001b[0m\u001b[1;33m.\u001b[0m\u001b[0mstat\u001b[0m\u001b[1;33m(\u001b[0m\u001b[0mpath\u001b[0m\u001b[1;33m)\u001b[0m\u001b[1;33m\u001b[0m\u001b[1;33m\u001b[0m\u001b[0m\n\u001b[0m\u001b[0;32m     31\u001b[0m     \u001b[1;32mexcept\u001b[0m \u001b[0mOSError\u001b[0m\u001b[1;33m:\u001b[0m\u001b[1;33m\u001b[0m\u001b[1;33m\u001b[0m\u001b[0m\n\u001b[0;32m     32\u001b[0m         \u001b[1;32mreturn\u001b[0m \u001b[1;32mFalse\u001b[0m\u001b[1;33m\u001b[0m\u001b[1;33m\u001b[0m\u001b[0m\n",
      "\u001b[1;31mKeyboardInterrupt\u001b[0m: "
     ]
    }
   ],
   "source": [
    "#Tagging\n",
    "content = [nltk.pos_tag(i) for i in content]"
   ]
  },
  {
   "cell_type": "code",
   "execution_count": 14,
   "metadata": {},
   "outputs": [],
   "source": [
    "for tags in content:\n",
    "    if tags[0][1] == \"NNP\":\n",
    "        print(tags[0][0])"
   ]
  },
  {
   "cell_type": "code",
   "execution_count": 32,
   "metadata": {},
   "outputs": [
    {
     "name": "stdout",
     "output_type": "stream",
     "text": [
      "[88.9, 89.2, 89.3, 89.8, 90.0, 91.7, 87.6, 86.4, 85.6, 86.4, 86.4, 84.9, 88.4, 89.2, 84.9, 84.9, 84.9, 87.9, 89.3, 87.9, 88.6, 87.1, 89.3, 89.3, 89.3, 90.6, 86.4, 89.3, 89.3, 86.5, 87.9, 88.4, 85.7, 87.8, 85.9, 89.3, 89.3, 89.3, 89.3, 89.3, 82.4, 89.3, 90.1, 89.3, 86.4, 89.3, 90.0, 89.3, 87.4, 89.3, 88.7, 86.4, 88.6, 88.6, 90.6, 89.3, 85.7, 89.3, 88.4, 86.5, 88.4, 85.0, 85.7, 90.7, 89.3, 89.3, 89.1, 89.3, 86.4, 83.7, 86.4, 86.4, 87.1, 88.4, 89.9, 88.4, 90.7, 86.4, 89.3, 85.0, 82.0, 88.6, 88.6, 86.8, 87.5, 87.9, 85.7, 86.4, 86.4, 83.3, 85.7, 91.3, 84.9, 85.0, 90.7, 88.7, 83.0, 86.4, 85.7, 86.2]\n"
     ]
    }
   ],
   "source": [
    "count_diff = []\n",
    "for i in range(len(count)):\n",
    "    count_diff.append(round(((count[i] - countaft[i])/count[i])*100, 1))\n",
    "print(count_diff)"
   ]
  },
  {
   "cell_type": "code",
   "execution_count": 33,
   "metadata": {},
   "outputs": [
    {
     "name": "stdout",
     "output_type": "stream",
     "text": [
      "0     [Pemandangan, makan, siang, hari, ini, galaxy,...\n",
      "1     [chemixcalbieber, gRR, I, find, I, think, face...\n",
      "2     [Brace, price, new, Samsung, foldable, phone, ...\n",
      "3     [TECNOMobile254, Tecno, Infinix, shall, NEVER,...\n",
      "4     [RT, SamsungIndia, Vijayku27924990, You, unloc...\n",
      "                            ...                        \n",
      "95    [RT, girlhack, Cooool, new, Samsung, soundbar,...\n",
      "96    [Forget, Samsung, Galaxy, S10, And, Note, 10, ...\n",
      "97    [RT, _asiLisa, LISA, 2019, far, Moonshot, Celi...\n",
      "98    [DerSpucky, Samsung, ist, wie, Aquaman, scheiß...\n",
      "99    [Netflix, stop, work, older, Samsung, smart, T...\n",
      "Name: text, Length: 100, dtype: object\n"
     ]
    }
   ],
   "source": [
    "print(content_freq)"
   ]
  },
  {
   "cell_type": "code",
   "execution_count": 34,
   "metadata": {},
   "outputs": [],
   "source": [
    "Freq = [FreqDist(content_freq[i]).most_common(5) for i in range(len(content_freq))]"
   ]
  },
  {
   "cell_type": "code",
   "execution_count": 35,
   "metadata": {},
   "outputs": [
    {
     "name": "stdout",
     "output_type": "stream",
     "text": [
      "                        created_at  \\\n",
      "0   Wed Nov 06 05:45:56 +0000 2019   \n",
      "1   Wed Nov 06 05:45:53 +0000 2019   \n",
      "2   Wed Nov 06 05:45:51 +0000 2019   \n",
      "3   Wed Nov 06 05:45:49 +0000 2019   \n",
      "4   Wed Nov 06 05:45:48 +0000 2019   \n",
      "..                             ...   \n",
      "95  Wed Nov 06 05:40:36 +0000 2019   \n",
      "96  Wed Nov 06 05:40:34 +0000 2019   \n",
      "97  Wed Nov 06 05:40:28 +0000 2019   \n",
      "98  Wed Nov 06 05:40:25 +0000 2019   \n",
      "99  Wed Nov 06 05:40:23 +0000 2019   \n",
      "\n",
      "                                                 text  retweet_count  \\\n",
      "0   Pemandangan makan siang hari ini, with galaxy!...              0   \n",
      "1   @chemixcalbieber gRR I can't find it, I don't ...              0   \n",
      "2   Brace yourself for the price of the new Samsun...              0   \n",
      "3   @TECNOMobile254 Tecno and Infinix shall NEVER ...              0   \n",
      "4   RT @SamsungIndia: @Vijayku27924990 You've just...              1   \n",
      "..                                                ...            ...   \n",
      "95  RT @girlhack: Cooool so my new @Samsung soundb...             60   \n",
      "96  Forget Samsung’s Galaxy S10 And Note 10, This ...              0   \n",
      "97  RT @_asiLisa: LISA's 2019 so far: \\n\\n- Moonsh...           1237   \n",
      "98  @DerSpucky Samsung ist wie Aquaman, scheiße. W...              0   \n",
      "99  Netflix will stop working on older Samsung sma...              0   \n",
      "\n",
      "    favorite_count lang  \n",
      "0                0   in  \n",
      "1                0   en  \n",
      "2                0   en  \n",
      "3                0   en  \n",
      "4                0   en  \n",
      "..             ...  ...  \n",
      "95               0   en  \n",
      "96               0   en  \n",
      "97               0   en  \n",
      "98               0   de  \n",
      "99               0   en  \n",
      "\n",
      "[100 rows x 5 columns]\n"
     ]
    }
   ],
   "source": [
    "print(df)"
   ]
  },
  {
   "cell_type": "code",
   "execution_count": 37,
   "metadata": {},
   "outputs": [],
   "source": [
    "df['Amount Cleansed (%)'] = count_diff\n",
    "df['Frequency'] = Freq\n",
    "\n",
    "df.to_csv('Output.csv')"
   ]
  },
  {
   "cell_type": "code",
   "execution_count": 18,
   "metadata": {},
   "outputs": [
    {
     "name": "stdout",
     "output_type": "stream",
     "text": [
      "100\n"
     ]
    }
   ],
   "source": [
    "print(len(count_diff))"
   ]
  },
  {
   "cell_type": "code",
   "execution_count": 38,
   "metadata": {},
   "outputs": [
    {
     "name": "stdout",
     "output_type": "stream",
     "text": [
      "[[('Pemandangan', 1), ('makan', 1), ('siang', 1), ('hari', 1), ('ini', 1)],\n",
      " [('I', 2), ('chemixcalbieber', 1), ('gRR', 1), ('find', 1), ('think', 1)],\n",
      " [('Brace', 1), ('price', 1), ('new', 1), ('Samsung', 1), ('foldable', 1)],\n",
      " [('TECNOMobile254', 1),\n",
      "  ('Tecno', 1),\n",
      "  ('Infinix', 1),\n",
      "  ('shall', 1),\n",
      "  ('NEVER', 1)],\n",
      " [('RT', 1),\n",
      "  ('SamsungIndia', 1),\n",
      "  ('Vijayku27924990', 1),\n",
      "  ('You', 1),\n",
      "  ('unlock', 1)],\n",
      " [('SamsungIndia', 1), ('Love', 1), ('Samsung', 1), ('Mobile', 1)],\n",
      " [('giveaway', 2), ('Samsung', 1), ('Galaxy', 1), ('Note', 1), ('10', 1)],\n",
      " [('RT', 1), ('_asiLisa', 1), ('LISA', 1), ('2019', 1), ('far', 1)],\n",
      " [('Servicio', 1), ('De', 1), ('Liberaciones', 1), ('por', 1), ('IMEI', 1)],\n",
      " [('RT', 1), ('_asiLisa', 1), ('LISA', 1), ('2019', 1), ('far', 1)],\n",
      " [('RT', 1), ('_asiLisa', 1), ('LISA', 1), ('2019', 1), ('far', 1)],\n",
      " [('pake', 2), ('RT', 1), ('newsplatter', 1), ('Ada', 1), ('yg', 1)],\n",
      " [('RT', 1),\n",
      "  ('Hk3ToN', 1),\n",
      "  ('Wallpapers', 1),\n",
      "  ('Background', 1),\n",
      "  ('android', 1)],\n",
      " [('D302', 1), ('Black', 1), ('Friday', 1), ('Appliances', 1), ('Training', 1)],\n",
      " [('Limited', 1), ('Period', 1), ('discount', 1), ('46', 1), ('Applies', 1)],\n",
      " [('Limited', 1), ('Period', 1), ('discount', 1), ('46', 1), ('Applies', 1)],\n",
      " [('Limited', 1), ('Period', 1), ('discount', 1), ('46', 1), ('Applies', 1)],\n",
      " [('Is', 1), ('Fitbit', 1), ('sell', 1), ('us', 1), ('Google', 1)],\n",
      " [('RT', 1),\n",
      "  ('Hk3ToN', 1),\n",
      "  ('Wallpapers', 1),\n",
      "  ('homescreen', 1),\n",
      "  ('Background', 1)],\n",
      " [('https', 2), ('co', 2), ('The', 1), ('best', 1), ('Samsung', 1)],\n",
      " [('send', 2), ('RT', 1), ('olacokers', 1), ('I', 1), ('back', 1)],\n",
      " [('10', 2), ('THE', 1), ('BEST', 1), ('PROTECTION', 1), ('FOR', 1)],\n",
      " [('RT', 1),\n",
      "  ('Hk3ToN', 1),\n",
      "  ('Wallpapers', 1),\n",
      "  ('homescreen', 1),\n",
      "  ('Background', 1)],\n",
      " [('RT', 1),\n",
      "  ('Hk3ToN', 1),\n",
      "  ('Wallpapers', 1),\n",
      "  ('homescreen', 1),\n",
      "  ('Background', 1)],\n",
      " [('RT', 1),\n",
      "  ('Hk3ToN', 1),\n",
      "  ('Wallpapers', 1),\n",
      "  ('homescreen', 1),\n",
      "  ('Background', 1)],\n",
      " [('SuperNES414', 1), ('Don', 1), ('give', 1), ('Apple', 1), ('The', 1)],\n",
      " [('RT', 1), ('_asiLisa', 1), ('LISA', 1), ('2019', 1), ('far', 1)],\n",
      " [('RT', 1),\n",
      "  ('Hk3ToN', 1),\n",
      "  ('Wallpapers', 1),\n",
      "  ('homescreen', 1),\n",
      "  ('Background', 1)],\n",
      " [('RT', 1),\n",
      "  ('Hk3ToN', 1),\n",
      "  ('Wallpapers', 1),\n",
      "  ('homescreen', 1),\n",
      "  ('Background', 1)],\n",
      " [('Nooooo', 1), ('amigoo', 1), ('Ripeo', 1), ('ese', 1), ('Samsung', 1)],\n",
      " [('RT', 1), ('alison_iot', 1), ('Samsung', 1), ('Galaxy', 1), ('Book', 1)],\n",
      " [('RT', 1),\n",
      "  ('Hk3ToN', 1),\n",
      "  ('Wallpapers', 1),\n",
      "  ('Background', 1),\n",
      "  ('android', 1)],\n",
      " [('RT', 2), ('bycottonpeach', 1), ('HELP', 1), ('ASTRO', 1), ('SIGNATURE', 1)],\n",
      " [('RT', 1),\n",
      "  ('Hk3ToN', 1),\n",
      "  ('Wallpapers', 1),\n",
      "  ('homescreen', 1),\n",
      "  ('lockscreen', 1)],\n",
      " [('Samsung', 1), ('vice', 1), ('chairman', 1), ('meet', 1), ('AI', 1)],\n",
      " [('RT', 1),\n",
      "  ('Hk3ToN', 1),\n",
      "  ('Wallpapers', 1),\n",
      "  ('homescreen', 1),\n",
      "  ('Background', 1)],\n",
      " [('RT', 1),\n",
      "  ('Hk3ToN', 1),\n",
      "  ('Wallpapers', 1),\n",
      "  ('homescreen', 1),\n",
      "  ('Background', 1)],\n",
      " [('RT', 1),\n",
      "  ('Hk3ToN', 1),\n",
      "  ('Wallpapers', 1),\n",
      "  ('homescreen', 1),\n",
      "  ('Background', 1)],\n",
      " [('RT', 1),\n",
      "  ('Hk3ToN', 1),\n",
      "  ('Wallpapers', 1),\n",
      "  ('homescreen', 1),\n",
      "  ('Background', 1)],\n",
      " [('RT', 1),\n",
      "  ('Hk3ToN', 1),\n",
      "  ('Wallpapers', 1),\n",
      "  ('homescreen', 1),\n",
      "  ('Background', 1)],\n",
      " [('está', 1), ('tentando', 1), ('al', 1), ('A20', 1), ('de', 1)],\n",
      " [('RT', 1),\n",
      "  ('Hk3ToN', 1),\n",
      "  ('Wallpapers', 1),\n",
      "  ('homescreen', 1),\n",
      "  ('Background', 1)],\n",
      " [('Clicked', 1), ('samsung', 1), ('friend', 1), ('lovely', 1), ('capture', 1)],\n",
      " [('RT', 1),\n",
      "  ('Hk3ToN', 1),\n",
      "  ('Wallpapers', 1),\n",
      "  ('homescreen', 1),\n",
      "  ('Background', 1)],\n",
      " [('RT', 1), ('_asiLisa', 1), ('LISA', 1), ('2019', 1), ('far', 1)],\n",
      " [('RT', 1),\n",
      "  ('Hk3ToN', 1),\n",
      "  ('Wallpapers', 1),\n",
      "  ('homescreen', 1),\n",
      "  ('Background', 1)],\n",
      " [('Frame', 2), ('RT', 1), ('bekanenzino', 1), ('This', 1), ('official', 1)],\n",
      " [('RT', 1),\n",
      "  ('Hk3ToN', 1),\n",
      "  ('Wallpapers', 1),\n",
      "  ('homescreen', 1),\n",
      "  ('Background', 1)],\n",
      " [('homevideo', 1), ('game', 1), ('Elegant', 1), ('Flip', 1), ('Leather', 1)],\n",
      " [('RT', 1),\n",
      "  ('Hk3ToN', 1),\n",
      "  ('Wallpapers', 1),\n",
      "  ('homescreen', 1),\n",
      "  ('Background', 1)],\n",
      " [('RT', 1), ('girlhack', 1), ('Cooool', 1), ('new', 1), ('Samsung', 1)],\n",
      " [('VenCRos', 2), ('RT', 1), ('XRP', 1), ('iPhone', 1), ('Samsung', 1)],\n",
      " [('RT', 1),\n",
      "  ('Hk3ToN', 1),\n",
      "  ('Wallpapers', 1),\n",
      "  ('homescreen', 1),\n",
      "  ('Background', 1)],\n",
      " [('RT', 1),\n",
      "  ('Hk3ToN', 1),\n",
      "  ('Wallpapers', 1),\n",
      "  ('homescreen', 1),\n",
      "  ('Background', 1)],\n",
      " [('ujjwal999', 1), ('Hey', 1), ('Thanks', 1), ('time', 1), ('call', 1)],\n",
      " [('RT', 1),\n",
      "  ('Hk3ToN', 1),\n",
      "  ('Wallpapers', 1),\n",
      "  ('homescreen', 1),\n",
      "  ('Background', 1)],\n",
      " [('AfySuai', 1), ('Hai', 1), ('Afy', 1), ('apakah', 1), ('sudah', 1)],\n",
      " [('RT', 1),\n",
      "  ('Hk3ToN', 1),\n",
      "  ('Wallpapers', 1),\n",
      "  ('homescreen', 1),\n",
      "  ('Background', 1)],\n",
      " [('RT', 1),\n",
      "  ('Hk3ToN', 1),\n",
      "  ('Wallpapers', 1),\n",
      "  ('Background', 1),\n",
      "  ('android', 1)],\n",
      " [('I', 3), ('amp', 2), ('get', 1), ('new', 1), ('iPhone', 1)],\n",
      " [('RT', 1),\n",
      "  ('Hk3ToN', 1),\n",
      "  ('Wallpapers', 1),\n",
      "  ('Background', 1),\n",
      "  ('android', 1)],\n",
      " [('ja', 2),\n",
      "  ('DaveGroenland', 1),\n",
      "  ('Leeftijd', 1),\n",
      "  ('49', 1),\n",
      "  ('Operaties', 1)],\n",
      " [('RT', 1), ('WilbrosLive', 1), ('Announcement', 1), ('Jang', 1), ('Ki', 1)],\n",
      " [('RT', 1),\n",
      "  ('YatagarasuOyaji', 1),\n",
      "  ('SAMSUNGに', 1),\n",
      "  ('開発製造する力なんてあるわけない', 1),\n",
      "  ('SAMSUNGは', 1)],\n",
      " [('MischaMaxwell', 1), ('Is', 1), ('Move', 1), ('Album', 1), ('option', 1)],\n",
      " [('RT', 1),\n",
      "  ('Hk3ToN', 1),\n",
      "  ('Wallpapers', 1),\n",
      "  ('homescreen', 1),\n",
      "  ('Background', 1)],\n",
      " [('Samsung', 2), ('SamsungIndia', 1), ('AR', 1), ('doodle', 1), ('I', 1)],\n",
      " [('RT', 1),\n",
      "  ('Hk3ToN', 1),\n",
      "  ('Wallpapers', 1),\n",
      "  ('homescreen', 1),\n",
      "  ('Background', 1)],\n",
      " [('RT', 1), ('_asiLisa', 1), ('LISA', 1), ('2019', 1), ('far', 1)],\n",
      " [('https', 2), ('co', 2), ('Magic', 1), ('Eyes', 1), ('Samsung', 1)],\n",
      " [('RT', 1), ('_asiLisa', 1), ('LISA', 1), ('2019', 1), ('far', 1)],\n",
      " [('RT', 1), ('_asiLisa', 1), ('LISA', 1), ('2019', 1), ('far', 1)],\n",
      " [('yung', 2), ('boink', 1), ('LiveSmart', 1), ('Nakalimutan', 1), ('kong', 1)],\n",
      " [('RT', 1),\n",
      "  ('Hk3ToN', 1),\n",
      "  ('Wallpapers', 1),\n",
      "  ('Background', 1),\n",
      "  ('android', 1)],\n",
      " [('RT', 1),\n",
      "  ('SamsungIndia', 1),\n",
      "  ('vijaykrish2218', 1),\n",
      "  ('You', 1),\n",
      "  ('unlock', 1)],\n",
      " [('RT', 1),\n",
      "  ('Hk3ToN', 1),\n",
      "  ('Wallpapers', 1),\n",
      "  ('Background', 1),\n",
      "  ('android', 1)],\n",
      " [('https', 2), ('co', 2), ('New', 1), ('video', 1), ('Watch', 1)],\n",
      " [('RT', 1), ('_asiLisa', 1), ('LISA', 1), ('2019', 1), ('far', 1)],\n",
      " [('RT', 1), ('thezdi', 1), ('Success', 1), ('It', 1), ('take', 1)],\n",
      " [('RT', 1), ('MahmoonBaba', 1), ('PLEASE', 1), ('DON', 1), ('T', 1)],\n",
      " [('iPhone', 2), ('11', 2), ('Pro', 2), ('256GB', 2), ('アップル', 2)],\n",
      " [('RT', 1), ('Motionwallit', 1), ('Eiffel', 1), ('Download', 1), ('free', 1)],\n",
      " [('RT', 1), ('thezdi', 1), ('Confirmed', 1), ('fluoroacetate', 1), ('use', 1)],\n",
      " [('SAMSUNG', 1), ('ABANDONS', 1), ('ITS', 1), ('CUSTOM', 1), ('MONGOOSE', 1)],\n",
      " [('SamsungIndia', 1),\n",
      "  ('Plz', 1),\n",
      "  ('giveaway', 1),\n",
      "  ('Samsung', 1),\n",
      "  ('phone', 1)],\n",
      " [('https', 2), ('co', 2), ('RT', 1), ('verge', 1), ('Xiaomi', 1)],\n",
      " [('Battery', 2), ('CYCBT', 1), ('EBike', 1), ('36V', 1), ('10', 1)],\n",
      " [('RT', 1), ('_asiLisa', 1), ('LISA', 1), ('2019', 1), ('far', 1)],\n",
      " [('RT', 1), ('_asiLisa', 1), ('LISA', 1), ('2019', 1), ('far', 1)],\n",
      " [('RT', 1), ('crescenttt___', 1), ('Betul', 1), ('My', 1), ('friend', 1)],\n",
      " [('Battery', 2), ('CYCBT', 1), ('EBike', 1), ('36V', 1), ('10', 1)],\n",
      " [('MikeNerdUK', 1),\n",
      "  ('samsung_dev', 1),\n",
      "  ('TronWalletMe', 1),\n",
      "  ('BeatzCoin', 1),\n",
      "  ('SesameseedOrg', 1)],\n",
      " [('I', 3), ('work', 2), ('BeerMeKenny', 1), ('Do', 1), ('know', 1)],\n",
      " [('RT', 1), ('RicKY_KCh', 1), ('Blak', 1), ('Blakan', 1), ('Bos', 1)],\n",
      " [('RT', 1), ('MikeNerdUK', 1), ('A', 1), ('TRON', 1), ('account', 1)],\n",
      " [('RT', 1), ('girlhack', 1), ('Cooool', 1), ('new', 1), ('Samsung', 1)],\n",
      " [('Forget', 1), ('Samsung', 1), ('Galaxy', 1), ('S10', 1), ('And', 1)],\n",
      " [('RT', 1), ('_asiLisa', 1), ('LISA', 1), ('2019', 1), ('far', 1)],\n",
      " [('DerSpucky', 1), ('Samsung', 1), ('ist', 1), ('wie', 1), ('Aquaman', 1)],\n",
      " [('Netflix', 1), ('stop', 1), ('work', 1), ('older', 1), ('Samsung', 1)]]\n"
     ]
    }
   ],
   "source": [
    "import pprint\n",
    "pprint.pprint(Freq)"
   ]
  },
  {
   "cell_type": "code",
   "execution_count": null,
   "metadata": {},
   "outputs": [],
   "source": []
  }
 ],
 "metadata": {
  "kernelspec": {
   "display_name": "Python 3",
   "language": "python",
   "name": "python3"
  },
  "language_info": {
   "codemirror_mode": {
    "name": "ipython",
    "version": 3
   },
   "file_extension": ".py",
   "mimetype": "text/x-python",
   "name": "python",
   "nbconvert_exporter": "python",
   "pygments_lexer": "ipython3",
   "version": "3.7.4"
  }
 },
 "nbformat": 4,
 "nbformat_minor": 2
}
