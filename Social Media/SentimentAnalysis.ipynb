{
 "cells": [
  {
   "cell_type": "code",
   "execution_count": 1,
   "metadata": {},
   "outputs": [],
   "source": [
    "from vaderSentiment.vaderSentiment import SentimentIntensityAnalyzer\n",
    "import pandas as pd\n",
    "import numpy as np\n"
   ]
  },
  {
   "cell_type": "code",
   "execution_count": 2,
   "metadata": {},
   "outputs": [
    {
     "name": "stdout",
     "output_type": "stream",
     "text": [
      "What CSV do you want to conduct analysis one? BBCTech\n"
     ]
    }
   ],
   "source": [
    "pd.options.display.max_rows = 999999\n",
    "\n",
    "datafile = input('What CSV do you want to conduct analysis one? ')\n"
   ]
  },
  {
   "cell_type": "code",
   "execution_count": 3,
   "metadata": {},
   "outputs": [],
   "source": [
    "# read imported csv\n",
    "df = pd.read_csv('C:/Users/User/Desktop/FYP/FYP/Social Media/CSV/Relevant/' + datafile +'Relevant.csv', names=[\"User\", \"Date\", \"Tweets\"])\n",
    "# df = pd.read_csv('C:/Users/jiajie25/Documents/GitHub/FYP/Social Media/CSV/Keywords/Format/Cleanse/' + datafile +'Cleanse.csv', names=[\"Tweets\", \"Date\"])\n"
   ]
  },
  {
   "cell_type": "code",
   "execution_count": 4,
   "metadata": {},
   "outputs": [],
   "source": [
    "# extract specific column\n",
    "df = df['Tweets']\n",
    "dftweet = pd.DataFrame(df)\n"
   ]
  },
  {
   "cell_type": "code",
   "execution_count": 5,
   "metadata": {},
   "outputs": [],
   "source": [
    "# convert column to list\n",
    "dflist = dftweet.values.tolist()\n"
   ]
  },
  {
   "cell_type": "code",
   "execution_count": 6,
   "metadata": {},
   "outputs": [],
   "source": [
    "\n",
    "# Using Vader Function to do sentiment analysis \n",
    "analyser = SentimentIntensityAnalyzer()\n",
    "data = []\n",
    "score = []\n",
    "positive = []\n",
    "negative = []\n",
    "neutral = []\n",
    "\n",
    "def sentiment_analyzer_scores (sentence):\n",
    "    result = analyser.polarity_scores(sentence)\n",
    "    sentiment = \"{:-<40}\".format(sentence)\n",
    "\n",
    "    data.append(sentiment)\n",
    "    score.append(result)\n",
    "\n",
    "    param = \"{:-<40}\".format(sentence) , str(result)\n",
    "\n",
    "    #if else loop to seperate the different sentiments, negative, position and neutral\n",
    "    if result['compound'] > 0:\n",
    "        positive.append(param)\n",
    "    elif result['compound'] < 0:\n",
    "        negative.append(param)\n",
    "    else:\n",
    "        neutral.append(param)\n",
    "\n",
    "    return(sentiment_analyzer_scores)\n"
   ]
  },
  {
   "cell_type": "code",
   "execution_count": 7,
   "metadata": {},
   "outputs": [],
   "source": [
    "   \n",
    " # for loop to get overall sentiment analysis   \n",
    "for i in range (len(dflist)):\n",
    "    sentiment_analyzer_scores(str(dflist[i]))\n"
   ]
  },
  {
   "cell_type": "code",
   "execution_count": 8,
   "metadata": {},
   "outputs": [],
   "source": [
    "\n",
    "#convert list to dataframes\n",
    "df1 = pd.DataFrame(data)\n",
    "df2 = pd.DataFrame(score)\n",
    "\n",
    "df3 = pd.DataFrame(positive)\n",
    "df4 = pd.DataFrame(negative)\n",
    "df5 = pd.DataFrame(neutral)\n",
    "\n"
   ]
  },
  {
   "cell_type": "code",
   "execution_count": 9,
   "metadata": {},
   "outputs": [],
   "source": [
    "\n",
    "# Formula to calculate net sentiment\n",
    "net = df2['pos'] - df2['neg']\n"
   ]
  },
  {
   "cell_type": "code",
   "execution_count": 10,
   "metadata": {},
   "outputs": [
    {
     "name": "stdout",
     "output_type": "stream",
     "text": [
      "['Neutral', 'Positive', 'Negative', 'Neutral', 'Positive', 'Negative', 'Neutral', 'Neutral', 'Neutral', 'Negative', 'Neutral', 'Neutral', 'Positive', 'Positive', 'Positive', 'Neutral', 'Neutral', 'Positive', 'Neutral', 'Positive', 'Neutral', 'Negative', 'Neutral', 'Positive', 'Neutral', 'Neutral', 'Negative', 'Negative', 'Positive', 'Positive', 'Negative', 'Positive', 'Neutral', 'Negative', 'Neutral']\n"
     ]
    }
   ],
   "source": [
    "\n",
    "# For and if else loop to determine if sentiment is Positive, Negative or Neutral\n",
    "netposneg = []\n",
    "\n",
    "for i in range(len(net)):\n",
    "\n",
    "    if (net[i] > 0):\n",
    "\n",
    "        netposneg.append('Positive')\n",
    "\n",
    "    elif (net[i] < 0): \n",
    "\n",
    "        netposneg.append('Negative')\n",
    "\n",
    "    elif (net[i] == 0):\n",
    "\n",
    "        netposneg.append('Neutral')\n",
    "\n",
    "print(netposneg)\n"
   ]
  },
  {
   "cell_type": "code",
   "execution_count": 11,
   "metadata": {},
   "outputs": [],
   "source": [
    "# convert list into dataframe\n",
    "netconclude = pd.DataFrame(netposneg,columns = ['netconclude'])\n",
    "netdata = pd.DataFrame(net ,columns = ['net'])\n"
   ]
  },
  {
   "cell_type": "code",
   "execution_count": 12,
   "metadata": {},
   "outputs": [],
   "source": [
    "\n",
    "# concat all data columns into a dataframe\n",
    "df = pd.concat([df1, df2, netdata,netconclude], axis=1)\n"
   ]
  },
  {
   "cell_type": "code",
   "execution_count": 13,
   "metadata": {},
   "outputs": [],
   "source": [
    "#remove unnessary columns\n",
    "df.drop(index= 0,columns=['compound'], inplace = True)\n"
   ]
  },
  {
   "cell_type": "code",
   "execution_count": 14,
   "metadata": {},
   "outputs": [],
   "source": [
    "#add index to data frame\n",
    "df.index = pd.MultiIndex.from_arrays([df.index])\n"
   ]
  },
  {
   "cell_type": "code",
   "execution_count": 15,
   "metadata": {},
   "outputs": [],
   "source": [
    "# output dataframes to csv files\n",
    "pd.DataFrame.from_dict(data = df , orient = 'columns' ).to_csv('C:/Users/User/Desktop/FYP/FYP/Social Media/CSV/SentimentAnalysis/'+ datafile + '/'+ datafile +'SentimentAll.csv')\n",
    "pd.DataFrame.from_dict(data = df3 , orient = 'columns' ).to_csv('C:/Users/User/Desktop/FYP/FYP/Social Media/CSV/SentimentAnalysis/' + datafile + '/'+ datafile + 'SentimentPositive.csv')\n",
    "pd.DataFrame.from_dict(data = df4 , orient = 'columns' ).to_csv('C:/Users/User/Desktop/FYP/FYP/Social Media/CSV/SentimentAnalysis/' + datafile + '/'+ datafile + 'SentimentNegative.csv')\n",
    "pd.DataFrame.from_dict(data = df5 , orient = 'columns' ).to_csv('C:/Users/User/Desktop/FYP/FYP/Social Media/CSV/SentimentAnalysis/'+ datafile + '/' + datafile + 'SentimentNeutral.csv')\n"
   ]
  },
  {
   "cell_type": "code",
   "execution_count": null,
   "metadata": {},
   "outputs": [],
   "source": []
  }
 ],
 "metadata": {
  "kernelspec": {
   "display_name": "Python 3",
   "language": "python",
   "name": "python3"
  },
  "language_info": {
   "codemirror_mode": {
    "name": "ipython",
    "version": 3
   },
   "file_extension": ".py",
   "mimetype": "text/x-python",
   "name": "python",
   "nbconvert_exporter": "python",
   "pygments_lexer": "ipython3",
   "version": "3.7.4"
  }
 },
 "nbformat": 4,
 "nbformat_minor": 2
}
