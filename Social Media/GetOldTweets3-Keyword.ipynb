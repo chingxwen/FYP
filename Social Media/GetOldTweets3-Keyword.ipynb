{
 "cells": [
  {
   "cell_type": "code",
   "execution_count": 1,
   "metadata": {},
   "outputs": [],
   "source": [
    "import GetOldTweets3 as got\n",
    "import pandas as pd"
   ]
  },
  {
   "cell_type": "code",
   "execution_count": 2,
   "metadata": {},
   "outputs": [
    {
     "name": "stdout",
     "output_type": "stream",
     "text": [
      "Enter the number of data you want: 10\n"
     ]
    }
   ],
   "source": [
    "number = int(input(\"Enter the number of data you want: \"))\n"
   ]
  },
  {
   "cell_type": "code",
   "execution_count": 3,
   "metadata": {},
   "outputs": [],
   "source": [
    "#parameters and pulling from API \n",
    "tweetCriteria = got.manager.TweetCriteria().setQuerySearch('TradeWar')\\\n",
    "                                           .setSince(\"2019-10-01\")\\\n",
    "                                           .setUntil(\"2019-10-31\")\\\n",
    "                                           .setMaxTweets(number)\n",
    "                                        \n"
   ]
  },
  {
   "cell_type": "code",
   "execution_count": 4,
   "metadata": {},
   "outputs": [
    {
     "name": "stdout",
     "output_type": "stream",
     "text": [
      "Searched  1\n",
      "Searched  2\n",
      "Searched  3\n",
      "Searched  4\n",
      "Searched  5\n",
      "Searched  6\n",
      "Searched  7\n",
      "Searched  8\n",
      "Searched  9\n",
      "Searched  10\n"
     ]
    }
   ],
   "source": [
    "\n",
    "get_tweets = []\n",
    "\n",
    "i = 0 \n",
    "\n",
    "for x in range (number):            \n",
    "    tweet = got.manager.TweetManager.getTweets(tweetCriteria)[i]\n",
    "    get_tweets.append(tweet.text + str(tweet.date) + str(tweet.retweets))\n",
    "    print('Searched ', (x+1))\n"
   ]
  },
  {
   "cell_type": "code",
   "execution_count": 5,
   "metadata": {},
   "outputs": [
    {
     "name": "stdout",
     "output_type": "stream",
     "text": [
      "<class 'list'>\n",
      "Written\n"
     ]
    }
   ],
   "source": [
    "# Writing to csv \n",
    "print(type(get_tweets))\n",
    "df = pd.DataFrame(get_tweets)\n",
    "df.to_csv('C:/Users/User/Desktop/FYP/FYP/Social Media/CSV/keywords.csv', index=False)\n",
    "print('Written')"
   ]
  }
 ],
 "metadata": {
  "kernelspec": {
   "display_name": "Python 3",
   "language": "python",
   "name": "python3"
  },
  "language_info": {
   "codemirror_mode": {
    "name": "ipython",
    "version": 3
   },
   "file_extension": ".py",
   "mimetype": "text/x-python",
   "name": "python",
   "nbconvert_exporter": "python",
   "pygments_lexer": "ipython3",
   "version": "3.7.4"
  }
 },
 "nbformat": 4,
 "nbformat_minor": 2
}
