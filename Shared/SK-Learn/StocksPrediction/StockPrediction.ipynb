{
 "cells": [
  {
   "cell_type": "code",
   "execution_count": 54,
   "metadata": {},
   "outputs": [],
   "source": [
    "import pandas as pd\n",
    "import numpy as np\n",
    "import math\n",
    "import sklearn.preprocessing\n",
    "from sklearn.model_selection import train_test_split\n",
    "import sklearn.linear_model\n",
    "import sklearn.pipeline\n",
    "import sklearn.neighbors\n",
    "\n",
    "from sklearn import metrics\n",
    "from sklearn.metrics import mean_squared_error, r2_score"
   ]
  },
  {
   "cell_type": "code",
   "execution_count": 55,
   "metadata": {},
   "outputs": [
    {
     "data": {
      "text/html": [
       "<div>\n",
       "<style scoped>\n",
       "    .dataframe tbody tr th:only-of-type {\n",
       "        vertical-align: middle;\n",
       "    }\n",
       "\n",
       "    .dataframe tbody tr th {\n",
       "        vertical-align: top;\n",
       "    }\n",
       "\n",
       "    .dataframe thead th {\n",
       "        text-align: right;\n",
       "    }\n",
       "</style>\n",
       "<table border=\"1\" class=\"dataframe\">\n",
       "  <thead>\n",
       "    <tr style=\"text-align: right;\">\n",
       "      <th></th>\n",
       "      <th>volume</th>\n",
       "      <th>Open_USD</th>\n",
       "      <th>High_USD</th>\n",
       "      <th>Low_USD</th>\n",
       "      <th>Close_USD</th>\n",
       "      <th>Adj_Close_USD</th>\n",
       "    </tr>\n",
       "    <tr>\n",
       "      <th>date</th>\n",
       "      <th></th>\n",
       "      <th></th>\n",
       "      <th></th>\n",
       "      <th></th>\n",
       "      <th></th>\n",
       "      <th></th>\n",
       "    </tr>\n",
       "  </thead>\n",
       "  <tbody>\n",
       "    <tr>\n",
       "      <td>2015-09-04</td>\n",
       "      <td>9107550</td>\n",
       "      <td>26.948979</td>\n",
       "      <td>27.297299</td>\n",
       "      <td>26.948979</td>\n",
       "      <td>27.187303</td>\n",
       "      <td>0.263654</td>\n",
       "    </tr>\n",
       "    <tr>\n",
       "      <td>2015-10-04</td>\n",
       "      <td>9960100</td>\n",
       "      <td>27.020174</td>\n",
       "      <td>27.275770</td>\n",
       "      <td>26.983660</td>\n",
       "      <td>27.202743</td>\n",
       "      <td>0.263804</td>\n",
       "    </tr>\n",
       "    <tr>\n",
       "      <td>2015-04-13</td>\n",
       "      <td>10293300</td>\n",
       "      <td>26.831270</td>\n",
       "      <td>27.048968</td>\n",
       "      <td>26.631713</td>\n",
       "      <td>26.831270</td>\n",
       "      <td>0.260201</td>\n",
       "    </tr>\n",
       "    <tr>\n",
       "      <td>2015-04-14</td>\n",
       "      <td>9429750</td>\n",
       "      <td>27.119021</td>\n",
       "      <td>27.119021</td>\n",
       "      <td>26.753782</td>\n",
       "      <td>26.918139</td>\n",
       "      <td>0.261043</td>\n",
       "    </tr>\n",
       "    <tr>\n",
       "      <td>2015-04-15</td>\n",
       "      <td>13551050</td>\n",
       "      <td>26.641380</td>\n",
       "      <td>26.823855</td>\n",
       "      <td>26.039212</td>\n",
       "      <td>26.385915</td>\n",
       "      <td>0.255882</td>\n",
       "    </tr>\n",
       "    <tr>\n",
       "      <td>2015-04-16</td>\n",
       "      <td>10762350</td>\n",
       "      <td>26.893388</td>\n",
       "      <td>27.169312</td>\n",
       "      <td>26.617464</td>\n",
       "      <td>27.169312</td>\n",
       "      <td>0.263479</td>\n",
       "    </tr>\n",
       "    <tr>\n",
       "      <td>2015-04-17</td>\n",
       "      <td>10172300</td>\n",
       "      <td>27.370647</td>\n",
       "      <td>27.389178</td>\n",
       "      <td>26.814710</td>\n",
       "      <td>26.870304</td>\n",
       "      <td>0.260580</td>\n",
       "    </tr>\n",
       "    <tr>\n",
       "      <td>2015-04-20</td>\n",
       "      <td>12394900</td>\n",
       "      <td>26.727788</td>\n",
       "      <td>26.764756</td>\n",
       "      <td>26.302657</td>\n",
       "      <td>26.432045</td>\n",
       "      <td>0.256330</td>\n",
       "    </tr>\n",
       "    <tr>\n",
       "      <td>2015-04-21</td>\n",
       "      <td>11852650</td>\n",
       "      <td>26.241694</td>\n",
       "      <td>26.684904</td>\n",
       "      <td>26.223227</td>\n",
       "      <td>26.666437</td>\n",
       "      <td>0.258603</td>\n",
       "    </tr>\n",
       "    <tr>\n",
       "      <td>2015-04-22</td>\n",
       "      <td>12655550</td>\n",
       "      <td>26.796493</td>\n",
       "      <td>27.334650</td>\n",
       "      <td>26.648036</td>\n",
       "      <td>27.111965</td>\n",
       "      <td>0.262923</td>\n",
       "    </tr>\n",
       "  </tbody>\n",
       "</table>\n",
       "</div>"
      ],
      "text/plain": [
       "              volume   Open_USD   High_USD    Low_USD  Close_USD  \\\n",
       "date                                                               \n",
       "2015-09-04   9107550  26.948979  27.297299  26.948979  27.187303   \n",
       "2015-10-04   9960100  27.020174  27.275770  26.983660  27.202743   \n",
       "2015-04-13  10293300  26.831270  27.048968  26.631713  26.831270   \n",
       "2015-04-14   9429750  27.119021  27.119021  26.753782  26.918139   \n",
       "2015-04-15  13551050  26.641380  26.823855  26.039212  26.385915   \n",
       "2015-04-16  10762350  26.893388  27.169312  26.617464  27.169312   \n",
       "2015-04-17  10172300  27.370647  27.389178  26.814710  26.870304   \n",
       "2015-04-20  12394900  26.727788  26.764756  26.302657  26.432045   \n",
       "2015-04-21  11852650  26.241694  26.684904  26.223227  26.666437   \n",
       "2015-04-22  12655550  26.796493  27.334650  26.648036  27.111965   \n",
       "\n",
       "            Adj_Close_USD  \n",
       "date                       \n",
       "2015-09-04       0.263654  \n",
       "2015-10-04       0.263804  \n",
       "2015-04-13       0.260201  \n",
       "2015-04-14       0.261043  \n",
       "2015-04-15       0.255882  \n",
       "2015-04-16       0.263479  \n",
       "2015-04-17       0.260580  \n",
       "2015-04-20       0.256330  \n",
       "2015-04-21       0.258603  \n",
       "2015-04-22       0.262923  "
      ]
     },
     "execution_count": 55,
     "metadata": {},
     "output_type": "execute_result"
    }
   ],
   "source": [
    "df = pd.read_csv(\"SamsungStocks.csv\", parse_dates = True, index_col = \"date\")\n",
    "df.head(10)"
   ]
  },
  {
   "cell_type": "code",
   "execution_count": 56,
   "metadata": {},
   "outputs": [
    {
     "name": "stdout",
     "output_type": "stream",
     "text": [
      "length of X_train and x_test:  880 220\n"
     ]
    }
   ],
   "source": [
    "# We want to separate 1 % of the data for validation and to forecast\n",
    "forecast_out = int(math.ceil(0.01 * len(df)))\n",
    "# Separating the label here, want to predict the AdjClose label\n",
    "forecast_col = 'Adj_Close_USD'\n",
    "df['label'] = df[forecast_col].shift(-forecast_out)\n",
    "X = np.array(df.drop(['label'], 1))\n",
    "X = sklearn.preprocessing.scale(X)\n",
    "# Finally want to find Data Series of late X and early X (train) for model generation and evaluation\n",
    "X_lately = X[-forecast_out:]\n",
    "X = X[:-forecast_out]\n",
    "# Separate label and identify it as y\n",
    "y = np.array(df['label'])\n",
    "y = y[:-forecast_out]\n",
    "# split into test and train data), test_size = 0.2 ==> 20% data is test data\n",
    "X_train,X_test, y_train, y_test = train_test_split(X, y, test_size=0.2, random_state=0)\n",
    "print('length of X_train and x_test: ', len(X_train), len(X_test))"
   ]
  },
  {
   "cell_type": "code",
   "execution_count": 30,
   "metadata": {},
   "outputs": [],
   "source": [
    "#Linear Regression\n",
    "\n",
    "reg = sklearn.linear_model.LinearRegression(n_jobs = -1)\n",
    "reg.fit(X_train, y_train)\n",
    "\n",
    "y_pred = reg.predict(X_test)"
   ]
  },
  {
   "cell_type": "code",
   "execution_count": 22,
   "metadata": {},
   "outputs": [
    {
     "data": {
      "text/plain": [
       "Pipeline(memory=None,\n",
       "         steps=[('polynomialfeatures',\n",
       "                 PolynomialFeatures(degree=2, include_bias=True,\n",
       "                                    interaction_only=False, order='C')),\n",
       "                ('ridge',\n",
       "                 Ridge(alpha=1.0, copy_X=True, fit_intercept=True,\n",
       "                       max_iter=None, normalize=False, random_state=None,\n",
       "                       solver='auto', tol=0.001))],\n",
       "         verbose=False)"
      ]
     },
     "execution_count": 22,
     "metadata": {},
     "output_type": "execute_result"
    }
   ],
   "source": [
    "#Quadratic Regression 2\n",
    "\n",
    "poly2 = sklearn.pipeline.make_pipeline(sklearn.preprocessing.PolynomialFeatures(2), sklearn.linear_model.Ridge())\n",
    "poly2.fit(X_train, y_train)"
   ]
  },
  {
   "cell_type": "code",
   "execution_count": 23,
   "metadata": {},
   "outputs": [
    {
     "data": {
      "text/plain": [
       "Pipeline(memory=None,\n",
       "         steps=[('polynomialfeatures',\n",
       "                 PolynomialFeatures(degree=3, include_bias=True,\n",
       "                                    interaction_only=False, order='C')),\n",
       "                ('ridge',\n",
       "                 Ridge(alpha=1.0, copy_X=True, fit_intercept=True,\n",
       "                       max_iter=None, normalize=False, random_state=None,\n",
       "                       solver='auto', tol=0.001))],\n",
       "         verbose=False)"
      ]
     },
     "execution_count": 23,
     "metadata": {},
     "output_type": "execute_result"
    }
   ],
   "source": [
    "#Quadratic Regression 3\n",
    "\n",
    "poly3 = sklearn.pipeline.make_pipeline(sklearn.preprocessing.PolynomialFeatures(3), sklearn.linear_model.Ridge())\n",
    "poly3.fit(X_train, y_train)"
   ]
  },
  {
   "cell_type": "code",
   "execution_count": 26,
   "metadata": {},
   "outputs": [
    {
     "data": {
      "text/plain": [
       "KNeighborsRegressor(algorithm='auto', leaf_size=30, metric='minkowski',\n",
       "                    metric_params=None, n_jobs=None, n_neighbors=2, p=2,\n",
       "                    weights='uniform')"
      ]
     },
     "execution_count": 26,
     "metadata": {},
     "output_type": "execute_result"
    }
   ],
   "source": [
    "#KNN Regression\n",
    "\n",
    "knn = sklearn.neighbors.KNeighborsRegressor(n_neighbors = 2)\n",
    "knn.fit(X_train, y_train)"
   ]
  },
  {
   "cell_type": "code",
   "execution_count": 27,
   "metadata": {},
   "outputs": [
    {
     "name": "stdout",
     "output_type": "stream",
     "text": [
      "Linear regression confidence is: 0.9870022296122294\n",
      "Quadratic regression2 confidence is: 0.9858568808176921\n",
      "Quadratic regression3 confidence is: 0.9837183228116625\n",
      "knn regression confidence is: 0.9750016384147017\n"
     ]
    }
   ],
   "source": [
    "conf_reg = reg.score(X_test, y_test)\n",
    "print('Linear regression confidence is:', conf_reg)\n",
    "conf_poly2 = poly2.score(X_test,y_test)\n",
    "print('Quadratic regression2 confidence is:', conf_poly2)\n",
    "conf_poly3 = poly3.score(X_test,y_test)\n",
    "print('Quadratic regression3 confidence is:', conf_poly3)\n",
    "conf_knn = knn.score(X_test, y_test)\n",
    "print('knn regression confidence is:', conf_knn)"
   ]
  },
  {
   "cell_type": "code",
   "execution_count": 28,
   "metadata": {},
   "outputs": [
    {
     "data": {
      "text/plain": [
       "array([41.63245455, 42.40840977, 42.53114723, 42.89915699, 43.11410315,\n",
       "       42.3905912 , 43.21255958, 43.8563039 , 43.96183607, 43.09485958,\n",
       "       43.57960599, 44.11803811])"
      ]
     },
     "execution_count": 28,
     "metadata": {},
     "output_type": "execute_result"
    }
   ],
   "source": [
    "y_predicted = reg.predict(X_lately)\n",
    "y_predicted # sanity test -> foretasted prices"
   ]
  },
  {
   "cell_type": "code",
   "execution_count": 53,
   "metadata": {},
   "outputs": [
    {
     "name": "stdout",
     "output_type": "stream",
     "text": [
      "R2 for linear regression 98.7\n"
     ]
    }
   ],
   "source": [
    "r2_score = reg.score(X_test, y_test)*100\n",
    "print(\"R2 for linear regression\", float(\"{0:.2f}\".format(r2_score)))"
   ]
  },
  {
   "cell_type": "code",
   "execution_count": 38,
   "metadata": {},
   "outputs": [
    {
     "name": "stdout",
     "output_type": "stream",
     "text": [
      "Coefficients: \n",
      " [-0.05347419  0.15958058 -2.33462743  2.3330183   0.82704188 16.44423211]\n",
      "Mean squared error: 3.92\n",
      "Coefficient of determination: 0.99\n"
     ]
    }
   ],
   "source": [
    "# The coefficients\n",
    "print('Coefficients: \\n', reg.coef_)\n",
    "# The mean squared error\n",
    "print('Mean squared error: %.2f'\n",
    "      % mean_squared_error(y_test, y_pred))\n",
    "# The coefficient of determination: 1 is perfect prediction\n",
    "print('Coefficient of determination: %.2f'\n",
    "      % r2_score(y_test, y_pred))"
   ]
  },
  {
   "cell_type": "code",
   "execution_count": 52,
   "metadata": {},
   "outputs": [
    {
     "data": {
      "image/png": "[encoded data removed]",
      "text/plain": [
       "<Figure size 720x576 with 1 Axes>"
      ]
     },
     "metadata": {
      "needs_background": "light"
     },
     "output_type": "display_data"
    }
   ],
   "source": [
    "import matplotlib.pyplot as plt\n",
    "\n",
    "# Plot outputs\n",
    "plt.figure(figsize=(10,8))\n",
    "plt.scatter(X_test[0:20,0], y_test[0:20],  color='black')\n",
    "plt.plot(X_test[0:20,0], y_pred[0:20], color='blue', linewidth=3)\n",
    "\n",
    "\n",
    "plt.show()"
   ]
  },
  {
   "cell_type": "code",
   "execution_count": 58,
   "metadata": {},
   "outputs": [
    {
     "name": "stdout",
     "output_type": "stream",
     "text": [
      "[[ 0.60477964 -0.75770049 -0.78618318 -0.80937314 -0.83675585 -0.96911036]\n",
      " [-0.80195422  0.497089    0.45728646  0.4723627   0.47389087  1.17432677]\n",
      " [-0.0910703   0.10531186  0.15280749  0.13137729  0.17321505 -0.60625624]\n",
      " ...\n",
      " [-0.57849873  0.82893466  0.79969828  0.85758187  0.83015126 -0.32115272]\n",
      " [-0.52027446  1.14816187  1.11463581  1.16150368  1.12563421 -0.27346071]\n",
      " [-0.49032674  0.83007815  0.80183651  0.7897132   0.76488349  1.31296162]]\n"
     ]
    }
   ],
   "source": [
    "print(X_test)"
   ]
  },
  {
   "cell_type": "code",
   "execution_count": 59,
   "metadata": {},
   "outputs": [
    {
     "name": "stdout",
     "output_type": "stream",
     "text": [
      "[ 1.48311418 36.82545776  9.54420058 28.73550569 35.72868919  1.29187199\n",
      " 10.55516572 35.77101897 41.53342927 27.35895269 36.15919978  7.09452487\n",
      " 36.36754814 12.12568084 29.64297793 38.78188398  1.47747928 47.06523242\n",
      "  1.06542762  7.14877795  0.23795167 13.23970534  1.35526233 42.93237029\n",
      "  0.90385801 35.88204398 43.8488243   0.22719734 40.42185281 46.59006444\n",
      "  0.89895061 40.75063212 36.82034956  1.46795218 41.00471393 39.3608493\n",
      " 39.23632812 40.42161784 13.10215604  1.40176011  1.44812483 10.23632587\n",
      "  0.2239641  15.43674616 37.4140329  10.1749966  41.93950283 28.87555007\n",
      " 41.30112324  9.32315073 12.53426408 45.75890632 10.17879845  1.34235672\n",
      " 40.12717347  0.22205358  1.36776472 40.11798797 42.30943523 28.90099654\n",
      " 37.77205557  6.68408726  1.04439954 29.78117188  1.08812511 41.72402376\n",
      " 40.68682867 39.8662256   0.1928352   1.43220755 42.83430521 38.98720448\n",
      "  0.21714293  0.19526485  1.39544407 17.70731646 16.79539119  9.24963942\n",
      "  0.91665326  1.46277253  6.31008123  1.21563737 37.18612848  1.05528044\n",
      "  0.21426396 16.0533934   0.90789225  1.08170784  0.18260903  7.2598639\n",
      " 37.97518422 44.70246128  0.2391232   0.24803427 26.22637273 39.42510578\n",
      " 39.98201439 28.00399747 10.22777153 39.32003283  0.92681006  0.19423201\n",
      " 45.77435142  1.33081184 34.61684814 34.07464919 41.18616399 34.30808239\n",
      "  9.51756691 41.1904801  37.3156464  28.17675251 35.53735662 38.71958041\n",
      " 39.88709199  1.3913578  39.9893918   1.3142251  35.24601742 39.32615841\n",
      "  1.40337375  0.22528378  1.50844268 42.32147592 36.99025689 27.32045992\n",
      " 37.79034425  1.18713147 12.3461156   0.19499556 39.6930617   0.24179028\n",
      " 37.24955439 10.42636394 39.41686848 35.98937063 33.38537522  7.29457513\n",
      " 37.24935038 40.9183116   9.39182301  1.06755892 37.95959566  0.23304322\n",
      "  1.41222231 28.85983152 40.98396666 41.82100394 37.01711436  0.92227093\n",
      "  0.19201661  0.93642242 43.32587154 36.5885635  27.53350247 10.47878619\n",
      "  0.22747761 38.63353676 36.92809928 35.67823023 12.24847997  0.18620356\n",
      "  0.22100461  1.05537766  0.18795476 13.86073967  9.30712562 36.70837779\n",
      " 28.35742369 48.09514436 36.79685628  7.84457162 10.20698958 41.0121608\n",
      " 40.49884639  1.10364209 40.53627147 12.91744646 10.35736378 35.62718525\n",
      "  1.08218996 41.49445108  0.91685604 34.9418355   1.38724298  0.24399353\n",
      "  1.47471073  0.23672049  0.25064202  7.84982092 10.72198689  0.18024199\n",
      "  7.26939796 15.41431931 40.95787383 43.22198984 17.55556567 10.42765305\n",
      "  1.49430168  9.23249392 39.51188112 46.75718073 41.49808231 39.82782461\n",
      " 45.9043933  29.73897283 38.85876164 39.79611661 39.74169684  1.04398919\n",
      "  1.40974007 41.95736538 35.32410292  1.05509178  1.3274979  16.15337509\n",
      " 16.45593577 13.09378823 12.97373373 41.76310469]\n"
     ]
    }
   ],
   "source": [
    "print(y_test)"
   ]
  },
  {
   "cell_type": "code",
   "execution_count": null,
   "metadata": {},
   "outputs": [],
   "source": []
  }
 ],
 "metadata": {
  "kernelspec": {
   "display_name": "Python 3",
   "language": "python",
   "name": "python3"
  },
  "language_info": {
   "codemirror_mode": {
    "name": "ipython",
    "version": 3
   },
   "file_extension": ".py",
   "mimetype": "text/x-python",
   "name": "python",
   "nbconvert_exporter": "python",
   "pygments_lexer": "ipython3",
   "version": "3.7.4"
  }
 },
 "nbformat": 4,
 "nbformat_minor": 2
}
