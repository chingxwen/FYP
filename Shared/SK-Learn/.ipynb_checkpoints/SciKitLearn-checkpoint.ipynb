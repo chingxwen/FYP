{
 "cells": [
  {
   "cell_type": "code",
   "execution_count": 2,
   "metadata": {},
   "outputs": [],
   "source": [
    "from sklearn.preprocessing import LabelEncoder\n",
    "from sklearn.feature_extraction.text import TfidfVectorizer\n",
    "from sklearn.ensemble import RandomForestRegressor\n",
    "from sklearn.metrics import accuracy_score\n",
    "from sklearn.model_selection import train_test_split\n",
    "from sklearn import preprocessing\n",
    "from nltk.corpus import stopwords\n",
    "import pandas as pd\n",
    "import numpy as np"
   ]
  },
  {
   "cell_type": "code",
   "execution_count": 5,
   "metadata": {},
   "outputs": [],
   "source": [
    "df = pd.read_csv(r\"C:\\Users\\Jurgen\\Desktop\\FYP\\Shared\\News_Twitter_Stock_Data.csv\")\n",
    "df = df.dropna()\n",
    "x = df[[\"News_Senti\", \"Twitter_Senti\"]]\n",
    "y = df[\"Stock_Difference\"]"
   ]
  },
  {
   "cell_type": "code",
   "execution_count": 3,
   "metadata": {},
   "outputs": [],
   "source": [
    "tvectorizer = TfidfVectorizer (max_features=2500, stop_words=stopwords.words('english'))\n",
    "x = tvectorizer.fit_transform(x).toarray()"
   ]
  },
  {
   "cell_type": "code",
   "execution_count": 74,
   "metadata": {},
   "outputs": [
    {
     "name": "stdout",
     "output_type": "stream",
     "text": [
      "[0.         0.06640986 0.         ... 0.01956661 0.         0.        ]\n",
      "2500\n"
     ]
    }
   ],
   "source": [
    "print(x[0])\n",
    "print(len(x[1]))"
   ]
  },
  {
   "cell_type": "code",
   "execution_count": 4,
   "metadata": {},
   "outputs": [],
   "source": [
    "y = y.to_numpy(dtype = \"float64\")\n",
    "y = y.reshape(-1, 1)"
   ]
  },
  {
   "cell_type": "code",
   "execution_count": 5,
   "metadata": {},
   "outputs": [],
   "source": [
    "\n",
    "x_train,x_test,y_train,y_test=train_test_split(x, y, test_size=0.25, random_state=0)"
   ]
  },
  {
   "cell_type": "code",
   "execution_count": 6,
   "metadata": {},
   "outputs": [
    {
     "name": "stdout",
     "output_type": "stream",
     "text": [
      "X-train:  (150, 2500)\n",
      "\n",
      "Y-train:  (150, 1)\n",
      "\n",
      "\n",
      "X-test:  (51, 2500)\n",
      "\n",
      "Y-test:  (51, 1)\n"
     ]
    }
   ],
   "source": [
    "print(\"X-train: \", x_train.shape)\n",
    "print()\n",
    "print(\"Y-train: \", y_train.shape)\n",
    "print()\n",
    "print()\n",
    "print(\"X-test: \", x_test.shape)\n",
    "print()\n",
    "print(\"Y-test: \", y_test.shape)"
   ]
  },
  {
   "cell_type": "code",
   "execution_count": 68,
   "metadata": {},
   "outputs": [
    {
     "name": "stderr",
     "output_type": "stream",
     "text": [
      "C:\\Users\\Jurgen\\Anaconda3\\lib\\site-packages\\ipykernel_launcher.py:2: DataConversionWarning: A column-vector y was passed when a 1d array was expected. Please change the shape of y to (n_samples,), for example using ravel().\n",
      "  \n"
     ]
    }
   ],
   "source": [
    "text_classifier = RandomForestRegressor(n_estimators=200, random_state=0)\n",
    "text_classifier.fit(x_train, y_train)\n",
    "y_pred = text_classifier.predict(x_test)\n",
    "\n",
    "\n",
    "# from sklearn import neighbors\n",
    "\n",
    "# knn = neighbors.KNeighborsRegressor(n_neighbors = 5)\n",
    "# knn.fit(x_train, y_train)\n",
    "# y_pred = knn.predict(x_test)"
   ]
  },
  {
   "cell_type": "code",
   "execution_count": 69,
   "metadata": {},
   "outputs": [
    {
     "name": "stdout",
     "output_type": "stream",
     "text": [
      "Error: 0.04354093245389966\n",
      "R^2:  0.35809913383331005\n",
      "Max Error:  0.18649671279716662\n",
      "Variance Score:  0.3582269995212466\n"
     ]
    }
   ],
   "source": [
    "from sklearn import metrics\n",
    "print(\"Error:\",metrics.mean_absolute_error(y_test, y_pred))\n",
    "print(\"R^2: \", metrics.r2_score(y_test, y_pred))\n",
    "print(\"Max Error: \", metrics.max_error(y_test, y_pred))\n",
    "print(\"Variance Score: \", metrics.explained_variance_score(y_test, y_pred))"
   ]
  },
  {
   "cell_type": "code",
   "execution_count": null,
   "metadata": {},
   "outputs": [],
   "source": [
    "predictions = text_classifier.predict(x_test)"
   ]
  },
  {
   "cell_type": "code",
   "execution_count": null,
   "metadata": {},
   "outputs": [],
   "source": [
    "from sklearn import metrics\n",
    "\n",
    "print('Mean Absolute Error:', metrics.mean_absolute_error(y_test, predictions))\n",
    "print('Mean Squared Error:', metrics.mean_squared_error(y_test, predictions))\n",
    "print('Root Mean Squared Error:', np.sqrt(metrics.mean_squared_error(y_test, predictions)))"
   ]
  },
  {
   "cell_type": "code",
   "execution_count": 16,
   "metadata": {},
   "outputs": [
    {
     "name": "stdout",
     "output_type": "stream",
     "text": [
      "float64\n",
      "float64\n"
     ]
    }
   ],
   "source": [
    "print(y_pred.dtype)\n",
    "print(y_test.dtype)"
   ]
  },
  {
   "cell_type": "code",
   "execution_count": null,
   "metadata": {},
   "outputs": [],
   "source": []
  }
 ],
 "metadata": {
  "kernelspec": {
   "display_name": "Python 3",
   "language": "python",
   "name": "python3"
  },
  "language_info": {
   "codemirror_mode": {
    "name": "ipython",
    "version": 3
   },
   "file_extension": ".py",
   "mimetype": "text/x-python",
   "name": "python",
   "nbconvert_exporter": "python",
   "pygments_lexer": "ipython3",
   "version": "3.7.4"
  }
 },
 "nbformat": 4,
 "nbformat_minor": 2
}
