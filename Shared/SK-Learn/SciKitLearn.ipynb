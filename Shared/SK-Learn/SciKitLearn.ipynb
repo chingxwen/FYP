{
 "cells": [
  {
   "cell_type": "code",
   "execution_count": 1,
   "metadata": {},
   "outputs": [],
   "source": [
    "from sklearn.model_selection import train_test_split\n",
    "from nltk.corpus import stopwords\n",
    "import pandas as pd\n",
    "import numpy as np"
   ]
  },
  {
   "cell_type": "code",
   "execution_count": 2,
   "metadata": {},
   "outputs": [
    {
     "data": {
      "text/html": [
       "<div>\n",
       "<style scoped>\n",
       "    .dataframe tbody tr th:only-of-type {\n",
       "        vertical-align: middle;\n",
       "    }\n",
       "\n",
       "    .dataframe tbody tr th {\n",
       "        vertical-align: top;\n",
       "    }\n",
       "\n",
       "    .dataframe thead th {\n",
       "        text-align: right;\n",
       "    }\n",
       "</style>\n",
       "<table border=\"1\" class=\"dataframe\">\n",
       "  <thead>\n",
       "    <tr style=\"text-align: right;\">\n",
       "      <th></th>\n",
       "      <th>News_Senti</th>\n",
       "      <th>Volume</th>\n",
       "      <th>Open_USD</th>\n",
       "      <th>Adj_Close_USD</th>\n",
       "      <th>Twitter_Senti</th>\n",
       "      <th>Reddit_Comment</th>\n",
       "      <th>Reddit_SelfText</th>\n",
       "    </tr>\n",
       "  </thead>\n",
       "  <tbody>\n",
       "    <tr>\n",
       "      <td>0</td>\n",
       "      <td>NaN</td>\n",
       "      <td>NaN</td>\n",
       "      <td>NaN</td>\n",
       "      <td>NaN</td>\n",
       "      <td>NaN</td>\n",
       "      <td>0.167460</td>\n",
       "      <td>0.352600</td>\n",
       "    </tr>\n",
       "    <tr>\n",
       "      <td>1</td>\n",
       "      <td>NaN</td>\n",
       "      <td>13112253.0</td>\n",
       "      <td>41.508241</td>\n",
       "      <td>39.984037</td>\n",
       "      <td>NaN</td>\n",
       "      <td>0.091721</td>\n",
       "      <td>-0.167850</td>\n",
       "    </tr>\n",
       "    <tr>\n",
       "      <td>2</td>\n",
       "      <td>-0.013258</td>\n",
       "      <td>10959655.0</td>\n",
       "      <td>41.112864</td>\n",
       "      <td>40.782627</td>\n",
       "      <td>NaN</td>\n",
       "      <td>0.195632</td>\n",
       "      <td>0.065820</td>\n",
       "    </tr>\n",
       "    <tr>\n",
       "      <td>3</td>\n",
       "      <td>NaN</td>\n",
       "      <td>8776763.0</td>\n",
       "      <td>41.783077</td>\n",
       "      <td>40.692290</td>\n",
       "      <td>NaN</td>\n",
       "      <td>0.089100</td>\n",
       "      <td>0.192950</td>\n",
       "    </tr>\n",
       "    <tr>\n",
       "      <td>4</td>\n",
       "      <td>NaN</td>\n",
       "      <td>7039773.0</td>\n",
       "      <td>41.233912</td>\n",
       "      <td>40.416246</td>\n",
       "      <td>NaN</td>\n",
       "      <td>0.107269</td>\n",
       "      <td>0.191075</td>\n",
       "    </tr>\n",
       "    <tr>\n",
       "      <td>...</td>\n",
       "      <td>...</td>\n",
       "      <td>...</td>\n",
       "      <td>...</td>\n",
       "      <td>...</td>\n",
       "      <td>...</td>\n",
       "      <td>...</td>\n",
       "      <td>...</td>\n",
       "    </tr>\n",
       "    <tr>\n",
       "      <td>483</td>\n",
       "      <td>NaN</td>\n",
       "      <td>NaN</td>\n",
       "      <td>NaN</td>\n",
       "      <td>NaN</td>\n",
       "      <td>0.6369</td>\n",
       "      <td>NaN</td>\n",
       "      <td>NaN</td>\n",
       "    </tr>\n",
       "    <tr>\n",
       "      <td>484</td>\n",
       "      <td>0.107508</td>\n",
       "      <td>6431522.0</td>\n",
       "      <td>43.335973</td>\n",
       "      <td>43.848824</td>\n",
       "      <td>0.6369</td>\n",
       "      <td>NaN</td>\n",
       "      <td>NaN</td>\n",
       "    </tr>\n",
       "    <tr>\n",
       "      <td>485</td>\n",
       "      <td>0.139891</td>\n",
       "      <td>7581629.0</td>\n",
       "      <td>44.008072</td>\n",
       "      <td>43.751215</td>\n",
       "      <td>0.6729</td>\n",
       "      <td>NaN</td>\n",
       "      <td>NaN</td>\n",
       "    </tr>\n",
       "    <tr>\n",
       "      <td>486</td>\n",
       "      <td>NaN</td>\n",
       "      <td>8959435.0</td>\n",
       "      <td>43.406557</td>\n",
       "      <td>43.149714</td>\n",
       "      <td>0.9357</td>\n",
       "      <td>NaN</td>\n",
       "      <td>NaN</td>\n",
       "    </tr>\n",
       "    <tr>\n",
       "      <td>487</td>\n",
       "      <td>0.107235</td>\n",
       "      <td>10304777.0</td>\n",
       "      <td>43.661609</td>\n",
       "      <td>43.147943</td>\n",
       "      <td>NaN</td>\n",
       "      <td>NaN</td>\n",
       "      <td>NaN</td>\n",
       "    </tr>\n",
       "  </tbody>\n",
       "</table>\n",
       "<p>488 rows × 7 columns</p>\n",
       "</div>"
      ],
      "text/plain": [
       "     News_Senti      Volume   Open_USD  Adj_Close_USD  Twitter_Senti  \\\n",
       "0           NaN         NaN        NaN            NaN            NaN   \n",
       "1           NaN  13112253.0  41.508241      39.984037            NaN   \n",
       "2     -0.013258  10959655.0  41.112864      40.782627            NaN   \n",
       "3           NaN   8776763.0  41.783077      40.692290            NaN   \n",
       "4           NaN   7039773.0  41.233912      40.416246            NaN   \n",
       "..          ...         ...        ...            ...            ...   \n",
       "483         NaN         NaN        NaN            NaN         0.6369   \n",
       "484    0.107508   6431522.0  43.335973      43.848824         0.6369   \n",
       "485    0.139891   7581629.0  44.008072      43.751215         0.6729   \n",
       "486         NaN   8959435.0  43.406557      43.149714         0.9357   \n",
       "487    0.107235  10304777.0  43.661609      43.147943            NaN   \n",
       "\n",
       "     Reddit_Comment  Reddit_SelfText  \n",
       "0          0.167460         0.352600  \n",
       "1          0.091721        -0.167850  \n",
       "2          0.195632         0.065820  \n",
       "3          0.089100         0.192950  \n",
       "4          0.107269         0.191075  \n",
       "..              ...              ...  \n",
       "483             NaN              NaN  \n",
       "484             NaN              NaN  \n",
       "485             NaN              NaN  \n",
       "486             NaN              NaN  \n",
       "487             NaN              NaN  \n",
       "\n",
       "[488 rows x 7 columns]"
      ]
     },
     "execution_count": 2,
     "metadata": {},
     "output_type": "execute_result"
    }
   ],
   "source": [
    "df = pd.read_csv(r\"C:\\Users\\Jurgen\\Desktop\\FYP\\Shared\\CSV Files\\News_Twitter_Stock_Reddit_NaN_Final.csv\")\n",
    "df = df.drop([\"Date\", \"Stockname\", \"Close_USD\", \"High_USD\", \"Low_USD\"], axis=1)\n",
    "\n",
    "df"
   ]
  },
  {
   "cell_type": "markdown",
   "metadata": {},
   "source": [
    "# Non NaN Stock Data + Sentiments Filled With 0"
   ]
  },
  {
   "cell_type": "code",
   "execution_count": 3,
   "metadata": {},
   "outputs": [
    {
     "name": "stdout",
     "output_type": "stream",
     "text": [
      "     News_Senti      Volume   Open_USD  Adj_Close_USD  Twitter_Senti  \\\n",
      "0      0.000000  13112253.0  41.508241      39.984037         0.0000   \n",
      "1     -0.013258  10959655.0  41.112864      40.782627         0.0000   \n",
      "2      0.000000   8776763.0  41.783077      40.692290         0.0000   \n",
      "3      0.000000   7039773.0  41.233912      40.416246         0.0000   \n",
      "4      0.000000  17843706.0  40.692186      39.487791         0.0000   \n",
      "..          ...         ...        ...            ...            ...   \n",
      "318    0.000000   7879897.0  43.240752      43.325872         0.3612   \n",
      "319    0.107508   6431522.0  43.335973      43.848824         0.6369   \n",
      "320    0.139891   7581629.0  44.008072      43.751215         0.6729   \n",
      "321    0.000000   8959435.0  43.406557      43.149714         0.9357   \n",
      "322    0.107235  10304777.0  43.661609      43.147943         0.0000   \n",
      "\n",
      "     Reddit_Comment  Reddit_SelfText  \n",
      "0          0.091721        -0.167850  \n",
      "1          0.195632         0.065820  \n",
      "2          0.089100         0.192950  \n",
      "3          0.107269         0.191075  \n",
      "4          0.134362         0.167800  \n",
      "..              ...              ...  \n",
      "318        0.000000         0.000000  \n",
      "319        0.000000         0.000000  \n",
      "320        0.000000         0.000000  \n",
      "321        0.000000         0.000000  \n",
      "322        0.000000         0.000000  \n",
      "\n",
      "[323 rows x 7 columns]\n",
      "Training Rows:  242\n",
      "Testing Rows:  81\n"
     ]
    }
   ],
   "source": [
    "df[[\"News_Senti\",\"Twitter_Senti\", \"Reddit_Comment\", \"Reddit_SelfText\"]] = df[[\"News_Senti\",\"Twitter_Senti\", \"Reddit_Comment\", \"Reddit_SelfText\"]].fillna(0)\n",
    "df = df.dropna().reset_index(drop=True)\n",
    "print(df)\n",
    "\n",
    "x = df.loc[:, df.columns != 'Adj_Close_USD']\n",
    "X = x.to_numpy()\n",
    "y = df[\"Adj_Close_USD\"].to_numpy()\n",
    "\n",
    "X_train, X_test, y_train, y_test = train_test_split(X, y, train_size=0.75, random_state=0)\n",
    "\n",
    "print(\"Training Rows: \",X_train.shape[0])\n",
    "print(\"Testing Rows: \",X_test.shape[0])"
   ]
  },
  {
   "cell_type": "markdown",
   "metadata": {},
   "source": [
    "# Dropping All Rows With NaN"
   ]
  },
  {
   "cell_type": "code",
   "execution_count": null,
   "metadata": {
    "scrolled": true
   },
   "outputs": [],
   "source": [
    "# df_dropped = df.dropna().reset_index(drop=True)\n",
    "# df_dropped.shape\n",
    "\n",
    "\n",
    "# X = df_dropped.loc[:, df_dropped.columns != 'Adj_Close_USD'].to_numpy()\n",
    "# y = df_dropped[\"Adj_Close_USD\"].to_numpy()\n",
    "\n",
    "# X_train, X_test, y_train, y_test = train_test_split(X, y, test_size=0.25, random_state=0)\n",
    "\n",
    "# print(\"Training Rows: \",X_train.shape[0])\n",
    "# print(\"Testing Rows: \",X_test.shape[0])\n"
   ]
  },
  {
   "cell_type": "markdown",
   "metadata": {},
   "source": [
    "# Random Forest Regressor"
   ]
  },
  {
   "cell_type": "code",
   "execution_count": 4,
   "metadata": {
    "scrolled": false
   },
   "outputs": [
    {
     "name": "stdout",
     "output_type": "stream",
     "text": [
      "R^2: 0.91866806 n_estimators = 100\n",
      "R^2: 0.91965466 n_estimators = 200\n",
      "R^2: 0.92029008 n_estimators = 300\n",
      "R^2: 0.92075707 n_estimators = 400\n",
      "R^2: 0.92053187 n_estimators = 500\n",
      "R^2: 0.92091781 n_estimators = 600\n",
      "R^2: 0.92099405 n_estimators = 700\n",
      "R^2: 0.92098181 n_estimators = 800\n",
      "R^2: 0.92106718 n_estimators = 900\n",
      "R^2: 0.92109504 n_estimators = 1000\n",
      "\n",
      "N_Estimators:  1000\n",
      "Coefficients: \n",
      " [0.00478747 0.01187511 0.96564125 0.00559602 0.00683663 0.00526352]\n",
      "R^2:  0.9210950380238891\n",
      "Variance Score:  0.9216712138142277\n",
      "Max Error:  1.2609221327405322\n",
      "Mean Absolute Error: 0.4573957366903276\n",
      "Mean Squared Error: 0.311874066982769\n",
      "Root Mean Squared Error: 0.5584568622398413\n"
     ]
    }
   ],
   "source": [
    "from sklearn.ensemble import RandomForestRegressor\n",
    "from sklearn import metrics\n",
    "\n",
    "#Choosing the number of estimators that fits the model the best \n",
    "r2_value = []\n",
    "for i in range(100, 1100, 100):\n",
    "    model = RandomForestRegressor(n_estimators=i, random_state=0)\n",
    "    model.fit(X_train, y_train)\n",
    "    y_pred = model.predict(X_test)\n",
    "    r2_value.append((metrics.r2_score(y_test, y_pred),i))\n",
    "    print(\"R^2: {:.8f} n_estimators = {}\".format(metrics.r2_score(y_test, y_pred), i))\n",
    "\n",
    "r2 = pd.DataFrame(r2_value, columns = [\"R2\", \"n_estimators\"]).set_index(\"n_estimators\")\n",
    "n_est = r2.R2[r2.R2 == r2.R2.max()].index[0]\n",
    "\n",
    "\n",
    "model = RandomForestRegressor(n_estimators = n_est, random_state=0)\n",
    "model.fit(X_train, y_train)\n",
    "y_pred = model.predict(X_test)\n",
    "\n",
    "print()\n",
    "print(\"N_Estimators: \", n_est)\n",
    "print('Coefficients: \\n', model.feature_importances_)\n",
    "print(\"R^2: \", metrics.r2_score(y_test, y_pred))\n",
    "print(\"Variance Score: \", metrics.explained_variance_score(y_test, y_pred))\n",
    "print(\"Max Error: \", metrics.max_error(y_test, y_pred))\n",
    "print('Mean Absolute Error:', metrics.mean_absolute_error(y_test, y_pred))\n",
    "print('Mean Squared Error:', metrics.mean_squared_error(y_test, y_pred))\n",
    "print('Root Mean Squared Error:', np.sqrt(metrics.mean_squared_error(y_test, y_pred)))\n"
   ]
  },
  {
   "cell_type": "code",
   "execution_count": null,
   "metadata": {},
   "outputs": [],
   "source": [
    "model = [0.00478747, 0.01187511, 0.96564125, 0.00559602, 0.00683663, 0.00526352]\n",
    "\n",
    "(X_test[0] * model ).sum() "
   ]
  },
  {
   "cell_type": "code",
   "execution_count": 9,
   "metadata": {},
   "outputs": [
    {
     "data": {
      "text/html": [
       "<div>\n",
       "<style scoped>\n",
       "    .dataframe tbody tr th:only-of-type {\n",
       "        vertical-align: middle;\n",
       "    }\n",
       "\n",
       "    .dataframe tbody tr th {\n",
       "        vertical-align: top;\n",
       "    }\n",
       "\n",
       "    .dataframe thead th {\n",
       "        text-align: right;\n",
       "    }\n",
       "</style>\n",
       "<table border=\"1\" class=\"dataframe\">\n",
       "  <thead>\n",
       "    <tr style=\"text-align: right;\">\n",
       "      <th></th>\n",
       "      <th>Feature</th>\n",
       "      <th>Importance</th>\n",
       "    </tr>\n",
       "  </thead>\n",
       "  <tbody>\n",
       "    <tr>\n",
       "      <td>2</td>\n",
       "      <td>Open_USD</td>\n",
       "      <td>0.965641</td>\n",
       "    </tr>\n",
       "    <tr>\n",
       "      <td>1</td>\n",
       "      <td>Volume</td>\n",
       "      <td>0.011875</td>\n",
       "    </tr>\n",
       "    <tr>\n",
       "      <td>4</td>\n",
       "      <td>Reddit_Comment</td>\n",
       "      <td>0.006837</td>\n",
       "    </tr>\n",
       "    <tr>\n",
       "      <td>3</td>\n",
       "      <td>Twitter_Senti</td>\n",
       "      <td>0.005596</td>\n",
       "    </tr>\n",
       "    <tr>\n",
       "      <td>5</td>\n",
       "      <td>Reddit_SelfText</td>\n",
       "      <td>0.005264</td>\n",
       "    </tr>\n",
       "    <tr>\n",
       "      <td>0</td>\n",
       "      <td>News_Senti</td>\n",
       "      <td>0.004787</td>\n",
       "    </tr>\n",
       "  </tbody>\n",
       "</table>\n",
       "</div>"
      ],
      "text/plain": [
       "           Feature  Importance\n",
       "2         Open_USD    0.965641\n",
       "1           Volume    0.011875\n",
       "4   Reddit_Comment    0.006837\n",
       "3    Twitter_Senti    0.005596\n",
       "5  Reddit_SelfText    0.005264\n",
       "0       News_Senti    0.004787"
      ]
     },
     "execution_count": 9,
     "metadata": {},
     "output_type": "execute_result"
    }
   ],
   "source": [
    "fi = pd.DataFrame({'Feature': list(x.columns),\n",
    "                   'Importance': model.feature_importances_}).\\\n",
    "                    sort_values('Importance', ascending = False)\n",
    "fi"
   ]
  },
  {
   "cell_type": "markdown",
   "metadata": {},
   "source": [
    "# Linear Regression"
   ]
  },
  {
   "cell_type": "code",
   "execution_count": 5,
   "metadata": {
    "scrolled": false
   },
   "outputs": [
    {
     "name": "stdout",
     "output_type": "stream",
     "text": [
      "Coefficients: \n",
      " [ 4.07250436e-01 -1.09236387e-08  9.35981373e-01  1.19096664e-01\n",
      " -1.08655001e+00 -5.75836140e-02]\n",
      "Mean squared error: 0.27\n",
      "Coefficient of determination: 0.93043532\n",
      "Intercept:  2.4754100718997094\n"
     ]
    }
   ],
   "source": [
    "from sklearn.metrics import mean_squared_error, r2_score\n",
    "from sklearn.linear_model import LinearRegression\n",
    "\n",
    "regr = LinearRegression()\n",
    "regr.fit(X_train, y_train)\n",
    "y_pred = regr.predict(X_test)\n",
    "\n",
    "# The coefficients\n",
    "print('Coefficients: \\n', regr.coef_)\n",
    "# The mean squared error\n",
    "print('Mean squared error: %.2f'\n",
    "      % mean_squared_error(y_test, y_pred))\n",
    "# The coefficient of determination: 1 is perfect prediction\n",
    "print('Coefficient of determination: %.8f'\n",
    "      % r2_score(y_test, y_pred))\n",
    "# The intercept\n",
    "print(\"Intercept: \", regr.intercept_)"
   ]
  },
  {
   "cell_type": "markdown",
   "metadata": {},
   "source": [
    "# Visualization"
   ]
  },
  {
   "cell_type": "code",
   "execution_count": 7,
   "metadata": {},
   "outputs": [
    {
     "data": {
      "image/png": "[encoded data removed]",
      "text/plain": [
       "<Figure size 432x288 with 1 Axes>"
      ]
     },
     "metadata": {},
     "output_type": "display_data"
    }
   ],
   "source": [
    "import matplotlib.pyplot as plt\n",
    "\n",
    "# Plot outputs\n",
    "\n",
    "plt.plot(y_test, color = \"red\")\n",
    "plt.plot(y_pred, color = \"green\")\n",
    "\n",
    "\n",
    "plt.xticks(())\n",
    "plt.yticks(())\n",
    "\n",
    "plt.show()"
   ]
  },
  {
   "cell_type": "code",
   "execution_count": 8,
   "metadata": {
    "scrolled": true
   },
   "outputs": [
    {
     "data": {
      "text/html": [
       "<div>\n",
       "<style scoped>\n",
       "    .dataframe tbody tr th:only-of-type {\n",
       "        vertical-align: middle;\n",
       "    }\n",
       "\n",
       "    .dataframe tbody tr th {\n",
       "        vertical-align: top;\n",
       "    }\n",
       "\n",
       "    .dataframe thead th {\n",
       "        text-align: right;\n",
       "    }\n",
       "</style>\n",
       "<table border=\"1\" class=\"dataframe\">\n",
       "  <thead>\n",
       "    <tr style=\"text-align: right;\">\n",
       "      <th></th>\n",
       "      <th>Actual</th>\n",
       "      <th>Predicted</th>\n",
       "      <th>Difference</th>\n",
       "    </tr>\n",
       "  </thead>\n",
       "  <tbody>\n",
       "    <tr>\n",
       "      <td>0</td>\n",
       "      <td>40.056229</td>\n",
       "      <td>39.356954</td>\n",
       "      <td>-0.699275</td>\n",
       "    </tr>\n",
       "    <tr>\n",
       "      <td>1</td>\n",
       "      <td>39.177294</td>\n",
       "      <td>38.428678</td>\n",
       "      <td>-0.748616</td>\n",
       "    </tr>\n",
       "    <tr>\n",
       "      <td>2</td>\n",
       "      <td>40.312575</td>\n",
       "      <td>41.236436</td>\n",
       "      <td>0.923861</td>\n",
       "    </tr>\n",
       "    <tr>\n",
       "      <td>3</td>\n",
       "      <td>35.849020</td>\n",
       "      <td>36.341482</td>\n",
       "      <td>0.492462</td>\n",
       "    </tr>\n",
       "    <tr>\n",
       "      <td>4</td>\n",
       "      <td>40.273477</td>\n",
       "      <td>39.932183</td>\n",
       "      <td>-0.341293</td>\n",
       "    </tr>\n",
       "    <tr>\n",
       "      <td>...</td>\n",
       "      <td>...</td>\n",
       "      <td>...</td>\n",
       "      <td>...</td>\n",
       "    </tr>\n",
       "    <tr>\n",
       "      <td>76</td>\n",
       "      <td>41.821004</td>\n",
       "      <td>42.077256</td>\n",
       "      <td>0.256252</td>\n",
       "    </tr>\n",
       "    <tr>\n",
       "      <td>77</td>\n",
       "      <td>41.928229</td>\n",
       "      <td>42.148178</td>\n",
       "      <td>0.219949</td>\n",
       "    </tr>\n",
       "    <tr>\n",
       "      <td>78</td>\n",
       "      <td>34.081815</td>\n",
       "      <td>34.635833</td>\n",
       "      <td>0.554018</td>\n",
       "    </tr>\n",
       "    <tr>\n",
       "      <td>79</td>\n",
       "      <td>35.728689</td>\n",
       "      <td>35.513194</td>\n",
       "      <td>-0.215495</td>\n",
       "    </tr>\n",
       "    <tr>\n",
       "      <td>80</td>\n",
       "      <td>37.891660</td>\n",
       "      <td>38.048708</td>\n",
       "      <td>0.157048</td>\n",
       "    </tr>\n",
       "  </tbody>\n",
       "</table>\n",
       "<p>81 rows × 3 columns</p>\n",
       "</div>"
      ],
      "text/plain": [
       "       Actual  Predicted  Difference\n",
       "0   40.056229  39.356954   -0.699275\n",
       "1   39.177294  38.428678   -0.748616\n",
       "2   40.312575  41.236436    0.923861\n",
       "3   35.849020  36.341482    0.492462\n",
       "4   40.273477  39.932183   -0.341293\n",
       "..        ...        ...         ...\n",
       "76  41.821004  42.077256    0.256252\n",
       "77  41.928229  42.148178    0.219949\n",
       "78  34.081815  34.635833    0.554018\n",
       "79  35.728689  35.513194   -0.215495\n",
       "80  37.891660  38.048708    0.157048\n",
       "\n",
       "[81 rows x 3 columns]"
      ]
     },
     "execution_count": 8,
     "metadata": {},
     "output_type": "execute_result"
    }
   ],
   "source": [
    "test = pd.DataFrame({'Actual': y_test, 'Predicted': y_pred, 'Difference': (y_pred - y_test)})\n",
    "test\n"
   ]
  },
  {
   "cell_type": "markdown",
   "metadata": {},
   "source": [
    "# NOT USED"
   ]
  },
  {
   "cell_type": "code",
   "execution_count": null,
   "metadata": {},
   "outputs": [],
   "source": [
    "# import eli5\n",
    "# from eli5.sklearn import PermutationImportance\n",
    "\n",
    "# feature = df.loc[:,df.columns != 'Adj_Close_USD'].columns.values.tolist()\n",
    "\n",
    "# feature_x = []\n",
    "# for i in range(6):\n",
    "#     feature_x.append(\"x\" + str(i))\n",
    "# feature_x\n",
    "\n",
    "# weight_relation = pd.DataFrame({\"Columns\" : feature, \n",
    "#                                 \"Feature\" : feature_x}).set_index(\"Feature\")\n",
    "# print(weight_relation)\n",
    "\n",
    "\n",
    "# perm = PermutationImportance(text_classifier).fit(X_test, y_test)\n",
    "# eli5.show_weights(perm)\n",
    "\n"
   ]
  },
  {
   "cell_type": "code",
   "execution_count": null,
   "metadata": {},
   "outputs": [],
   "source": []
  },
  {
   "cell_type": "markdown",
   "metadata": {},
   "source": [
    "# K Nearest Neighbours"
   ]
  },
  {
   "cell_type": "code",
   "execution_count": 10,
   "metadata": {},
   "outputs": [
    {
     "name": "stdout",
     "output_type": "stream",
     "text": [
      "           0\n",
      "0   3.049429\n",
      "1   2.532204\n",
      "2   2.441639\n",
      "3   2.334015\n",
      "4   2.307908\n",
      "5   2.248404\n",
      "6   2.223232\n",
      "7   2.117851\n",
      "8   2.130005\n",
      "9   2.137744\n",
      "10  2.107699\n",
      "11  2.120138\n",
      "12  2.104619\n",
      "13  2.114095\n",
      "14  2.106457\n",
      "15  2.086551\n",
      "16  2.088655\n",
      "17  2.075051\n",
      "18  2.058484\n",
      "19  2.081496\n"
     ]
    },
    {
     "ename": "NameError",
     "evalue": "name 'rmse' is not defined",
     "output_type": "error",
     "traceback": [
      "\u001b[1;31m---------------------------------------------------------------------------\u001b[0m",
      "\u001b[1;31mNameError\u001b[0m                                 Traceback (most recent call last)",
      "\u001b[1;32m<ipython-input-10-977174ac9dfc>\u001b[0m in \u001b[0;36m<module>\u001b[1;34m\u001b[0m\n\u001b[0;32m     15\u001b[0m \u001b[0mrmse_val\u001b[0m \u001b[1;33m=\u001b[0m \u001b[0mpd\u001b[0m\u001b[1;33m.\u001b[0m\u001b[0mDataFrame\u001b[0m\u001b[1;33m(\u001b[0m\u001b[0mrmse_val\u001b[0m\u001b[1;33m)\u001b[0m\u001b[1;33m\u001b[0m\u001b[1;33m\u001b[0m\u001b[0m\n\u001b[0;32m     16\u001b[0m \u001b[0mprint\u001b[0m\u001b[1;33m(\u001b[0m\u001b[0mrmse_val\u001b[0m\u001b[1;33m)\u001b[0m\u001b[1;33m\u001b[0m\u001b[1;33m\u001b[0m\u001b[0m\n\u001b[1;32m---> 17\u001b[1;33m \u001b[0mprint\u001b[0m\u001b[1;33m(\u001b[0m\u001b[0mrmse\u001b[0m\u001b[1;33m)\u001b[0m\u001b[1;33m\u001b[0m\u001b[1;33m\u001b[0m\u001b[0m\n\u001b[0m",
      "\u001b[1;31mNameError\u001b[0m: name 'rmse' is not defined"
     ]
    }
   ],
   "source": [
    "from sklearn import neighbors\n",
    "from sklearn.metrics import mean_squared_error \n",
    "from math import sqrt\n",
    "\n",
    "rmse_val = [] #to store rmse values for different k\n",
    "for K in range(20):\n",
    "    K = K+1\n",
    "    model = neighbors.KNeighborsRegressor(n_neighbors = K)\n",
    "\n",
    "    model.fit(X_train, y_train)  #fit the model\n",
    "    pred=model.predict(X_test) #make prediction on test set\n",
    "    error = sqrt(mean_squared_error(y_test, pred)) #calculate rmse\n",
    "    rmse_val.append(error) #store rmse values\n",
    "    \n",
    "rmse_val = pd.DataFrame(rmse_val)\n",
    "print(rmse_val)\n",
    "print(rmse)"
   ]
  },
  {
   "cell_type": "code",
   "execution_count": 11,
   "metadata": {},
   "outputs": [
    {
     "name": "stdout",
     "output_type": "stream",
     "text": [
      "K =  6\n"
     ]
    }
   ],
   "source": [
    "from sklearn import neighbors\n",
    "from sklearn.metrics import mean_squared_error \n",
    "from math import sqrt\n",
    "import numpy as np\n",
    "\n",
    "rmse_val = [] #to store rmse values for different k\n",
    "for K in range(7):\n",
    "    K = K+1\n",
    "    model = neighbors.KNeighborsRegressor(n_neighbors = K)\n",
    "\n",
    "    model.fit(X_train, y_train)  #fit the model\n",
    "    pred=model.predict(X_test) #make prediction on test set\n",
    "    error = sqrt(mean_squared_error(y_test, pred)) #calculate rmse\n",
    "    rmse_val.append(error) #store rmse values\n",
    "    \n",
    "rmse_val = pd.DataFrame(rmse_val)\n",
    "# print(rmse_val)\n",
    "print(\"K = \",rmse_val.idxmin()[0])"
   ]
  },
  {
   "cell_type": "code",
   "execution_count": 12,
   "metadata": {},
   "outputs": [
    {
     "name": "stdout",
     "output_type": "stream",
     "text": [
      "R^2:  -0.2790098713178073\n",
      "Variance Score:  -0.2765168402124403\n",
      "Max Error:  5.2520608666666675\n",
      "Mean Absolute Error: 1.7940409752263369\n",
      "Mean Squared Error: 5.055322254635389\n",
      "Root Mean Squared Error: 2.2484043796958297\n"
     ]
    }
   ],
   "source": [
    "from sklearn import metrics\n",
    "from sklearn import neighbors\n",
    "from math import sqrt\n",
    "\n",
    "\n",
    "\n",
    "\n",
    "knn = neighbors.KNeighborsRegressor(n_neighbors = 6)\n",
    "knn.fit(X_train, y_train)\n",
    "y_pred = knn.predict(X_test)\n",
    "\n",
    "\n",
    "print(\"R^2: \", metrics.r2_score(y_test, y_pred))\n",
    "print(\"Variance Score: \", metrics.explained_variance_score(y_test, y_pred))\n",
    "print(\"Max Error: \", metrics.max_error(y_test, y_pred))\n",
    "print('Mean Absolute Error:', metrics.mean_absolute_error(y_test, y_pred))\n",
    "print('Mean Squared Error:', metrics.mean_squared_error(y_test, y_pred))\n",
    "print('Root Mean Squared Error:', np.sqrt(metrics.mean_squared_error(y_test, y_pred)))\n"
   ]
  },
  {
   "cell_type": "code",
   "execution_count": null,
   "metadata": {},
   "outputs": [],
   "source": []
  },
  {
   "cell_type": "markdown",
   "metadata": {},
   "source": [
    "# CLASSIFIER"
   ]
  },
  {
   "cell_type": "code",
   "execution_count": null,
   "metadata": {},
   "outputs": [],
   "source": [
    "#Classifier\n",
    "\n",
    "# df1 = pd.read_csv(r\"C:\\Users\\Jurgen\\Desktop\\FYP\\News\\SK-Learn\\News_Stock_Data_30.csv\")\n",
    "# X = df1[\"News_Senti\"].to_numpy().reshape(-1, 1)\n",
    "# y = df1[\"Stock_Changes\"].to_numpy()\n",
    "# df1"
   ]
  },
  {
   "cell_type": "code",
   "execution_count": null,
   "metadata": {},
   "outputs": [],
   "source": [
    "# from sklearn.ensemble import RandomForestClassifier\n",
    "# from sklearn import metrics\n",
    "\n",
    "# clf = RandomForestClassifier(n_estimators=100)\n",
    "# clf.fit(X_train, y_train)\n",
    "\n",
    "# y_pred = clf.predict(X_test)\n",
    "# # Model Accuracy, how often is the classifier correct?\n",
    "# print(\"Accuracy:\",metrics.accuracy_score(y_test, y_pred))"
   ]
  },
  {
   "cell_type": "code",
   "execution_count": null,
   "metadata": {},
   "outputs": [],
   "source": [
    "# count = 0\n",
    "# for i in range(len(y_test)):\n",
    "#     if y_test[i] == y_pred[i]:\n",
    "#         count += 1\n",
    "# print(count, '/', len(y_test))\n",
    "# print(y_test)\n",
    "# print(y_pred)"
   ]
  }
 ],
 "metadata": {
  "kernelspec": {
   "display_name": "Python 3",
   "language": "python",
   "name": "python3"
  },
  "language_info": {
   "codemirror_mode": {
    "name": "ipython",
    "version": 3
   },
   "file_extension": ".py",
   "mimetype": "text/x-python",
   "name": "python",
   "nbconvert_exporter": "python",
   "pygments_lexer": "ipython3",
   "version": "3.7.4"
  }
 },
 "nbformat": 4,
 "nbformat_minor": 2
}
