{
 "cells": [
  {
   "cell_type": "code",
   "execution_count": 46,
   "metadata": {},
   "outputs": [
    {
     "name": "stdout",
     "output_type": "stream",
     "text": [
      "Requirement already satisfied: yfinance in c:\\users\\jurgen\\anaconda3\\lib\\site-packages (0.1.52)\n",
      "Requirement already satisfied: numpy>=1.15 in c:\\users\\jurgen\\anaconda3\\lib\\site-packages (from yfinance) (1.16.5)\n",
      "Requirement already satisfied: requests>=2.20 in c:\\users\\jurgen\\anaconda3\\lib\\site-packages (from yfinance) (2.22.0)\n",
      "Requirement already satisfied: multitasking>=0.0.7 in c:\\users\\jurgen\\anaconda3\\lib\\site-packages (from yfinance) (0.0.9)\n",
      "Requirement already satisfied: pandas>=0.24 in c:\\users\\jurgen\\anaconda3\\lib\\site-packages (from yfinance) (0.25.1)\n",
      "Requirement already satisfied: idna<2.9,>=2.5 in c:\\users\\jurgen\\anaconda3\\lib\\site-packages (from requests>=2.20->yfinance) (2.8)\n",
      "Requirement already satisfied: urllib3!=1.25.0,!=1.25.1,<1.26,>=1.21.1 in c:\\users\\jurgen\\anaconda3\\lib\\site-packages (from requests>=2.20->yfinance) (1.24.2)\n",
      "Requirement already satisfied: chardet<3.1.0,>=3.0.2 in c:\\users\\jurgen\\anaconda3\\lib\\site-packages (from requests>=2.20->yfinance) (3.0.4)\n",
      "Requirement already satisfied: certifi>=2017.4.17 in c:\\users\\jurgen\\anaconda3\\lib\\site-packages (from requests>=2.20->yfinance) (2019.9.11)\n",
      "Requirement already satisfied: pytz>=2017.2 in c:\\users\\jurgen\\anaconda3\\lib\\site-packages (from pandas>=0.24->yfinance) (2019.3)\n",
      "Requirement already satisfied: python-dateutil>=2.6.1 in c:\\users\\jurgen\\anaconda3\\lib\\site-packages (from pandas>=0.24->yfinance) (2.8.0)\n",
      "Requirement already satisfied: six>=1.5 in c:\\users\\jurgen\\anaconda3\\lib\\site-packages (from python-dateutil>=2.6.1->pandas>=0.24->yfinance) (1.12.0)\n"
     ]
    }
   ],
   "source": [
    "!pip install yfinance\n",
    "import yfinance as yf"
   ]
  },
  {
   "cell_type": "code",
   "execution_count": 51,
   "metadata": {},
   "outputs": [
    {
     "name": "stdout",
     "output_type": "stream",
     "text": [
      "Please input the start date to be extracted(yyyy-mm-dd): 2018-07-01\n",
      "Please input the start date to be extracted(yyyy-mm-dd): 2019-11-01\n"
     ]
    }
   ],
   "source": [
    "stock = input(\"Please input which stock you would like to extract in its index format: \")\n",
    "fromdate = input(\"Please input the start date to be extracted(yyyy-mm-dd): \")\n",
    "todate = input(\"Please input the start date to be extracted(yyyy-mm-dd): \")\n",
    "\n",
    "# fromdate_convert = int(datetime.datetime(int(fromdate[-4::]), int(fromdate[3:5]), int(fromdate[:2]), 0, 0).timestamp())\n",
    "# todate_convert = int(datetime.datetime(int(todate[-4::]), int(todate[3:5]), int(todate[:2]), 0, 0).timestamp())"
   ]
  },
  {
   "cell_type": "code",
   "execution_count": 52,
   "metadata": {},
   "outputs": [
    {
     "name": "stdout",
     "output_type": "stream",
     "text": [
      "[*********************100%***********************]  2 of 2 completed\n"
     ]
    }
   ],
   "source": [
    "data = yf.download(\"SPY AAPL\", start = fromdate, end = todate)\n",
    "data.to_csv(r\"C:\\\\Users\\\\Jurgen\\\\Desktop\\\\FYP\\\\News\\\\Classes\\\\\" + stock + \".csv\")"
   ]
  },
  {
   "cell_type": "markdown",
   "metadata": {},
   "source": [
    "url = \"https://query1.finance.yahoo.com/v7/finance/download/\" + stock+ \"?period1=\" + str(fromdate_convert) + \"&period2=\" + str(todate_convert) + \"&interval=1d&events=history&crumb=1hWFtq2R5Kw\"\n",
    "\n",
    "stockfile = requests.get(url, allow_redirects = True)\n",
    "\n",
    "open(r\"C:\\\\Users\\\\Jurgen\\\\Desktop\\\\FYP\\\\News\\\\Classes\\\\\" + stock + \".csv\", \"wb\").write(stockfile.content)"
   ]
  }
 ],
 "metadata": {
  "kernelspec": {
   "display_name": "Python 3",
   "language": "python",
   "name": "python3"
  },
  "language_info": {
   "codemirror_mode": {
    "name": "ipython",
    "version": 3
   },
   "file_extension": ".py",
   "mimetype": "text/x-python",
   "name": "python",
   "nbconvert_exporter": "python",
   "pygments_lexer": "ipython3",
   "version": "3.7.4"
  }
 },
 "nbformat": 4,
 "nbformat_minor": 2
}
