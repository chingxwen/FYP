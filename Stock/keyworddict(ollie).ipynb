{
 "cells": [
  {
   "cell_type": "code",
   "execution_count": null,
   "metadata": {},
   "outputs": [],
   "source": [
    "keyword_dict = {\n",
    "    \"samsung galaxy\":\"phone\",\n",
    "    \"samsung group\":\"company\"\n",
    "}"
   ]
  },
  {
   "cell_type": "code",
   "execution_count": null,
   "metadata": {},
   "outputs": [],
   "source": [
    "keyword_dict = {\n",
    "    \"samsung galaxy\":\"samsung\",\n",
    "    \"samsung group\":\"samsung\"\n",
    "}"
   ]
  },
  {
   "cell_type": "code",
   "execution_count": null,
   "metadata": {},
   "outputs": [],
   "source": [
    "keyword_dict = {\n",
    "    [\"samsung\",\"galaxy\", \"samsung galaxy\", \"samsung group\", \"samsung technologies\",\"galaxy s10\", \"galaxy note 10\"]:\"samsung\"\n",
    "}\n",
    "\n",
    "print(keyword_dict)"
   ]
  },
  {
   "cell_type": "code",
   "execution_count": null,
   "metadata": {},
   "outputs": [],
   "source": [
    "# Creating an empty dict \n",
    "myDict = dict() \n",
    "  \n",
    "# Creating a list \n",
    "valList = ['samsung', 'galaxy', 'note10'] \n",
    "  \n",
    "# Iterating the elements in list \n",
    "for val in valList: \n",
    "    for ele in range(int(val), int(val) + 2):  \n",
    "        myDict.setdefault(ele, []).append(val) \n",
    "  \n",
    "print(myDict) "
   ]
  },
  {
   "cell_type": "code",
   "execution_count": null,
   "metadata": {},
   "outputs": [],
   "source": [
    "list = [\"samsung\",\"galaxy\", \"samsung galaxy\", \"samsung group\", \n",
    "        \"samsung technologies\",\"galaxy s10\", \"galaxy note10\", \"galaxy fold\", \n",
    "        \"galaxy s10+\", \"galaxy s10e\", \"galaxy buds\", \"galaxy watch\", \"watch active 2\",\n",
    "        \"galaxy tab\", \"tab S6\", \"galaxy book S\", \"samsung electronics\", \"samsung x IFA 2019\", \n",
    "        \"the wall luxury\", \"Q series soundbar\", \"seoul sisters conference\", \n",
    "        \" Samsung Semiconductor Institute of Technology\", \"galaxy A30\", \"galaxy S11\", \n",
    "        \"a70 waterproof\", \"a70 wireless charging\", \"s10 plus\", \"s7 edge\", \"galaxy m30\", \"galaxy j7\", \n",
    "       \"galaxy j2\", \"galaxy a10\", \"space zoom\", \"samsung support\", \"the serif\", \"#dowhatyoucant\", \"spacemax\", \n",
    "       \"galaxy A\", \"galaxy note\", \"QLED\", \"quickdrive\", \"s series\", \"galaxyAs\", \"samsung mobile\", \"SamsungMobileSA\",\n",
    "       \"#DontFumbleTheBag\", \"galaxy a30s\", \"#FillUpRoyalBafokeng\", \"#SDC19\", \"galaxy buds\", ]\n",
    "\n",
    "print(list)"
   ]
  },
  {
   "cell_type": "code",
   "execution_count": null,
   "metadata": {},
   "outputs": [],
   "source": [
    "list_apple = [\"apple inc\", \"iphone\", \"ipad\", \"itunes\", \"macbook\", \"mac pro\", \"apple watch\", \"apple tv\", \"macbook air\",\n",
    "             \"mac accessories\", \"apple watch series\", \"iOS\", \"airpods\", \"apple arcade\", \"icloud\", \"imessage\", \"11 pro\", \n",
    "              \"series 5\", \"catalina\", \"pro display XDR\", \"macbook pro\", \"imac\", \"imac pro\", \"mac mini\", \"macOS\", \"imovie\", \n",
    "             \"apple keynote\", \"apple garageband\", \"final cut pro\", \"tv+\", \"apple education\", \"ipadOS\", \"apple pencil\",\n",
    "              \"ipad mini\", \"ipad pro\", \"ipad air\", \"smart keyboard folio\", \"apple pay\", \"iphone XR\", \"series 3\", \"apple watch hermes\",\n",
    "             \"apple watch nike\", \"apple music\", \"apple tv 4k\", \"airplay\", \"ipod\", \"ipod touch\", \"logic pro X\", \"Music Memos\", \n",
    "             \"mainstage 3\"]"
   ]
  }
 ],
 "metadata": {
  "kernelspec": {
   "display_name": "Python 3",
   "language": "python",
   "name": "python3"
  },
  "language_info": {
   "codemirror_mode": {
    "name": "ipython",
    "version": 3
   },
   "file_extension": ".py",
   "mimetype": "text/x-python",
   "name": "python",
   "nbconvert_exporter": "python",
   "pygments_lexer": "ipython3",
   "version": "3.7.4"
  }
 },
 "nbformat": 4,
 "nbformat_minor": 2
}
