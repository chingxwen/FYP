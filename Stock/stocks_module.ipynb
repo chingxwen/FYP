{
 "cells": [
  {
   "cell_type": "code",
   "execution_count": 2,
   "metadata": {},
   "outputs": [
    {
     "ename": "ModuleNotFoundError",
     "evalue": "No module named 'Stocks'",
     "output_type": "error",
     "traceback": [
      "\u001b[1;31m---------------------------------------------------------------------------\u001b[0m",
      "\u001b[1;31mModuleNotFoundError\u001b[0m                       Traceback (most recent call last)",
      "\u001b[1;32m<ipython-input-2-83840e8c9f03>\u001b[0m in \u001b[0;36m<module>\u001b[1;34m\u001b[0m\n\u001b[1;32m----> 1\u001b[1;33m \u001b[1;32mimport\u001b[0m \u001b[0mStocks\u001b[0m\u001b[1;33m\u001b[0m\u001b[1;33m\u001b[0m\u001b[0m\n\u001b[0m\u001b[0;32m      2\u001b[0m \u001b[1;33m\u001b[0m\u001b[0m\n\u001b[0;32m      3\u001b[0m stocks_extract = Stocks.StockData(input(\"Please input the start date to be extracted(yyyy-mm-dd): \"),\n\u001b[0;32m      4\u001b[0m                   \u001b[0minput\u001b[0m\u001b[1;33m(\u001b[0m\u001b[1;34m\"Please input the end date to be extracted(yyyy-mm-dd): \"\u001b[0m\u001b[1;33m)\u001b[0m\u001b[1;33m,\u001b[0m\u001b[1;33m\u001b[0m\u001b[1;33m\u001b[0m\u001b[0m\n\u001b[0;32m      5\u001b[0m                   input(\"Please input which stock you would like to extract in its index format: \"))\n",
      "\u001b[1;31mModuleNotFoundError\u001b[0m: No module named 'Stocks'"
     ]
    }
   ],
   "source": [
    "import Stocks\n",
    "\n",
    "stocks_extract = Stocks.StockData(input(\"Please input the start date to be extracted(yyyy-mm-dd): \"),\n",
    "                  input(\"Please input the end date to be extracted(yyyy-mm-dd): \"),\n",
    "                  input(\"Please input which stock you would like to extract in its index format: \"))\n",
    "ExtractData = stocks_extract.yfinance_scraper()\n",
    "CleansedData = stocks_extract.cleanse_stock()\n",
    "PreparedData = stocks_extract.prepare_stock(CleansedData)\n",
    "\n",
    "print(PreparedData)"
   ]
  },
  {
   "cell_type": "code",
   "execution_count": null,
   "metadata": {},
   "outputs": [],
   "source": []
  }
 ],
 "metadata": {
  "kernelspec": {
   "display_name": "Python 3",
   "language": "python",
   "name": "python3"
  },
  "language_info": {
   "codemirror_mode": {
    "name": "ipython",
    "version": 3
   },
   "file_extension": ".py",
   "mimetype": "text/x-python",
   "name": "python",
   "nbconvert_exporter": "python",
   "pygments_lexer": "ipython3",
   "version": "3.7.4"
  }
 },
 "nbformat": 4,
 "nbformat_minor": 2
}
